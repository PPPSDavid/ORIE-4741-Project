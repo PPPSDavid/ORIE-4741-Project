{
 "cells": [
  {
   "cell_type": "markdown",
   "id": "a6efa509",
   "metadata": {},
   "source": [
    "# Exploratory Data Analysis"
   ]
  },
  {
   "cell_type": "code",
   "execution_count": 1,
   "id": "b5b069bf",
   "metadata": {},
   "outputs": [],
   "source": [
    "import numpy as np\n",
    "import pandas as pd\n",
    "import matplotlib.pyplot as plt \n",
    "import seaborn as sns\n",
    "from datetime import datetime"
   ]
  },
  {
   "cell_type": "code",
   "execution_count": 2,
   "id": "0a3d11ae",
   "metadata": {},
   "outputs": [
    {
     "name": "stderr",
     "output_type": "stream",
     "text": [
      "D:\\Anaconda\\lib\\site-packages\\IPython\\core\\interactiveshell.py:3165: DtypeWarning: Columns (39,41,42) have mixed types.Specify dtype option on import or set low_memory=False.\n",
      "  has_raised = await self.run_ast_nodes(code_ast.body, cell_name,\n"
     ]
    },
    {
     "data": {
      "text/html": [
       "<div>\n",
       "<style scoped>\n",
       "    .dataframe tbody tr th:only-of-type {\n",
       "        vertical-align: middle;\n",
       "    }\n",
       "\n",
       "    .dataframe tbody tr th {\n",
       "        vertical-align: top;\n",
       "    }\n",
       "\n",
       "    .dataframe thead th {\n",
       "        text-align: right;\n",
       "    }\n",
       "</style>\n",
       "<table border=\"1\" class=\"dataframe\">\n",
       "  <thead>\n",
       "    <tr style=\"text-align: right;\">\n",
       "      <th></th>\n",
       "      <th>Unnamed: 0</th>\n",
       "      <th>Year</th>\n",
       "      <th>Quarter</th>\n",
       "      <th>Month</th>\n",
       "      <th>DayofMonth</th>\n",
       "      <th>DayOfWeek</th>\n",
       "      <th>FlightDate</th>\n",
       "      <th>Reporting_Airline</th>\n",
       "      <th>DOT_ID_Reporting_Airline</th>\n",
       "      <th>Flight_Number_Reporting_Airline</th>\n",
       "      <th>...</th>\n",
       "      <th>Snow</th>\n",
       "      <th>Storm</th>\n",
       "      <th>Other Precipitation</th>\n",
       "      <th>Severe-Cold_Severity</th>\n",
       "      <th>Fog_Severity</th>\n",
       "      <th>Hail_Severity</th>\n",
       "      <th>Rain_Severity</th>\n",
       "      <th>Snow_Severity</th>\n",
       "      <th>Storm_Severity</th>\n",
       "      <th>Other Precipitation_Severity</th>\n",
       "    </tr>\n",
       "  </thead>\n",
       "  <tbody>\n",
       "    <tr>\n",
       "      <th>0</th>\n",
       "      <td>0</td>\n",
       "      <td>2016</td>\n",
       "      <td>1</td>\n",
       "      <td>1</td>\n",
       "      <td>6</td>\n",
       "      <td>3</td>\n",
       "      <td>2016-01-06</td>\n",
       "      <td>AA</td>\n",
       "      <td>19805</td>\n",
       "      <td>43</td>\n",
       "      <td>...</td>\n",
       "      <td>False</td>\n",
       "      <td>False</td>\n",
       "      <td>False</td>\n",
       "      <td>NaN</td>\n",
       "      <td>NaN</td>\n",
       "      <td>NaN</td>\n",
       "      <td>NaN</td>\n",
       "      <td>NaN</td>\n",
       "      <td>NaN</td>\n",
       "      <td>NaN</td>\n",
       "    </tr>\n",
       "    <tr>\n",
       "      <th>1</th>\n",
       "      <td>1</td>\n",
       "      <td>2016</td>\n",
       "      <td>1</td>\n",
       "      <td>1</td>\n",
       "      <td>7</td>\n",
       "      <td>4</td>\n",
       "      <td>2016-01-07</td>\n",
       "      <td>AA</td>\n",
       "      <td>19805</td>\n",
       "      <td>43</td>\n",
       "      <td>...</td>\n",
       "      <td>False</td>\n",
       "      <td>False</td>\n",
       "      <td>False</td>\n",
       "      <td>NaN</td>\n",
       "      <td>NaN</td>\n",
       "      <td>NaN</td>\n",
       "      <td>NaN</td>\n",
       "      <td>NaN</td>\n",
       "      <td>NaN</td>\n",
       "      <td>NaN</td>\n",
       "    </tr>\n",
       "    <tr>\n",
       "      <th>2</th>\n",
       "      <td>2</td>\n",
       "      <td>2016</td>\n",
       "      <td>1</td>\n",
       "      <td>1</td>\n",
       "      <td>8</td>\n",
       "      <td>5</td>\n",
       "      <td>2016-01-08</td>\n",
       "      <td>AA</td>\n",
       "      <td>19805</td>\n",
       "      <td>43</td>\n",
       "      <td>...</td>\n",
       "      <td>False</td>\n",
       "      <td>False</td>\n",
       "      <td>False</td>\n",
       "      <td>NaN</td>\n",
       "      <td>NaN</td>\n",
       "      <td>NaN</td>\n",
       "      <td>NaN</td>\n",
       "      <td>NaN</td>\n",
       "      <td>NaN</td>\n",
       "      <td>NaN</td>\n",
       "    </tr>\n",
       "    <tr>\n",
       "      <th>3</th>\n",
       "      <td>3</td>\n",
       "      <td>2016</td>\n",
       "      <td>1</td>\n",
       "      <td>1</td>\n",
       "      <td>9</td>\n",
       "      <td>6</td>\n",
       "      <td>2016-01-09</td>\n",
       "      <td>AA</td>\n",
       "      <td>19805</td>\n",
       "      <td>43</td>\n",
       "      <td>...</td>\n",
       "      <td>False</td>\n",
       "      <td>False</td>\n",
       "      <td>False</td>\n",
       "      <td>NaN</td>\n",
       "      <td>NaN</td>\n",
       "      <td>NaN</td>\n",
       "      <td>NaN</td>\n",
       "      <td>NaN</td>\n",
       "      <td>NaN</td>\n",
       "      <td>NaN</td>\n",
       "    </tr>\n",
       "    <tr>\n",
       "      <th>4</th>\n",
       "      <td>4</td>\n",
       "      <td>2016</td>\n",
       "      <td>1</td>\n",
       "      <td>1</td>\n",
       "      <td>10</td>\n",
       "      <td>7</td>\n",
       "      <td>2016-01-10</td>\n",
       "      <td>AA</td>\n",
       "      <td>19805</td>\n",
       "      <td>43</td>\n",
       "      <td>...</td>\n",
       "      <td>False</td>\n",
       "      <td>False</td>\n",
       "      <td>False</td>\n",
       "      <td>NaN</td>\n",
       "      <td>NaN</td>\n",
       "      <td>NaN</td>\n",
       "      <td>NaN</td>\n",
       "      <td>NaN</td>\n",
       "      <td>NaN</td>\n",
       "      <td>NaN</td>\n",
       "    </tr>\n",
       "  </tbody>\n",
       "</table>\n",
       "<p>5 rows × 44 columns</p>\n",
       "</div>"
      ],
      "text/plain": [
       "   Unnamed: 0  Year  Quarter  Month  DayofMonth  DayOfWeek  FlightDate  \\\n",
       "0           0  2016        1      1           6          3  2016-01-06   \n",
       "1           1  2016        1      1           7          4  2016-01-07   \n",
       "2           2  2016        1      1           8          5  2016-01-08   \n",
       "3           3  2016        1      1           9          6  2016-01-09   \n",
       "4           4  2016        1      1          10          7  2016-01-10   \n",
       "\n",
       "  Reporting_Airline  DOT_ID_Reporting_Airline  \\\n",
       "0                AA                     19805   \n",
       "1                AA                     19805   \n",
       "2                AA                     19805   \n",
       "3                AA                     19805   \n",
       "4                AA                     19805   \n",
       "\n",
       "   Flight_Number_Reporting_Airline  ...   Snow  Storm Other Precipitation  \\\n",
       "0                               43  ...  False  False               False   \n",
       "1                               43  ...  False  False               False   \n",
       "2                               43  ...  False  False               False   \n",
       "3                               43  ...  False  False               False   \n",
       "4                               43  ...  False  False               False   \n",
       "\n",
       "  Severe-Cold_Severity Fog_Severity Hail_Severity  Rain_Severity  \\\n",
       "0                  NaN          NaN           NaN            NaN   \n",
       "1                  NaN          NaN           NaN            NaN   \n",
       "2                  NaN          NaN           NaN            NaN   \n",
       "3                  NaN          NaN           NaN            NaN   \n",
       "4                  NaN          NaN           NaN            NaN   \n",
       "\n",
       "   Snow_Severity  Storm_Severity  Other Precipitation_Severity  \n",
       "0            NaN             NaN                           NaN  \n",
       "1            NaN             NaN                           NaN  \n",
       "2            NaN             NaN                           NaN  \n",
       "3            NaN             NaN                           NaN  \n",
       "4            NaN             NaN                           NaN  \n",
       "\n",
       "[5 rows x 44 columns]"
      ]
     },
     "execution_count": 2,
     "metadata": {},
     "output_type": "execute_result"
    }
   ],
   "source": [
    "df = pd.read_csv('2016_to_2020_flight_null_values.csv')\n",
    "df.head()"
   ]
  },
  {
   "cell_type": "code",
   "execution_count": 3,
   "id": "ee0469a2",
   "metadata": {},
   "outputs": [
    {
     "data": {
      "text/plain": [
       "Index(['Unnamed: 0', 'Year', 'Quarter', 'Month', 'DayofMonth', 'DayOfWeek',\n",
       "       'FlightDate', 'Reporting_Airline', 'DOT_ID_Reporting_Airline',\n",
       "       'Flight_Number_Reporting_Airline', 'Origin', 'OriginCityName',\n",
       "       'OriginState', 'Dest', 'DestCityName', 'DestState', 'CRSDepTime',\n",
       "       'DepTime', 'DepDelay', 'TaxiOut', 'WheelsOff', 'WheelsOn', 'TaxiIn',\n",
       "       'CRSArrTime', 'ArrTime', 'ArrDelay', 'CRSElapsedTime', 'Distance',\n",
       "       'DepTimeLocal', 'DepTimeUTC', 'Severe-Cold', 'Fog', 'Hail', 'Rain',\n",
       "       'Snow', 'Storm', 'Other Precipitation', 'Severe-Cold_Severity',\n",
       "       'Fog_Severity', 'Hail_Severity', 'Rain_Severity', 'Snow_Severity',\n",
       "       'Storm_Severity', 'Other Precipitation_Severity'],\n",
       "      dtype='object')"
      ]
     },
     "execution_count": 3,
     "metadata": {},
     "output_type": "execute_result"
    }
   ],
   "source": [
    "df.columns"
   ]
  },
  {
   "cell_type": "code",
   "execution_count": 4,
   "id": "9d943e72",
   "metadata": {},
   "outputs": [],
   "source": [
    "df['is_late'] = df['ArrDelay'] > 0"
   ]
  },
  {
   "cell_type": "code",
   "execution_count": 5,
   "id": "c9051762",
   "metadata": {
    "scrolled": true
   },
   "outputs": [
    {
     "data": {
      "text/plain": [
       "0    False\n",
       "1    False\n",
       "2     True\n",
       "3    False\n",
       "4     True\n",
       "Name: is_late, dtype: bool"
      ]
     },
     "execution_count": 5,
     "metadata": {},
     "output_type": "execute_result"
    }
   ],
   "source": [
    "df['is_late'].head()"
   ]
  },
  {
   "cell_type": "code",
   "execution_count": 6,
   "id": "f80f0ae6",
   "metadata": {},
   "outputs": [
    {
     "data": {
      "text/plain": [
       "0     -6.0\n",
       "1    -12.0\n",
       "2      7.0\n",
       "3     -5.0\n",
       "4    113.0\n",
       "Name: ArrDelay, dtype: float64"
      ]
     },
     "execution_count": 6,
     "metadata": {},
     "output_type": "execute_result"
    }
   ],
   "source": [
    " df['ArrDelay'].head()"
   ]
  },
  {
   "cell_type": "code",
   "execution_count": 20,
   "id": "d14ee13c",
   "metadata": {},
   "outputs": [
    {
     "data": {
      "text/plain": [
       "array([[1.        , 0.90958691],\n",
       "       [0.90958691, 1.        ]])"
      ]
     },
     "execution_count": 20,
     "metadata": {},
     "output_type": "execute_result"
    }
   ],
   "source": [
    "np.corrcoef(df['ArrDelay'],df['DepDelay'])"
   ]
  },
  {
   "cell_type": "markdown",
   "id": "8728fce0",
   "metadata": {},
   "source": [
    "## Summary Statistics"
   ]
  },
  {
   "cell_type": "code",
   "execution_count": 7,
   "id": "fe1550f5",
   "metadata": {},
   "outputs": [
    {
     "data": {
      "text/plain": [
       "(8988665, 45)"
      ]
     },
     "execution_count": 7,
     "metadata": {},
     "output_type": "execute_result"
    }
   ],
   "source": [
    "df.shape"
   ]
  },
  {
   "cell_type": "code",
   "execution_count": 8,
   "id": "0016d7f9",
   "metadata": {},
   "outputs": [
    {
     "data": {
      "text/plain": [
       "(8988665, 45)"
      ]
     },
     "execution_count": 8,
     "metadata": {},
     "output_type": "execute_result"
    }
   ],
   "source": [
    "# since our outcome features are 'DepDelay'and 'ArrDelay', we drop any rows without these inputs\n",
    "df = df.dropna(subset=['DepDelay', 'ArrDelay'])\n",
    "df.shape"
   ]
  },
  {
   "cell_type": "code",
   "execution_count": 9,
   "id": "eba4fcf2",
   "metadata": {},
   "outputs": [
    {
     "data": {
      "text/html": [
       "<div>\n",
       "<style scoped>\n",
       "    .dataframe tbody tr th:only-of-type {\n",
       "        vertical-align: middle;\n",
       "    }\n",
       "\n",
       "    .dataframe tbody tr th {\n",
       "        vertical-align: top;\n",
       "    }\n",
       "\n",
       "    .dataframe thead th {\n",
       "        text-align: right;\n",
       "    }\n",
       "</style>\n",
       "<table border=\"1\" class=\"dataframe\">\n",
       "  <thead>\n",
       "    <tr style=\"text-align: right;\">\n",
       "      <th></th>\n",
       "      <th>DepDelay</th>\n",
       "      <th>ArrDelay</th>\n",
       "    </tr>\n",
       "  </thead>\n",
       "  <tbody>\n",
       "    <tr>\n",
       "      <th>count</th>\n",
       "      <td>8.988665e+06</td>\n",
       "      <td>8.988665e+06</td>\n",
       "    </tr>\n",
       "    <tr>\n",
       "      <th>mean</th>\n",
       "      <td>1.011674e+01</td>\n",
       "      <td>5.441053e+00</td>\n",
       "    </tr>\n",
       "    <tr>\n",
       "      <th>std</th>\n",
       "      <td>4.078094e+01</td>\n",
       "      <td>4.534490e+01</td>\n",
       "    </tr>\n",
       "    <tr>\n",
       "      <th>min</th>\n",
       "      <td>-2.340000e+02</td>\n",
       "      <td>-2.380000e+02</td>\n",
       "    </tr>\n",
       "    <tr>\n",
       "      <th>25%</th>\n",
       "      <td>-5.000000e+00</td>\n",
       "      <td>-1.400000e+01</td>\n",
       "    </tr>\n",
       "    <tr>\n",
       "      <th>50%</th>\n",
       "      <td>-2.000000e+00</td>\n",
       "      <td>-5.000000e+00</td>\n",
       "    </tr>\n",
       "    <tr>\n",
       "      <th>75%</th>\n",
       "      <td>7.000000e+00</td>\n",
       "      <td>8.000000e+00</td>\n",
       "    </tr>\n",
       "    <tr>\n",
       "      <th>max</th>\n",
       "      <td>2.710000e+03</td>\n",
       "      <td>2.692000e+03</td>\n",
       "    </tr>\n",
       "  </tbody>\n",
       "</table>\n",
       "</div>"
      ],
      "text/plain": [
       "           DepDelay      ArrDelay\n",
       "count  8.988665e+06  8.988665e+06\n",
       "mean   1.011674e+01  5.441053e+00\n",
       "std    4.078094e+01  4.534490e+01\n",
       "min   -2.340000e+02 -2.380000e+02\n",
       "25%   -5.000000e+00 -1.400000e+01\n",
       "50%   -2.000000e+00 -5.000000e+00\n",
       "75%    7.000000e+00  8.000000e+00\n",
       "max    2.710000e+03  2.692000e+03"
      ]
     },
     "execution_count": 9,
     "metadata": {},
     "output_type": "execute_result"
    }
   ],
   "source": [
    "df[['DepDelay','ArrDelay']].describe()"
   ]
  },
  {
   "cell_type": "code",
   "execution_count": 31,
   "id": "953c3edc",
   "metadata": {},
   "outputs": [
    {
     "data": {
      "image/png": "[encoded data removed]",
      "text/plain": [
       "<Figure size 576x432 with 1 Axes>"
      ]
     },
     "metadata": {
      "needs_background": "light"
     },
     "output_type": "display_data"
    }
   ],
   "source": [
    "plt.figure(figsize=(8, 6))\n",
    "df['ArrDelay'].hist(bins=200)\n",
    "plt.xlim([-250,250])\n",
    "plt.xlabel('Arrival Delay Time (min)')\n",
    "plt.ylabel('Frequency')\n",
    "plt.title('Arrival Delay Distribution on the interval [-250,250]')\n",
    "plt.show()"
   ]
  },
  {
   "cell_type": "code",
   "execution_count": 62,
   "id": "cf65590f",
   "metadata": {},
   "outputs": [
    {
     "data": {
      "text/plain": [
       "datetime.datetime(2018, 12, 1, 0, 0)"
      ]
     },
     "execution_count": 62,
     "metadata": {},
     "output_type": "execute_result"
    }
   ],
   "source": [
    "# a = datetime.strptime('2018'+' '+'12', '%Y %m')\n",
    "# datetime.strptime(monthDelay['Year']+' '+MonthDelay['Month'], '%Y %m')"
   ]
  },
  {
   "cell_type": "code",
   "execution_count": 68,
   "id": "7de19479",
   "metadata": {},
   "outputs": [
    {
     "name": "stderr",
     "output_type": "stream",
     "text": [
      "<ipython-input-68-5b944b4ba861>:1: FutureWarning: Indexing with multiple keys (implicitly converted to a tuple of keys) will be deprecated, use a list instead.\n",
      "  monthDelay = df.groupby(['Year', 'Month'])['DepDelay', 'ArrDelay'].mean()\n"
     ]
    }
   ],
   "source": [
    "monthDelay = df.groupby(['Year', 'Month'])['DepDelay', 'ArrDelay'].mean()\n",
    "monthDelay = monthDelay.reset_index()\n",
    "\n",
    "# monthDelay['year_month'] = [monthDelay['Year'], monthDelay['Month']]\n",
    "# monthDelay"
   ]
  },
  {
   "cell_type": "code",
   "execution_count": 70,
   "id": "7855e4ae",
   "metadata": {},
   "outputs": [
    {
     "data": {
      "image/png": "[encoded data removed]",
      "text/plain": [
       "<Figure size 432x288 with 1 Axes>"
      ]
     },
     "metadata": {
      "needs_background": "light"
     },
     "output_type": "display_data"
    }
   ],
   "source": [
    "plt.plot(monthDelay.index, monthDelay.DepDelay)\n",
    "plt.show()"
   ]
  },
  {
   "cell_type": "code",
   "execution_count": 8,
   "id": "ab0433c1",
   "metadata": {},
   "outputs": [
    {
     "data": {
      "text/plain": [
       "0.6322490287434417"
      ]
     },
     "execution_count": 8,
     "metadata": {},
     "output_type": "execute_result"
    }
   ],
   "source": [
    "noDelay = df.loc[df['DepDelay']<=0]\n",
    "len(noDelay)/df.shape[0]"
   ]
  },
  {
   "cell_type": "code",
   "execution_count": 9,
   "id": "0e711d21",
   "metadata": {},
   "outputs": [
    {
     "data": {
      "text/plain": [
       "0.637338726372705"
      ]
     },
     "execution_count": 9,
     "metadata": {},
     "output_type": "execute_result"
    }
   ],
   "source": [
    "noDelay = df.loc[df['ArrDelay']<=0]\n",
    "len(noDelay)/df.shape[0]"
   ]
  },
  {
   "cell_type": "code",
   "execution_count": 14,
   "id": "4fe154bc",
   "metadata": {},
   "outputs": [
    {
     "data": {
      "text/html": [
       "<div>\n",
       "<style scoped>\n",
       "    .dataframe tbody tr th:only-of-type {\n",
       "        vertical-align: middle;\n",
       "    }\n",
       "\n",
       "    .dataframe tbody tr th {\n",
       "        vertical-align: top;\n",
       "    }\n",
       "\n",
       "    .dataframe thead th {\n",
       "        text-align: right;\n",
       "    }\n",
       "</style>\n",
       "<table border=\"1\" class=\"dataframe\">\n",
       "  <thead>\n",
       "    <tr style=\"text-align: right;\">\n",
       "      <th></th>\n",
       "      <th>DepDelay</th>\n",
       "      <th>ArrDelay</th>\n",
       "    </tr>\n",
       "  </thead>\n",
       "  <tbody>\n",
       "    <tr>\n",
       "      <th>count</th>\n",
       "      <td>2.364521e+06</td>\n",
       "      <td>2.364521e+06</td>\n",
       "    </tr>\n",
       "    <tr>\n",
       "      <th>mean</th>\n",
       "      <td>4.598803e+01</td>\n",
       "      <td>4.473380e+01</td>\n",
       "    </tr>\n",
       "    <tr>\n",
       "      <th>std</th>\n",
       "      <td>6.692008e+01</td>\n",
       "      <td>6.706396e+01</td>\n",
       "    </tr>\n",
       "    <tr>\n",
       "      <th>min</th>\n",
       "      <td>1.000000e+00</td>\n",
       "      <td>1.000000e+00</td>\n",
       "    </tr>\n",
       "    <tr>\n",
       "      <th>25%</th>\n",
       "      <td>1.100000e+01</td>\n",
       "      <td>1.000000e+01</td>\n",
       "    </tr>\n",
       "    <tr>\n",
       "      <th>50%</th>\n",
       "      <td>2.600000e+01</td>\n",
       "      <td>2.400000e+01</td>\n",
       "    </tr>\n",
       "    <tr>\n",
       "      <th>75%</th>\n",
       "      <td>5.600000e+01</td>\n",
       "      <td>5.400000e+01</td>\n",
       "    </tr>\n",
       "    <tr>\n",
       "      <th>max</th>\n",
       "      <td>2.710000e+03</td>\n",
       "      <td>2.692000e+03</td>\n",
       "    </tr>\n",
       "  </tbody>\n",
       "</table>\n",
       "</div>"
      ],
      "text/plain": [
       "           DepDelay      ArrDelay\n",
       "count  2.364521e+06  2.364521e+06\n",
       "mean   4.598803e+01  4.473380e+01\n",
       "std    6.692008e+01  6.706396e+01\n",
       "min    1.000000e+00  1.000000e+00\n",
       "25%    1.100000e+01  1.000000e+01\n",
       "50%    2.600000e+01  2.400000e+01\n",
       "75%    5.600000e+01  5.400000e+01\n",
       "max    2.710000e+03  2.692000e+03"
      ]
     },
     "execution_count": 14,
     "metadata": {},
     "output_type": "execute_result"
    }
   ],
   "source": [
    "yesDelay = df.loc[(df['ArrDelay']>0) & (df['DepDelay']>0)]\n",
    "yesDelay[['DepDelay','ArrDelay']].describe()"
   ]
  },
  {
   "cell_type": "markdown",
   "id": "062d7cbc",
   "metadata": {},
   "source": [
    "From analysis above, we see that about 63% of the total flights do not have delays. Out of the flights that do have delays, 50% delay under 26 minutes, 75% delay under 56 minutes. However, there are some very large values, as the largest being 2700 minutes, which is about 45 hours. To see how many of these large values there are and whether they are outliers, we do further analysis as the following:"
   ]
  },
  {
   "cell_type": "code",
   "execution_count": 15,
   "id": "33382dfe",
   "metadata": {},
   "outputs": [
    {
     "data": {
      "text/plain": [
       "5"
      ]
     },
     "execution_count": 15,
     "metadata": {},
     "output_type": "execute_result"
    }
   ],
   "source": [
    "delay2000 = df.loc[df['DepDelay']>2000][['DepDelay','ArrDelay']]\n",
    "len(delay2000)"
   ]
  },
  {
   "cell_type": "code",
   "execution_count": 16,
   "id": "57601f5c",
   "metadata": {},
   "outputs": [
    {
     "data": {
      "text/plain": [
       "850"
      ]
     },
     "execution_count": 16,
     "metadata": {},
     "output_type": "execute_result"
    }
   ],
   "source": [
    "delay1000 = df.loc[df['DepDelay']>1000][['DepDelay','ArrDelay']]\n",
    "len(delay1000)"
   ]
  },
  {
   "cell_type": "code",
   "execution_count": 17,
   "id": "943f5b21",
   "metadata": {},
   "outputs": [
    {
     "data": {
      "text/plain": [
       "7438"
      ]
     },
     "execution_count": 17,
     "metadata": {},
     "output_type": "execute_result"
    }
   ],
   "source": [
    "delay500 = df.loc[df['DepDelay']>500][['DepDelay','ArrDelay']]\n",
    "len(delay500)"
   ]
  },
  {
   "cell_type": "code",
   "execution_count": 18,
   "id": "fa1c44b2",
   "metadata": {},
   "outputs": [
    {
     "data": {
      "text/plain": [
       "0.003145668826794095"
      ]
     },
     "execution_count": 18,
     "metadata": {},
     "output_type": "execute_result"
    }
   ],
   "source": [
    "len(delay500)/len(yesDelay)"
   ]
  },
  {
   "cell_type": "code",
   "execution_count": 20,
   "id": "492ba15e",
   "metadata": {},
   "outputs": [
    {
     "data": {
      "text/plain": [
       "0.014279424881403041"
      ]
     },
     "execution_count": 20,
     "metadata": {},
     "output_type": "execute_result"
    }
   ],
   "source": [
    "delay250 = df.loc[df['DepDelay']>250][['DepDelay','ArrDelay']]\n",
    "len(delay250)/len(yesDelay)"
   ]
  },
  {
   "cell_type": "markdown",
   "id": "eda474dd",
   "metadata": {},
   "source": [
    "Only 1% of the total delayed flights have delay time greater than 250 minutes. So let's go with the a short delay subset of delay time between 0 and 250 min."
   ]
  },
  {
   "cell_type": "markdown",
   "id": "a843a141",
   "metadata": {},
   "source": [
    "## Plotting"
   ]
  },
  {
   "cell_type": "code",
   "execution_count": 23,
   "id": "726fcca5",
   "metadata": {},
   "outputs": [
    {
     "data": {
      "text/plain": [
       "<AxesSubplot:>"
      ]
     },
     "execution_count": 23,
     "metadata": {},
     "output_type": "execute_result"
    },
    {
     "data": {
      "image/png": "[encoded data removed]",
      "text/plain": [
       "<Figure size 432x288 with 1 Axes>"
      ]
     },
     "metadata": {
      "needs_background": "light"
     },
     "output_type": "display_data"
    }
   ],
   "source": [
    "shortDelay = df.loc[(df['DepDelay']>0) & (df['DepDelay']<=250)]\n",
    "shortDelay['DepDelay'].hist(bins=50)"
   ]
  },
  {
   "cell_type": "code",
   "execution_count": 24,
   "id": "1b3c99f8",
   "metadata": {},
   "outputs": [
    {
     "data": {
      "text/plain": [
       "<seaborn.axisgrid.FacetGrid at 0x15372dffaf0>"
      ]
     },
     "execution_count": 24,
     "metadata": {},
     "output_type": "execute_result"
    },
    {
     "data": {
      "image/png": "[encoded data removed]",
      "text/plain": [
       "<Figure size 360x360 with 1 Axes>"
      ]
     },
     "metadata": {
      "needs_background": "light"
     },
     "output_type": "display_data"
    }
   ],
   "source": [
    "sns.displot(shortDelay['DepDelay'], kde=True)"
   ]
  },
  {
   "cell_type": "code",
   "execution_count": 27,
   "id": "f0d94bef",
   "metadata": {},
   "outputs": [
    {
     "data": {
      "text/plain": [
       "<AxesSubplot:xlabel='DepDelay', ylabel='Count'>"
      ]
     },
     "execution_count": 27,
     "metadata": {},
     "output_type": "execute_result"
    },
    {
     "data": {
      "image/png": "[encoded data removed]",
      "text/plain": [
       "<Figure size 432x288 with 1 Axes>"
      ]
     },
     "metadata": {
      "needs_background": "light"
     },
     "output_type": "display_data"
    }
   ],
   "source": [
    "sns.histplot(\n",
    "    shortDelay,\n",
    "    x='DepDelay', \n",
    "    log_scale=True\n",
    ")"
   ]
  },
  {
   "cell_type": "code",
   "execution_count": 28,
   "id": "dc2e7c22",
   "metadata": {},
   "outputs": [
    {
     "data": {
      "text/plain": [
       "<seaborn.axisgrid.FacetGrid at 0x1536e7ba910>"
      ]
     },
     "execution_count": 28,
     "metadata": {},
     "output_type": "execute_result"
    },
    {
     "data": {
      "image/png": "[encoded data removed]",
      "text/plain": [
       "<Figure size 360x360 with 1 Axes>"
      ]
     },
     "metadata": {
      "needs_background": "light"
     },
     "output_type": "display_data"
    }
   ],
   "source": [
    "sns.displot(\n",
    "    shortDelay,\n",
    "    x='DepDelay', \n",
    "    kind = 'kde'\n",
    "    )"
   ]
  },
  {
   "cell_type": "code",
   "execution_count": 29,
   "id": "c3f74a0a",
   "metadata": {},
   "outputs": [
    {
     "data": {
      "text/plain": [
       "<seaborn.axisgrid.FacetGrid at 0x153756bc130>"
      ]
     },
     "execution_count": 29,
     "metadata": {},
     "output_type": "execute_result"
    },
    {
     "data": {
      "image/png": "[encoded data removed]",
      "text/plain": [
       "<Figure size 360x360 with 1 Axes>"
      ]
     },
     "metadata": {
      "needs_background": "light"
     },
     "output_type": "display_data"
    }
   ],
   "source": [
    "sns.displot(\n",
    "    shortDelay,\n",
    "    x='DepDelay', \n",
    "    kind = 'hist'\n",
    "    )"
   ]
  },
  {
   "cell_type": "markdown",
   "id": "699c12ed",
   "metadata": {},
   "source": [
    "## Visualize features"
   ]
  },
  {
   "cell_type": "markdown",
   "id": "22b81085",
   "metadata": {},
   "source": [
    "### Month"
   ]
  },
  {
   "cell_type": "code",
   "execution_count": 31,
   "id": "fc84e71c",
   "metadata": {},
   "outputs": [
    {
     "data": {
      "text/plain": [
       "<AxesSubplot:>"
      ]
     },
     "execution_count": 31,
     "metadata": {},
     "output_type": "execute_result"
    },
    {
     "data": {
      "image/png": "[encoded data removed]",
      "text/plain": [
       "<Figure size 432x288 with 1 Axes>"
      ]
     },
     "metadata": {
      "needs_background": "light"
     },
     "output_type": "display_data"
    }
   ],
   "source": [
    "df.Month.hist()"
   ]
  },
  {
   "cell_type": "markdown",
   "id": "56d118da",
   "metadata": {},
   "source": [
    "There are more flights during the Christmas times."
   ]
  },
  {
   "cell_type": "code",
   "execution_count": 11,
   "id": "f48dfc7e",
   "metadata": {
    "scrolled": false
   },
   "outputs": [
    {
     "name": "stderr",
     "output_type": "stream",
     "text": [
      "<ipython-input-11-84d13e640b7e>:1: FutureWarning: Indexing with multiple keys (implicitly converted to a tuple of keys) will be deprecated, use a list instead.\n",
      "  df_months = df.groupby(['Month'])['DepDelay', 'ArrDelay', 'is_late'].mean()\n"
     ]
    },
    {
     "data": {
      "text/html": [
       "<div>\n",
       "<style scoped>\n",
       "    .dataframe tbody tr th:only-of-type {\n",
       "        vertical-align: middle;\n",
       "    }\n",
       "\n",
       "    .dataframe tbody tr th {\n",
       "        vertical-align: top;\n",
       "    }\n",
       "\n",
       "    .dataframe thead th {\n",
       "        text-align: right;\n",
       "    }\n",
       "</style>\n",
       "<table border=\"1\" class=\"dataframe\">\n",
       "  <thead>\n",
       "    <tr style=\"text-align: right;\">\n",
       "      <th></th>\n",
       "      <th>DepDelay</th>\n",
       "      <th>ArrDelay</th>\n",
       "      <th>is_late</th>\n",
       "    </tr>\n",
       "    <tr>\n",
       "      <th>Month</th>\n",
       "      <th></th>\n",
       "      <th></th>\n",
       "      <th></th>\n",
       "    </tr>\n",
       "  </thead>\n",
       "  <tbody>\n",
       "    <tr>\n",
       "      <th>1</th>\n",
       "      <td>9.010543</td>\n",
       "      <td>3.822986</td>\n",
       "      <td>0.347084</td>\n",
       "    </tr>\n",
       "    <tr>\n",
       "      <th>2</th>\n",
       "      <td>9.355138</td>\n",
       "      <td>3.892860</td>\n",
       "      <td>0.345421</td>\n",
       "    </tr>\n",
       "    <tr>\n",
       "      <th>3</th>\n",
       "      <td>7.603704</td>\n",
       "      <td>2.231397</td>\n",
       "      <td>0.334549</td>\n",
       "    </tr>\n",
       "    <tr>\n",
       "      <th>4</th>\n",
       "      <td>9.552098</td>\n",
       "      <td>4.888314</td>\n",
       "      <td>0.352610</td>\n",
       "    </tr>\n",
       "    <tr>\n",
       "      <th>5</th>\n",
       "      <td>10.872623</td>\n",
       "      <td>6.830009</td>\n",
       "      <td>0.381915</td>\n",
       "    </tr>\n",
       "    <tr>\n",
       "      <th>6</th>\n",
       "      <td>15.207542</td>\n",
       "      <td>11.739345</td>\n",
       "      <td>0.432654</td>\n",
       "    </tr>\n",
       "    <tr>\n",
       "      <th>7</th>\n",
       "      <td>15.088872</td>\n",
       "      <td>11.430792</td>\n",
       "      <td>0.420381</td>\n",
       "    </tr>\n",
       "    <tr>\n",
       "      <th>8</th>\n",
       "      <td>13.323578</td>\n",
       "      <td>9.385171</td>\n",
       "      <td>0.403010</td>\n",
       "    </tr>\n",
       "    <tr>\n",
       "      <th>9</th>\n",
       "      <td>6.736964</td>\n",
       "      <td>1.987697</td>\n",
       "      <td>0.314803</td>\n",
       "    </tr>\n",
       "    <tr>\n",
       "      <th>10</th>\n",
       "      <td>7.329244</td>\n",
       "      <td>2.518484</td>\n",
       "      <td>0.337847</td>\n",
       "    </tr>\n",
       "    <tr>\n",
       "      <th>11</th>\n",
       "      <td>6.546672</td>\n",
       "      <td>1.135109</td>\n",
       "      <td>0.319624</td>\n",
       "    </tr>\n",
       "    <tr>\n",
       "      <th>12</th>\n",
       "      <td>10.791500</td>\n",
       "      <td>5.603801</td>\n",
       "      <td>0.377625</td>\n",
       "    </tr>\n",
       "  </tbody>\n",
       "</table>\n",
       "</div>"
      ],
      "text/plain": [
       "        DepDelay   ArrDelay   is_late\n",
       "Month                                \n",
       "1       9.010543   3.822986  0.347084\n",
       "2       9.355138   3.892860  0.345421\n",
       "3       7.603704   2.231397  0.334549\n",
       "4       9.552098   4.888314  0.352610\n",
       "5      10.872623   6.830009  0.381915\n",
       "6      15.207542  11.739345  0.432654\n",
       "7      15.088872  11.430792  0.420381\n",
       "8      13.323578   9.385171  0.403010\n",
       "9       6.736964   1.987697  0.314803\n",
       "10      7.329244   2.518484  0.337847\n",
       "11      6.546672   1.135109  0.319624\n",
       "12     10.791500   5.603801  0.377625"
      ]
     },
     "execution_count": 11,
     "metadata": {},
     "output_type": "execute_result"
    }
   ],
   "source": [
    "df_months = df.groupby(['Month'])['DepDelay', 'ArrDelay', 'is_late'].mean()\n",
    "df_months"
   ]
  },
  {
   "cell_type": "code",
   "execution_count": 40,
   "id": "05b73d27",
   "metadata": {},
   "outputs": [
    {
     "data": {
      "image/png": "[encoded data removed]",
      "text/plain": [
       "<Figure size 576x432 with 1 Axes>"
      ]
     },
     "metadata": {
      "needs_background": "light"
     },
     "output_type": "display_data"
    }
   ],
   "source": [
    "plt.figure(figsize=(8, 6))\n",
    "plt.bar(df_months.index,df_months['is_late'],label='Arrival Delay Probability')\n",
    "plt.xticks(df_months.index)\n",
    "plt.ylim([0,0.5])\n",
    "plt.title('Percentage of Delayed Flights in Each Month')\n",
    "plt.xlabel('Month')\n",
    "plt.legend()\n",
    "plt.show()"
   ]
  },
  {
   "cell_type": "code",
   "execution_count": 46,
   "id": "f62b1a91",
   "metadata": {},
   "outputs": [
    {
     "data": {
      "image/png": "[encoded data removed]",
      "text/plain": [
       "<Figure size 576x432 with 1 Axes>"
      ]
     },
     "metadata": {
      "needs_background": "light"
     },
     "output_type": "display_data"
    }
   ],
   "source": [
    "plt.figure(figsize=(8, 6))\n",
    "plt.bar(df_months.index,df_months['DepDelay'],label='DepDelay')\n",
    "plt.bar(df_months.index,df_months['ArrDelay'],label='ArrDelay')\n",
    "plt.xticks(df_months.index)\n",
    "plt.xlabel('Month')\n",
    "plt.ylabel('Delay Time (min)')\n",
    "plt.title('Average Flight Delay Time in Each Month')\n",
    "plt.legend()\n",
    "plt.show()"
   ]
  },
  {
   "cell_type": "code",
   "execution_count": 36,
   "id": "7b00e55b",
   "metadata": {},
   "outputs": [
    {
     "data": {
      "text/plain": [
       "<seaborn.axisgrid.FacetGrid at 0x153ffcf64c0>"
      ]
     },
     "execution_count": 36,
     "metadata": {},
     "output_type": "execute_result"
    },
    {
     "data": {
      "image/png": "[encoded data removed]",
      "text/plain": [
       "<Figure size 408.75x360 with 1 Axes>"
      ]
     },
     "metadata": {
      "needs_background": "light"
     },
     "output_type": "display_data"
    }
   ],
   "source": [
    "sns.displot(\n",
    "    shortDelay,\n",
    "    x='DepDelay', hue='Month',\n",
    "    kind = 'kde',\n",
    ")"
   ]
  },
  {
   "cell_type": "code",
   "execution_count": 38,
   "id": "4622146c",
   "metadata": {},
   "outputs": [
    {
     "data": {
      "text/plain": [
       "<AxesSubplot:xlabel='Month', ylabel='DepDelay'>"
      ]
     },
     "execution_count": 38,
     "metadata": {},
     "output_type": "execute_result"
    },
    {
     "data": {
      "image/png": "[encoded data removed]",
      "text/plain": [
       "<Figure size 432x288 with 1 Axes>"
      ]
     },
     "metadata": {
      "needs_background": "light"
     },
     "output_type": "display_data"
    }
   ],
   "source": [
    "sns.boxplot(\n",
    "    data=shortDelay,\n",
    "    y=\"DepDelay\", x=\"Month\"\n",
    ")"
   ]
  },
  {
   "cell_type": "markdown",
   "id": "7b8997ab",
   "metadata": {},
   "source": [
    "### Airlines"
   ]
  },
  {
   "cell_type": "code",
   "execution_count": 42,
   "id": "d21397f1",
   "metadata": {},
   "outputs": [
    {
     "data": {
      "text/plain": [
       "array(['AA', 'AS', 'B6', 'DL', 'VX', 'WN', 'UA', 'OO', 'F9', 'HA', 'NK',\n",
       "       'EV', '9E', 'G4', 'MQ', 'OH', 'YV', 'YX'], dtype=object)"
      ]
     },
     "execution_count": 42,
     "metadata": {},
     "output_type": "execute_result"
    }
   ],
   "source": [
    "# airline_codes = df['Reporting_Airline'].unique()\n",
    "# airline_codes"
   ]
  },
  {
   "cell_type": "code",
   "execution_count": 12,
   "id": "c2f9a0b3",
   "metadata": {},
   "outputs": [
    {
     "data": {
      "text/plain": [
       "12"
      ]
     },
     "execution_count": 12,
     "metadata": {},
     "output_type": "execute_result"
    }
   ],
   "source": [
    "# airline_names = ['American Airlines', 'Alaska Airlines', 'JetBlue', 'Delta', 'Virgin America', 'Southwest Airlines', 'United Airlines', 'SkyWest Airlines', 'Frontier Airlines', 'Hawaiian Airlines', 'Spirit Airlines', 'EVA Air']\n",
    "# len(airline_names)"
   ]
  },
  {
   "cell_type": "code",
   "execution_count": 32,
   "id": "0d6c550c",
   "metadata": {},
   "outputs": [
    {
     "data": {
      "text/plain": [
       "<AxesSubplot:>"
      ]
     },
     "execution_count": 32,
     "metadata": {},
     "output_type": "execute_result"
    },
    {
     "data": {
      "image/png": "[encoded data removed]",
      "text/plain": [
       "<Figure size 432x288 with 1 Axes>"
      ]
     },
     "metadata": {
      "needs_background": "light"
     },
     "output_type": "display_data"
    }
   ],
   "source": [
    "df.Reporting_Airline.hist()"
   ]
  },
  {
   "cell_type": "code",
   "execution_count": 14,
   "id": "a77c14be",
   "metadata": {
    "scrolled": true
   },
   "outputs": [
    {
     "name": "stderr",
     "output_type": "stream",
     "text": [
      "<ipython-input-14-49d027a35496>:1: FutureWarning: Indexing with multiple keys (implicitly converted to a tuple of keys) will be deprecated, use a list instead.\n",
      "  df_airlines = df.groupby(['Reporting_Airline'])['DepDelay', 'ArrDelay','is_late'].mean()\n"
     ]
    },
    {
     "data": {
      "text/html": [
       "<div>\n",
       "<style scoped>\n",
       "    .dataframe tbody tr th:only-of-type {\n",
       "        vertical-align: middle;\n",
       "    }\n",
       "\n",
       "    .dataframe tbody tr th {\n",
       "        vertical-align: top;\n",
       "    }\n",
       "\n",
       "    .dataframe thead th {\n",
       "        text-align: right;\n",
       "    }\n",
       "</style>\n",
       "<table border=\"1\" class=\"dataframe\">\n",
       "  <thead>\n",
       "    <tr style=\"text-align: right;\">\n",
       "      <th></th>\n",
       "      <th>DepDelay</th>\n",
       "      <th>ArrDelay</th>\n",
       "      <th>is_late</th>\n",
       "    </tr>\n",
       "    <tr>\n",
       "      <th>Reporting_Airline</th>\n",
       "      <th></th>\n",
       "      <th></th>\n",
       "      <th></th>\n",
       "    </tr>\n",
       "  </thead>\n",
       "  <tbody>\n",
       "    <tr>\n",
       "      <th>9E</th>\n",
       "      <td>8.771957</td>\n",
       "      <td>4.156782</td>\n",
       "      <td>0.282428</td>\n",
       "    </tr>\n",
       "    <tr>\n",
       "      <th>AA</th>\n",
       "      <td>10.457406</td>\n",
       "      <td>6.849944</td>\n",
       "      <td>0.396722</td>\n",
       "    </tr>\n",
       "    <tr>\n",
       "      <th>AS</th>\n",
       "      <td>4.143930</td>\n",
       "      <td>0.979242</td>\n",
       "      <td>0.372689</td>\n",
       "    </tr>\n",
       "    <tr>\n",
       "      <th>B6</th>\n",
       "      <td>18.754790</td>\n",
       "      <td>13.362398</td>\n",
       "      <td>0.428647</td>\n",
       "    </tr>\n",
       "    <tr>\n",
       "      <th>DL</th>\n",
       "      <td>8.225470</td>\n",
       "      <td>1.095638</td>\n",
       "      <td>0.287869</td>\n",
       "    </tr>\n",
       "    <tr>\n",
       "      <th>EV</th>\n",
       "      <td>11.943832</td>\n",
       "      <td>8.746753</td>\n",
       "      <td>0.363731</td>\n",
       "    </tr>\n",
       "    <tr>\n",
       "      <th>F9</th>\n",
       "      <td>14.529212</td>\n",
       "      <td>8.693265</td>\n",
       "      <td>0.394183</td>\n",
       "    </tr>\n",
       "    <tr>\n",
       "      <th>G4</th>\n",
       "      <td>5.457852</td>\n",
       "      <td>3.684889</td>\n",
       "      <td>0.335294</td>\n",
       "    </tr>\n",
       "    <tr>\n",
       "      <th>HA</th>\n",
       "      <td>7.953728</td>\n",
       "      <td>4.639431</td>\n",
       "      <td>0.424179</td>\n",
       "    </tr>\n",
       "    <tr>\n",
       "      <th>MQ</th>\n",
       "      <td>6.181880</td>\n",
       "      <td>5.669983</td>\n",
       "      <td>0.385472</td>\n",
       "    </tr>\n",
       "    <tr>\n",
       "      <th>NK</th>\n",
       "      <td>10.772130</td>\n",
       "      <td>6.395390</td>\n",
       "      <td>0.351078</td>\n",
       "    </tr>\n",
       "    <tr>\n",
       "      <th>OH</th>\n",
       "      <td>10.196117</td>\n",
       "      <td>8.622930</td>\n",
       "      <td>0.421893</td>\n",
       "    </tr>\n",
       "    <tr>\n",
       "      <th>OO</th>\n",
       "      <td>10.625480</td>\n",
       "      <td>8.114649</td>\n",
       "      <td>0.368377</td>\n",
       "    </tr>\n",
       "    <tr>\n",
       "      <th>UA</th>\n",
       "      <td>10.346679</td>\n",
       "      <td>4.533595</td>\n",
       "      <td>0.322526</td>\n",
       "    </tr>\n",
       "    <tr>\n",
       "      <th>VX</th>\n",
       "      <td>12.326075</td>\n",
       "      <td>10.399355</td>\n",
       "      <td>0.474717</td>\n",
       "    </tr>\n",
       "    <tr>\n",
       "      <th>WN</th>\n",
       "      <td>11.266867</td>\n",
       "      <td>5.010679</td>\n",
       "      <td>0.399055</td>\n",
       "    </tr>\n",
       "    <tr>\n",
       "      <th>YV</th>\n",
       "      <td>14.063191</td>\n",
       "      <td>12.881100</td>\n",
       "      <td>0.423554</td>\n",
       "    </tr>\n",
       "    <tr>\n",
       "      <th>YX</th>\n",
       "      <td>8.900930</td>\n",
       "      <td>5.419556</td>\n",
       "      <td>0.332485</td>\n",
       "    </tr>\n",
       "  </tbody>\n",
       "</table>\n",
       "</div>"
      ],
      "text/plain": [
       "                    DepDelay   ArrDelay   is_late\n",
       "Reporting_Airline                                \n",
       "9E                  8.771957   4.156782  0.282428\n",
       "AA                 10.457406   6.849944  0.396722\n",
       "AS                  4.143930   0.979242  0.372689\n",
       "B6                 18.754790  13.362398  0.428647\n",
       "DL                  8.225470   1.095638  0.287869\n",
       "EV                 11.943832   8.746753  0.363731\n",
       "F9                 14.529212   8.693265  0.394183\n",
       "G4                  5.457852   3.684889  0.335294\n",
       "HA                  7.953728   4.639431  0.424179\n",
       "MQ                  6.181880   5.669983  0.385472\n",
       "NK                 10.772130   6.395390  0.351078\n",
       "OH                 10.196117   8.622930  0.421893\n",
       "OO                 10.625480   8.114649  0.368377\n",
       "UA                 10.346679   4.533595  0.322526\n",
       "VX                 12.326075  10.399355  0.474717\n",
       "WN                 11.266867   5.010679  0.399055\n",
       "YV                 14.063191  12.881100  0.423554\n",
       "YX                  8.900930   5.419556  0.332485"
      ]
     },
     "execution_count": 14,
     "metadata": {},
     "output_type": "execute_result"
    }
   ],
   "source": [
    "df_airlines = df.groupby(['Reporting_Airline'])['DepDelay', 'ArrDelay','is_late'].mean()\n",
    "df_airlines"
   ]
  },
  {
   "cell_type": "code",
   "execution_count": 53,
   "id": "6a057da9",
   "metadata": {},
   "outputs": [
    {
     "data": {
      "image/png": "[encoded data removed]",
      "text/plain": [
       "<Figure size 576x432 with 1 Axes>"
      ]
     },
     "metadata": {
      "needs_background": "light"
     },
     "output_type": "display_data"
    }
   ],
   "source": [
    "plt.figure(figsize=(8, 6))\n",
    "plt.bar(df_airlines.index,df_airlines['is_late'],label='Arrival Delay Probability')\n",
    "plt.xlabel('Airline')\n",
    "plt.title('Percentage of Delayed Flights For Each Airline')\n",
    "plt.legend()\n",
    "plt.show()"
   ]
  },
  {
   "cell_type": "code",
   "execution_count": 54,
   "id": "db18ae70",
   "metadata": {},
   "outputs": [
    {
     "data": {
      "image/png": "[encoded data removed]",
      "text/plain": [
       "<Figure size 576x432 with 1 Axes>"
      ]
     },
     "metadata": {
      "needs_background": "light"
     },
     "output_type": "display_data"
    }
   ],
   "source": [
    "plt.figure(figsize=(8, 6))\n",
    "plt.bar(df_airlines.index,df_airlines['DepDelay'],label='DepDelay')\n",
    "plt.bar(df_airlines.index,df_airlines['ArrDelay'],label='ArrDelay')\n",
    "plt.xlabel('Airline')\n",
    "plt.ylabel('Delay Time (min)')\n",
    "plt.title('Average Flight Delay Time For Each Airline')\n",
    "plt.legend()\n",
    "plt.show()"
   ]
  },
  {
   "cell_type": "code",
   "execution_count": 37,
   "id": "285c90df",
   "metadata": {},
   "outputs": [
    {
     "data": {
      "text/plain": [
       "<seaborn.axisgrid.FacetGrid at 0x154a649f520>"
      ]
     },
     "execution_count": 37,
     "metadata": {},
     "output_type": "execute_result"
    },
    {
     "data": {
      "image/png": "[encoded data removed]",
      "text/plain": [
       "<Figure size 453.5x360 with 1 Axes>"
      ]
     },
     "metadata": {
      "needs_background": "light"
     },
     "output_type": "display_data"
    }
   ],
   "source": [
    "# Not good\n",
    "# sns.displot(\n",
    "#     shortDelay,\n",
    "#     x='DepDelay', hue='Reporting_Airline',\n",
    "#     kind = 'kde',\n",
    "# )"
   ]
  },
  {
   "cell_type": "code",
   "execution_count": 39,
   "id": "eb3e2bde",
   "metadata": {},
   "outputs": [
    {
     "data": {
      "text/plain": [
       "<AxesSubplot:xlabel='Reporting_Airline', ylabel='DepDelay'>"
      ]
     },
     "execution_count": 39,
     "metadata": {},
     "output_type": "execute_result"
    },
    {
     "data": {
      "image/png": "[encoded data removed]",
      "text/plain": [
       "<Figure size 432x288 with 1 Axes>"
      ]
     },
     "metadata": {
      "needs_background": "light"
     },
     "output_type": "display_data"
    }
   ],
   "source": [
    "sns.boxplot(\n",
    "    data=shortDelay,\n",
    "    y=\"DepDelay\", x=\"Reporting_Airline\"\n",
    ")"
   ]
  },
  {
   "cell_type": "markdown",
   "id": "5b69eaa3",
   "metadata": {},
   "source": [
    "### Airports"
   ]
  },
  {
   "cell_type": "code",
   "execution_count": 33,
   "id": "cfb8e4d6",
   "metadata": {},
   "outputs": [
    {
     "data": {
      "text/plain": [
       "<AxesSubplot:>"
      ]
     },
     "execution_count": 33,
     "metadata": {},
     "output_type": "execute_result"
    },
    {
     "data": {
      "image/png": "[encoded data removed]",
      "text/plain": [
       "<Figure size 432x288 with 1 Axes>"
      ]
     },
     "metadata": {
      "needs_background": "light"
     },
     "output_type": "display_data"
    }
   ],
   "source": [
    "df.Origin.hist()"
   ]
  },
  {
   "cell_type": "code",
   "execution_count": 17,
   "id": "fb8ee13a",
   "metadata": {},
   "outputs": [
    {
     "name": "stderr",
     "output_type": "stream",
     "text": [
      "<ipython-input-17-353925c2aebd>:1: FutureWarning: Indexing with multiple keys (implicitly converted to a tuple of keys) will be deprecated, use a list instead.\n",
      "  df_airports = df.groupby(['Origin'])['DepDelay', 'ArrDelay','is_late'].mean()\n"
     ]
    },
    {
     "data": {
      "text/html": [
       "<div>\n",
       "<style scoped>\n",
       "    .dataframe tbody tr th:only-of-type {\n",
       "        vertical-align: middle;\n",
       "    }\n",
       "\n",
       "    .dataframe tbody tr th {\n",
       "        vertical-align: top;\n",
       "    }\n",
       "\n",
       "    .dataframe thead th {\n",
       "        text-align: right;\n",
       "    }\n",
       "</style>\n",
       "<table border=\"1\" class=\"dataframe\">\n",
       "  <thead>\n",
       "    <tr style=\"text-align: right;\">\n",
       "      <th></th>\n",
       "      <th>DepDelay</th>\n",
       "      <th>ArrDelay</th>\n",
       "      <th>is_late</th>\n",
       "    </tr>\n",
       "    <tr>\n",
       "      <th>Origin</th>\n",
       "      <th></th>\n",
       "      <th></th>\n",
       "      <th></th>\n",
       "    </tr>\n",
       "  </thead>\n",
       "  <tbody>\n",
       "    <tr>\n",
       "      <th>ATL</th>\n",
       "      <td>9.038966</td>\n",
       "      <td>3.033865</td>\n",
       "      <td>0.310175</td>\n",
       "    </tr>\n",
       "    <tr>\n",
       "      <th>CLT</th>\n",
       "      <td>9.616290</td>\n",
       "      <td>6.320884</td>\n",
       "      <td>0.388548</td>\n",
       "    </tr>\n",
       "    <tr>\n",
       "      <th>DEN</th>\n",
       "      <td>10.245567</td>\n",
       "      <td>5.331973</td>\n",
       "      <td>0.362860</td>\n",
       "    </tr>\n",
       "    <tr>\n",
       "      <th>DFW</th>\n",
       "      <td>11.484522</td>\n",
       "      <td>8.933954</td>\n",
       "      <td>0.406508</td>\n",
       "    </tr>\n",
       "    <tr>\n",
       "      <th>LAS</th>\n",
       "      <td>9.954285</td>\n",
       "      <td>4.582379</td>\n",
       "      <td>0.364577</td>\n",
       "    </tr>\n",
       "    <tr>\n",
       "      <th>LAX</th>\n",
       "      <td>10.327301</td>\n",
       "      <td>3.957927</td>\n",
       "      <td>0.362786</td>\n",
       "    </tr>\n",
       "    <tr>\n",
       "      <th>MCO</th>\n",
       "      <td>12.067082</td>\n",
       "      <td>6.766910</td>\n",
       "      <td>0.351957</td>\n",
       "    </tr>\n",
       "    <tr>\n",
       "      <th>ORD</th>\n",
       "      <td>12.434429</td>\n",
       "      <td>9.160639</td>\n",
       "      <td>0.397756</td>\n",
       "    </tr>\n",
       "    <tr>\n",
       "      <th>PHX</th>\n",
       "      <td>8.019887</td>\n",
       "      <td>3.383132</td>\n",
       "      <td>0.357315</td>\n",
       "    </tr>\n",
       "    <tr>\n",
       "      <th>SEA</th>\n",
       "      <td>6.722403</td>\n",
       "      <td>1.726896</td>\n",
       "      <td>0.357683</td>\n",
       "    </tr>\n",
       "  </tbody>\n",
       "</table>\n",
       "</div>"
      ],
      "text/plain": [
       "         DepDelay  ArrDelay   is_late\n",
       "Origin                               \n",
       "ATL      9.038966  3.033865  0.310175\n",
       "CLT      9.616290  6.320884  0.388548\n",
       "DEN     10.245567  5.331973  0.362860\n",
       "DFW     11.484522  8.933954  0.406508\n",
       "LAS      9.954285  4.582379  0.364577\n",
       "LAX     10.327301  3.957927  0.362786\n",
       "MCO     12.067082  6.766910  0.351957\n",
       "ORD     12.434429  9.160639  0.397756\n",
       "PHX      8.019887  3.383132  0.357315\n",
       "SEA      6.722403  1.726896  0.357683"
      ]
     },
     "execution_count": 17,
     "metadata": {},
     "output_type": "execute_result"
    }
   ],
   "source": [
    "df_airports = df.groupby(['Origin'])['DepDelay', 'ArrDelay','is_late'].mean()\n",
    "df_airports"
   ]
  },
  {
   "cell_type": "code",
   "execution_count": 51,
   "id": "c602e237",
   "metadata": {},
   "outputs": [
    {
     "data": {
      "image/png": "[encoded data removed]",
      "text/plain": [
       "<Figure size 576x432 with 1 Axes>"
      ]
     },
     "metadata": {
      "needs_background": "light"
     },
     "output_type": "display_data"
    }
   ],
   "source": [
    "plt.figure(figsize=(8, 6))\n",
    "plt.bar(df_airports.index,df_airports['is_late'],label='Arrival Delay Probability')\n",
    "plt.ylim([0,0.5])\n",
    "plt.xlabel('Airport')\n",
    "plt.title('Average Flight Delay Time For Each Airport')\n",
    "plt.legend()\n",
    "plt.show()"
   ]
  },
  {
   "cell_type": "code",
   "execution_count": 52,
   "id": "a157ad14",
   "metadata": {},
   "outputs": [
    {
     "data": {
      "image/png": "[encoded data removed]",
      "text/plain": [
       "<Figure size 576x432 with 1 Axes>"
      ]
     },
     "metadata": {
      "needs_background": "light"
     },
     "output_type": "display_data"
    }
   ],
   "source": [
    "plt.figure(figsize=(8, 6))\n",
    "plt.bar(df_airports.index,df_airports['DepDelay'],label='DepDelay')\n",
    "plt.bar(df_airports.index,df_airports['ArrDelay'],label='ArrDelay')\n",
    "plt.xlabel('Airport')\n",
    "plt.ylabel('Delay Time (min)')\n",
    "plt.title('Average Flight Delay Time For Each Airport')\n",
    "plt.legend()\n",
    "plt.show()"
   ]
  },
  {
   "cell_type": "code",
   "execution_count": 42,
   "id": "c4fbf3cc",
   "metadata": {},
   "outputs": [
    {
     "data": {
      "text/plain": [
       "<AxesSubplot:xlabel='Origin', ylabel='DepDelay'>"
      ]
     },
     "execution_count": 42,
     "metadata": {},
     "output_type": "execute_result"
    },
    {
     "data": {
      "image/png": "[encoded data removed]",
      "text/plain": [
       "<Figure size 432x288 with 1 Axes>"
      ]
     },
     "metadata": {
      "needs_background": "light"
     },
     "output_type": "display_data"
    }
   ],
   "source": [
    "sns.boxplot(\n",
    "    data=shortDelay,\n",
    "    y=\"DepDelay\", x=\"Origin\"\n",
    ")"
   ]
  }
 ],
 "metadata": {
  "kernelspec": {
   "display_name": "Python 3",
   "language": "python",
   "name": "python3"
  },
  "language_info": {
   "codemirror_mode": {
    "name": "ipython",
    "version": 3
   },
   "file_extension": ".py",
   "mimetype": "text/x-python",
   "name": "python",
   "nbconvert_exporter": "python",
   "pygments_lexer": "ipython3",
   "version": "3.8.8"
  }
 },
 "nbformat": 4,
 "nbformat_minor": 5
}
