{
 "cells": [
  {
   "cell_type": "markdown",
   "id": "a6efa509",
   "metadata": {},
   "source": [
    "# Exploratory Data Analysis"
   ]
  },
  {
   "cell_type": "code",
   "execution_count": 1,
   "id": "b5b069bf",
   "metadata": {},
   "outputs": [],
   "source": [
    "import numpy as np\n",
    "import pandas as pd\n",
    "import matplotlib.pyplot as plt \n",
    "import seaborn as sns"
   ]
  },
  {
   "cell_type": "code",
   "execution_count": 3,
   "id": "0a3d11ae",
   "metadata": {},
   "outputs": [
    {
     "name": "stderr",
     "output_type": "stream",
     "text": [
      "D:\\Anaconda\\lib\\site-packages\\IPython\\core\\interactiveshell.py:3165: DtypeWarning: Columns (28,45,47,48) have mixed types.Specify dtype option on import or set low_memory=False.\n",
      "  has_raised = await self.run_ast_nodes(code_ast.body, cell_name,\n"
     ]
    },
    {
     "data": {
      "text/html": [
       "<div>\n",
       "<style scoped>\n",
       "    .dataframe tbody tr th:only-of-type {\n",
       "        vertical-align: middle;\n",
       "    }\n",
       "\n",
       "    .dataframe tbody tr th {\n",
       "        vertical-align: top;\n",
       "    }\n",
       "\n",
       "    .dataframe thead th {\n",
       "        text-align: right;\n",
       "    }\n",
       "</style>\n",
       "<table border=\"1\" class=\"dataframe\">\n",
       "  <thead>\n",
       "    <tr style=\"text-align: right;\">\n",
       "      <th></th>\n",
       "      <th>Unnamed: 0</th>\n",
       "      <th>Year</th>\n",
       "      <th>Quarter</th>\n",
       "      <th>Month</th>\n",
       "      <th>DayofMonth</th>\n",
       "      <th>DayOfWeek</th>\n",
       "      <th>FlightDate</th>\n",
       "      <th>Reporting_Airline</th>\n",
       "      <th>DOT_ID_Reporting_Airline</th>\n",
       "      <th>Flight_Number_Reporting_Airline</th>\n",
       "      <th>...</th>\n",
       "      <th>Snow</th>\n",
       "      <th>Storm</th>\n",
       "      <th>Other Precipitation</th>\n",
       "      <th>Severe-Cold_Severity</th>\n",
       "      <th>Fog_Severity</th>\n",
       "      <th>Hail_Severity</th>\n",
       "      <th>Rain_Severity</th>\n",
       "      <th>Snow_Severity</th>\n",
       "      <th>Storm_Severity</th>\n",
       "      <th>Other Precipitation_Severity</th>\n",
       "    </tr>\n",
       "  </thead>\n",
       "  <tbody>\n",
       "    <tr>\n",
       "      <th>0</th>\n",
       "      <td>0</td>\n",
       "      <td>2016</td>\n",
       "      <td>1</td>\n",
       "      <td>1</td>\n",
       "      <td>6</td>\n",
       "      <td>3</td>\n",
       "      <td>2016-01-06</td>\n",
       "      <td>AA</td>\n",
       "      <td>19805</td>\n",
       "      <td>43</td>\n",
       "      <td>...</td>\n",
       "      <td>False</td>\n",
       "      <td>False</td>\n",
       "      <td>False</td>\n",
       "      <td>NaN</td>\n",
       "      <td>NaN</td>\n",
       "      <td>NaN</td>\n",
       "      <td>NaN</td>\n",
       "      <td>NaN</td>\n",
       "      <td>NaN</td>\n",
       "      <td>NaN</td>\n",
       "    </tr>\n",
       "    <tr>\n",
       "      <th>1</th>\n",
       "      <td>1</td>\n",
       "      <td>2016</td>\n",
       "      <td>1</td>\n",
       "      <td>1</td>\n",
       "      <td>7</td>\n",
       "      <td>4</td>\n",
       "      <td>2016-01-07</td>\n",
       "      <td>AA</td>\n",
       "      <td>19805</td>\n",
       "      <td>43</td>\n",
       "      <td>...</td>\n",
       "      <td>False</td>\n",
       "      <td>False</td>\n",
       "      <td>False</td>\n",
       "      <td>NaN</td>\n",
       "      <td>NaN</td>\n",
       "      <td>NaN</td>\n",
       "      <td>NaN</td>\n",
       "      <td>NaN</td>\n",
       "      <td>NaN</td>\n",
       "      <td>NaN</td>\n",
       "    </tr>\n",
       "    <tr>\n",
       "      <th>2</th>\n",
       "      <td>2</td>\n",
       "      <td>2016</td>\n",
       "      <td>1</td>\n",
       "      <td>1</td>\n",
       "      <td>8</td>\n",
       "      <td>5</td>\n",
       "      <td>2016-01-08</td>\n",
       "      <td>AA</td>\n",
       "      <td>19805</td>\n",
       "      <td>43</td>\n",
       "      <td>...</td>\n",
       "      <td>False</td>\n",
       "      <td>False</td>\n",
       "      <td>False</td>\n",
       "      <td>NaN</td>\n",
       "      <td>NaN</td>\n",
       "      <td>NaN</td>\n",
       "      <td>NaN</td>\n",
       "      <td>NaN</td>\n",
       "      <td>NaN</td>\n",
       "      <td>NaN</td>\n",
       "    </tr>\n",
       "    <tr>\n",
       "      <th>3</th>\n",
       "      <td>3</td>\n",
       "      <td>2016</td>\n",
       "      <td>1</td>\n",
       "      <td>1</td>\n",
       "      <td>9</td>\n",
       "      <td>6</td>\n",
       "      <td>2016-01-09</td>\n",
       "      <td>AA</td>\n",
       "      <td>19805</td>\n",
       "      <td>43</td>\n",
       "      <td>...</td>\n",
       "      <td>False</td>\n",
       "      <td>False</td>\n",
       "      <td>False</td>\n",
       "      <td>NaN</td>\n",
       "      <td>NaN</td>\n",
       "      <td>NaN</td>\n",
       "      <td>NaN</td>\n",
       "      <td>NaN</td>\n",
       "      <td>NaN</td>\n",
       "      <td>NaN</td>\n",
       "    </tr>\n",
       "    <tr>\n",
       "      <th>4</th>\n",
       "      <td>4</td>\n",
       "      <td>2016</td>\n",
       "      <td>1</td>\n",
       "      <td>1</td>\n",
       "      <td>10</td>\n",
       "      <td>7</td>\n",
       "      <td>2016-01-10</td>\n",
       "      <td>AA</td>\n",
       "      <td>19805</td>\n",
       "      <td>43</td>\n",
       "      <td>...</td>\n",
       "      <td>False</td>\n",
       "      <td>False</td>\n",
       "      <td>False</td>\n",
       "      <td>NaN</td>\n",
       "      <td>NaN</td>\n",
       "      <td>NaN</td>\n",
       "      <td>NaN</td>\n",
       "      <td>NaN</td>\n",
       "      <td>NaN</td>\n",
       "      <td>NaN</td>\n",
       "    </tr>\n",
       "  </tbody>\n",
       "</table>\n",
       "<p>5 rows × 50 columns</p>\n",
       "</div>"
      ],
      "text/plain": [
       "   Unnamed: 0  Year  Quarter  Month  DayofMonth  DayOfWeek  FlightDate  \\\n",
       "0           0  2016        1      1           6          3  2016-01-06   \n",
       "1           1  2016        1      1           7          4  2016-01-07   \n",
       "2           2  2016        1      1           8          5  2016-01-08   \n",
       "3           3  2016        1      1           9          6  2016-01-09   \n",
       "4           4  2016        1      1          10          7  2016-01-10   \n",
       "\n",
       "  Reporting_Airline  DOT_ID_Reporting_Airline  \\\n",
       "0                AA                     19805   \n",
       "1                AA                     19805   \n",
       "2                AA                     19805   \n",
       "3                AA                     19805   \n",
       "4                AA                     19805   \n",
       "\n",
       "   Flight_Number_Reporting_Airline  ...   Snow  Storm Other Precipitation  \\\n",
       "0                               43  ...  False  False               False   \n",
       "1                               43  ...  False  False               False   \n",
       "2                               43  ...  False  False               False   \n",
       "3                               43  ...  False  False               False   \n",
       "4                               43  ...  False  False               False   \n",
       "\n",
       "  Severe-Cold_Severity Fog_Severity Hail_Severity  Rain_Severity  \\\n",
       "0                  NaN          NaN           NaN            NaN   \n",
       "1                  NaN          NaN           NaN            NaN   \n",
       "2                  NaN          NaN           NaN            NaN   \n",
       "3                  NaN          NaN           NaN            NaN   \n",
       "4                  NaN          NaN           NaN            NaN   \n",
       "\n",
       "   Snow_Severity  Storm_Severity  Other Precipitation_Severity  \n",
       "0            NaN             NaN                           NaN  \n",
       "1            NaN             NaN                           NaN  \n",
       "2            NaN             NaN                           NaN  \n",
       "3            NaN             NaN                           NaN  \n",
       "4            NaN             NaN                           NaN  \n",
       "\n",
       "[5 rows x 50 columns]"
      ]
     },
     "execution_count": 3,
     "metadata": {},
     "output_type": "execute_result"
    }
   ],
   "source": [
    "df = pd.read_csv('2016_to_2020_flight_reduced_columns_with_weather_top_10.csv')\n",
    "df.head()"
   ]
  },
  {
   "cell_type": "code",
   "execution_count": 5,
   "id": "ee0469a2",
   "metadata": {},
   "outputs": [
    {
     "data": {
      "text/plain": [
       "Index(['Unnamed: 0', 'Year', 'Quarter', 'Month', 'DayofMonth', 'DayOfWeek',\n",
       "       'FlightDate', 'Reporting_Airline', 'DOT_ID_Reporting_Airline',\n",
       "       'Flight_Number_Reporting_Airline', 'Origin', 'OriginCityName',\n",
       "       'OriginState', 'Dest', 'DestCityName', 'DestState', 'CRSDepTime',\n",
       "       'DepTime', 'DepDelay', 'TaxiOut', 'WheelsOff', 'WheelsOn', 'TaxiIn',\n",
       "       'CRSArrTime', 'ArrTime', 'ArrDelay', 'CRSElapsedTime', 'Cancelled',\n",
       "       'CancellationCode', 'Diverted', 'Flights', 'Distance', 'DivArrDelay',\n",
       "       'DivActualElapsedTime', 'DepTimeLocal', 'DepTimeUTC', 'Severe-Cold',\n",
       "       'Fog', 'Hail', 'Rain', 'Snow', 'Storm', 'Other Precipitation',\n",
       "       'Severe-Cold_Severity', 'Fog_Severity', 'Hail_Severity',\n",
       "       'Rain_Severity', 'Snow_Severity', 'Storm_Severity',\n",
       "       'Other Precipitation_Severity'],\n",
       "      dtype='object')"
      ]
     },
     "execution_count": 5,
     "metadata": {},
     "output_type": "execute_result"
    }
   ],
   "source": [
    "df.columns"
   ]
  },
  {
   "cell_type": "markdown",
   "id": "8728fce0",
   "metadata": {},
   "source": [
    "## Summary Statistics"
   ]
  },
  {
   "cell_type": "code",
   "execution_count": 4,
   "id": "fe1550f5",
   "metadata": {},
   "outputs": [
    {
     "data": {
      "text/plain": [
       "(9142933, 50)"
      ]
     },
     "execution_count": 4,
     "metadata": {},
     "output_type": "execute_result"
    }
   ],
   "source": [
    "df.shape"
   ]
  },
  {
   "cell_type": "code",
   "execution_count": 5,
   "id": "0016d7f9",
   "metadata": {},
   "outputs": [
    {
     "data": {
      "text/plain": [
       "(8970081, 50)"
      ]
     },
     "execution_count": 5,
     "metadata": {},
     "output_type": "execute_result"
    }
   ],
   "source": [
    "# since our outcome features are 'DepDelay'and 'ArrDelay', we drop any rows without these inputs\n",
    "df = df.dropna(subset=['DepDelay', 'ArrDelay'])\n",
    "df.shape"
   ]
  },
  {
   "cell_type": "code",
   "execution_count": 6,
   "id": "eba4fcf2",
   "metadata": {},
   "outputs": [
    {
     "data": {
      "text/html": [
       "<div>\n",
       "<style scoped>\n",
       "    .dataframe tbody tr th:only-of-type {\n",
       "        vertical-align: middle;\n",
       "    }\n",
       "\n",
       "    .dataframe tbody tr th {\n",
       "        vertical-align: top;\n",
       "    }\n",
       "\n",
       "    .dataframe thead th {\n",
       "        text-align: right;\n",
       "    }\n",
       "</style>\n",
       "<table border=\"1\" class=\"dataframe\">\n",
       "  <thead>\n",
       "    <tr style=\"text-align: right;\">\n",
       "      <th></th>\n",
       "      <th>DepDelay</th>\n",
       "      <th>ArrDelay</th>\n",
       "    </tr>\n",
       "  </thead>\n",
       "  <tbody>\n",
       "    <tr>\n",
       "      <th>count</th>\n",
       "      <td>8.970081e+06</td>\n",
       "      <td>8.970081e+06</td>\n",
       "    </tr>\n",
       "    <tr>\n",
       "      <th>mean</th>\n",
       "      <td>1.009692e+01</td>\n",
       "      <td>4.959259e+00</td>\n",
       "    </tr>\n",
       "    <tr>\n",
       "      <th>std</th>\n",
       "      <td>4.072959e+01</td>\n",
       "      <td>4.302193e+01</td>\n",
       "    </tr>\n",
       "    <tr>\n",
       "      <th>min</th>\n",
       "      <td>-2.340000e+02</td>\n",
       "      <td>-2.380000e+02</td>\n",
       "    </tr>\n",
       "    <tr>\n",
       "      <th>25%</th>\n",
       "      <td>-5.000000e+00</td>\n",
       "      <td>-1.400000e+01</td>\n",
       "    </tr>\n",
       "    <tr>\n",
       "      <th>50%</th>\n",
       "      <td>-2.000000e+00</td>\n",
       "      <td>-5.000000e+00</td>\n",
       "    </tr>\n",
       "    <tr>\n",
       "      <th>75%</th>\n",
       "      <td>7.000000e+00</td>\n",
       "      <td>8.000000e+00</td>\n",
       "    </tr>\n",
       "    <tr>\n",
       "      <th>max</th>\n",
       "      <td>2.710000e+03</td>\n",
       "      <td>2.692000e+03</td>\n",
       "    </tr>\n",
       "  </tbody>\n",
       "</table>\n",
       "</div>"
      ],
      "text/plain": [
       "           DepDelay      ArrDelay\n",
       "count  8.970081e+06  8.970081e+06\n",
       "mean   1.009692e+01  4.959259e+00\n",
       "std    4.072959e+01  4.302193e+01\n",
       "min   -2.340000e+02 -2.380000e+02\n",
       "25%   -5.000000e+00 -1.400000e+01\n",
       "50%   -2.000000e+00 -5.000000e+00\n",
       "75%    7.000000e+00  8.000000e+00\n",
       "max    2.710000e+03  2.692000e+03"
      ]
     },
     "execution_count": 6,
     "metadata": {},
     "output_type": "execute_result"
    }
   ],
   "source": [
    "df[['DepDelay','ArrDelay']].describe()"
   ]
  },
  {
   "cell_type": "code",
   "execution_count": 7,
   "id": "953c3edc",
   "metadata": {},
   "outputs": [
    {
     "data": {
      "text/plain": [
       "<AxesSubplot:>"
      ]
     },
     "execution_count": 7,
     "metadata": {},
     "output_type": "execute_result"
    },
    {
     "data": {
      "image/png": "[encoded data removed]",
      "text/plain": [
       "<Figure size 432x288 with 1 Axes>"
      ]
     },
     "metadata": {
      "needs_background": "light"
     },
     "output_type": "display_data"
    }
   ],
   "source": [
    "df['DepDelay'].hist(bins=200)"
   ]
  },
  {
   "cell_type": "code",
   "execution_count": 8,
   "id": "ab0433c1",
   "metadata": {},
   "outputs": [
    {
     "data": {
      "text/plain": [
       "0.6322490287434417"
      ]
     },
     "execution_count": 8,
     "metadata": {},
     "output_type": "execute_result"
    }
   ],
   "source": [
    "noDelay = df.loc[df['DepDelay']<=0]\n",
    "len(noDelay)/df.shape[0]"
   ]
  },
  {
   "cell_type": "code",
   "execution_count": 9,
   "id": "0e711d21",
   "metadata": {},
   "outputs": [
    {
     "data": {
      "text/plain": [
       "0.637338726372705"
      ]
     },
     "execution_count": 9,
     "metadata": {},
     "output_type": "execute_result"
    }
   ],
   "source": [
    "noDelay = df.loc[df['ArrDelay']<=0]\n",
    "len(noDelay)/df.shape[0]"
   ]
  },
  {
   "cell_type": "code",
   "execution_count": 14,
   "id": "d5756d18",
   "metadata": {},
   "outputs": [
    {
     "data": {
      "text/html": [
       "<div>\n",
       "<style scoped>\n",
       "    .dataframe tbody tr th:only-of-type {\n",
       "        vertical-align: middle;\n",
       "    }\n",
       "\n",
       "    .dataframe tbody tr th {\n",
       "        vertical-align: top;\n",
       "    }\n",
       "\n",
       "    .dataframe thead th {\n",
       "        text-align: right;\n",
       "    }\n",
       "</style>\n",
       "<table border=\"1\" class=\"dataframe\">\n",
       "  <thead>\n",
       "    <tr style=\"text-align: right;\">\n",
       "      <th></th>\n",
       "      <th>DepDelay</th>\n",
       "      <th>ArrDelay</th>\n",
       "    </tr>\n",
       "  </thead>\n",
       "  <tbody>\n",
       "    <tr>\n",
       "      <th>count</th>\n",
       "      <td>2.364521e+06</td>\n",
       "      <td>2.364521e+06</td>\n",
       "    </tr>\n",
       "    <tr>\n",
       "      <th>mean</th>\n",
       "      <td>4.598803e+01</td>\n",
       "      <td>4.473380e+01</td>\n",
       "    </tr>\n",
       "    <tr>\n",
       "      <th>std</th>\n",
       "      <td>6.692008e+01</td>\n",
       "      <td>6.706396e+01</td>\n",
       "    </tr>\n",
       "    <tr>\n",
       "      <th>min</th>\n",
       "      <td>1.000000e+00</td>\n",
       "      <td>1.000000e+00</td>\n",
       "    </tr>\n",
       "    <tr>\n",
       "      <th>25%</th>\n",
       "      <td>1.100000e+01</td>\n",
       "      <td>1.000000e+01</td>\n",
       "    </tr>\n",
       "    <tr>\n",
       "      <th>50%</th>\n",
       "      <td>2.600000e+01</td>\n",
       "      <td>2.400000e+01</td>\n",
       "    </tr>\n",
       "    <tr>\n",
       "      <th>75%</th>\n",
       "      <td>5.600000e+01</td>\n",
       "      <td>5.400000e+01</td>\n",
       "    </tr>\n",
       "    <tr>\n",
       "      <th>max</th>\n",
       "      <td>2.710000e+03</td>\n",
       "      <td>2.692000e+03</td>\n",
       "    </tr>\n",
       "  </tbody>\n",
       "</table>\n",
       "</div>"
      ],
      "text/plain": [
       "           DepDelay      ArrDelay\n",
       "count  2.364521e+06  2.364521e+06\n",
       "mean   4.598803e+01  4.473380e+01\n",
       "std    6.692008e+01  6.706396e+01\n",
       "min    1.000000e+00  1.000000e+00\n",
       "25%    1.100000e+01  1.000000e+01\n",
       "50%    2.600000e+01  2.400000e+01\n",
       "75%    5.600000e+01  5.400000e+01\n",
       "max    2.710000e+03  2.692000e+03"
      ]
     },
     "execution_count": 14,
     "metadata": {},
     "output_type": "execute_result"
    }
   ],
   "source": [
    "yesDelay = df.loc[(df['ArrDelay']>0) & (df['DepDelay']>0)]\n",
    "yesDelay[['DepDelay','ArrDelay']].describe()"
   ]
  },
  {
   "cell_type": "markdown",
   "id": "062d7cbc",
   "metadata": {},
   "source": [
    "From analysis above, we see that about 63% of the total flights do not have delays. Out of the flights that do have delays, 50% delay under 26 minutes, 75% delay under 56 minutes. However, there are some very large values, as the largest being 2700 minutes, which is about 45 hours. To see how many of these large values there are and whether they are outliers, we do further analysis as the following:"
   ]
  },
  {
   "cell_type": "code",
   "execution_count": 15,
   "id": "33382dfe",
   "metadata": {},
   "outputs": [
    {
     "data": {
      "text/plain": [
       "5"
      ]
     },
     "execution_count": 15,
     "metadata": {},
     "output_type": "execute_result"
    }
   ],
   "source": [
    "delay2000 = df.loc[df['DepDelay']>2000][['DepDelay','ArrDelay']]\n",
    "len(delay2000)"
   ]
  },
  {
   "cell_type": "code",
   "execution_count": 16,
   "id": "57601f5c",
   "metadata": {},
   "outputs": [
    {
     "data": {
      "text/plain": [
       "850"
      ]
     },
     "execution_count": 16,
     "metadata": {},
     "output_type": "execute_result"
    }
   ],
   "source": [
    "delay1000 = df.loc[df['DepDelay']>1000][['DepDelay','ArrDelay']]\n",
    "len(delay1000)"
   ]
  },
  {
   "cell_type": "code",
   "execution_count": 17,
   "id": "d655b12e",
   "metadata": {},
   "outputs": [
    {
     "data": {
      "text/plain": [
       "7438"
      ]
     },
     "execution_count": 17,
     "metadata": {},
     "output_type": "execute_result"
    }
   ],
   "source": [
    "delay500 = df.loc[df['DepDelay']>500][['DepDelay','ArrDelay']]\n",
    "len(delay500)"
   ]
  },
  {
   "cell_type": "code",
   "execution_count": 18,
   "id": "d4200a94",
   "metadata": {},
   "outputs": [
    {
     "data": {
      "text/plain": [
       "0.003145668826794095"
      ]
     },
     "execution_count": 18,
     "metadata": {},
     "output_type": "execute_result"
    }
   ],
   "source": [
    "len(delay500)/len(yesDelay)"
   ]
  },
  {
   "cell_type": "code",
   "execution_count": 20,
   "id": "4a156224",
   "metadata": {},
   "outputs": [
    {
     "data": {
      "text/plain": [
       "0.014279424881403041"
      ]
     },
     "execution_count": 20,
     "metadata": {},
     "output_type": "execute_result"
    }
   ],
   "source": [
    "delay250 = df.loc[df['DepDelay']>250][['DepDelay','ArrDelay']]\n",
    "len(delay250)/len(yesDelay)"
   ]
  },
  {
   "cell_type": "markdown",
   "id": "b44ba470",
   "metadata": {},
   "source": [
    "Only 1% of the total delayed flights have delay time greater than 250 minutes. So let's go with the a short delay subset of delay time between 0 and 250 min."
   ]
  },
  {
   "cell_type": "markdown",
   "id": "a843a141",
   "metadata": {},
   "source": [
    "## Plotting"
   ]
  },
  {
   "cell_type": "code",
   "execution_count": 23,
   "id": "726fcca5",
   "metadata": {},
   "outputs": [
    {
     "data": {
      "text/plain": [
       "<AxesSubplot:>"
      ]
     },
     "execution_count": 23,
     "metadata": {},
     "output_type": "execute_result"
    },
    {
     "data": {
      "image/png": "[encoded data removed]",
      "text/plain": [
       "<Figure size 432x288 with 1 Axes>"
      ]
     },
     "metadata": {
      "needs_background": "light"
     },
     "output_type": "display_data"
    }
   ],
   "source": [
    "shortDelay = df.loc[(df['DepDelay']>0) & (df['DepDelay']<=250)]\n",
    "shortDelay['DepDelay'].hist(bins=50)"
   ]
  },
  {
   "cell_type": "code",
   "execution_count": 24,
   "id": "b5be0198",
   "metadata": {},
   "outputs": [
    {
     "data": {
      "text/plain": [
       "<seaborn.axisgrid.FacetGrid at 0x15372dffaf0>"
      ]
     },
     "execution_count": 24,
     "metadata": {},
     "output_type": "execute_result"
    },
    {
     "data": {
      "image/png": "[encoded data removed]",
      "text/plain": [
       "<Figure size 360x360 with 1 Axes>"
      ]
     },
     "metadata": {
      "needs_background": "light"
     },
     "output_type": "display_data"
    }
   ],
   "source": [
    "sns.displot(shortDelay['DepDelay'], kde=True)"
   ]
  },
  {
   "cell_type": "code",
   "execution_count": 27,
   "id": "8db4e372",
   "metadata": {},
   "outputs": [
    {
     "data": {
      "text/plain": [
       "<AxesSubplot:xlabel='DepDelay', ylabel='Count'>"
      ]
     },
     "execution_count": 27,
     "metadata": {},
     "output_type": "execute_result"
    },
    {
     "data": {
      "image/png": "[encoded data removed]",
      "text/plain": [
       "<Figure size 432x288 with 1 Axes>"
      ]
     },
     "metadata": {
      "needs_background": "light"
     },
     "output_type": "display_data"
    }
   ],
   "source": [
    "sns.histplot(\n",
    "    shortDelay,\n",
    "    x='DepDelay', \n",
    "    log_scale=True\n",
    ")"
   ]
  },
  {
   "cell_type": "code",
   "execution_count": 28,
   "id": "95133de4",
   "metadata": {},
   "outputs": [
    {
     "data": {
      "text/plain": [
       "<seaborn.axisgrid.FacetGrid at 0x1536e7ba910>"
      ]
     },
     "execution_count": 28,
     "metadata": {},
     "output_type": "execute_result"
    },
    {
     "data": {
      "image/png": "[encoded data removed]",
      "text/plain": [
       "<Figure size 360x360 with 1 Axes>"
      ]
     },
     "metadata": {
      "needs_background": "light"
     },
     "output_type": "display_data"
    }
   ],
   "source": [
    "sns.displot(\n",
    "    shortDelay,\n",
    "    x='DepDelay', \n",
    "    kind = 'kde'\n",
    "    )"
   ]
  },
  {
   "cell_type": "code",
   "execution_count": 29,
   "id": "f405a41f",
   "metadata": {},
   "outputs": [
    {
     "data": {
      "text/plain": [
       "<seaborn.axisgrid.FacetGrid at 0x153756bc130>"
      ]
     },
     "execution_count": 29,
     "metadata": {},
     "output_type": "execute_result"
    },
    {
     "data": {
      "image/png": "[encoded data removed]",
      "text/plain": [
       "<Figure size 360x360 with 1 Axes>"
      ]
     },
     "metadata": {
      "needs_background": "light"
     },
     "output_type": "display_data"
    }
   ],
   "source": [
    "sns.displot(\n",
    "    shortDelay,\n",
    "    x='DepDelay', \n",
    "    kind = 'hist'\n",
    "    )"
   ]
  },
  {
   "cell_type": "markdown",
   "id": "862edba9",
   "metadata": {},
   "source": [
    "## Visualize features"
   ]
  },
  {
   "cell_type": "markdown",
   "id": "37ffe98d",
   "metadata": {},
   "source": [
    "### Month"
   ]
  },
  {
   "cell_type": "code",
   "execution_count": 31,
   "id": "cc202e71",
   "metadata": {},
   "outputs": [
    {
     "data": {
      "text/plain": [
       "<AxesSubplot:>"
      ]
     },
     "execution_count": 31,
     "metadata": {},
     "output_type": "execute_result"
    },
    {
     "data": {
      "image/png": "[encoded data removed]",
      "text/plain": [
       "<Figure size 432x288 with 1 Axes>"
      ]
     },
     "metadata": {
      "needs_background": "light"
     },
     "output_type": "display_data"
    }
   ],
   "source": [
    "df.Month.hist()"
   ]
  },
  {
   "cell_type": "markdown",
   "id": "a0a62306",
   "metadata": {},
   "source": [
    "There are more flights during the Christmas times."
   ]
  },
  {
   "cell_type": "code",
   "execution_count": 69,
   "id": "f48dfc7e",
   "metadata": {},
   "outputs": [
    {
     "name": "stderr",
     "output_type": "stream",
     "text": [
      "<ipython-input-69-7d8067097c8f>:1: FutureWarning: Indexing with multiple keys (implicitly converted to a tuple of keys) will be deprecated, use a list instead.\n",
      "  df_months = df.groupby(['Month'])['DepDelay', 'ArrDelay'].mean()\n"
     ]
    },
    {
     "data": {
      "text/html": [
       "<div>\n",
       "<style scoped>\n",
       "    .dataframe tbody tr th:only-of-type {\n",
       "        vertical-align: middle;\n",
       "    }\n",
       "\n",
       "    .dataframe tbody tr th {\n",
       "        vertical-align: top;\n",
       "    }\n",
       "\n",
       "    .dataframe thead th {\n",
       "        text-align: right;\n",
       "    }\n",
       "</style>\n",
       "<table border=\"1\" class=\"dataframe\">\n",
       "  <thead>\n",
       "    <tr style=\"text-align: right;\">\n",
       "      <th></th>\n",
       "      <th>DepDelay</th>\n",
       "      <th>ArrDelay</th>\n",
       "    </tr>\n",
       "    <tr>\n",
       "      <th>Month</th>\n",
       "      <th></th>\n",
       "      <th></th>\n",
       "    </tr>\n",
       "  </thead>\n",
       "  <tbody>\n",
       "    <tr>\n",
       "      <th>1</th>\n",
       "      <td>8.987248</td>\n",
       "      <td>3.349081</td>\n",
       "    </tr>\n",
       "    <tr>\n",
       "      <th>2</th>\n",
       "      <td>9.329574</td>\n",
       "      <td>3.398623</td>\n",
       "    </tr>\n",
       "    <tr>\n",
       "      <th>3</th>\n",
       "      <td>7.594809</td>\n",
       "      <td>1.901583</td>\n",
       "    </tr>\n",
       "    <tr>\n",
       "      <th>4</th>\n",
       "      <td>9.533913</td>\n",
       "      <td>4.488498</td>\n",
       "    </tr>\n",
       "    <tr>\n",
       "      <th>5</th>\n",
       "      <td>10.855207</td>\n",
       "      <td>6.298272</td>\n",
       "    </tr>\n",
       "    <tr>\n",
       "      <th>6</th>\n",
       "      <td>15.187100</td>\n",
       "      <td>11.099304</td>\n",
       "    </tr>\n",
       "    <tr>\n",
       "      <th>7</th>\n",
       "      <td>15.067820</td>\n",
       "      <td>10.735317</td>\n",
       "    </tr>\n",
       "    <tr>\n",
       "      <th>8</th>\n",
       "      <td>13.305709</td>\n",
       "      <td>8.819734</td>\n",
       "    </tr>\n",
       "    <tr>\n",
       "      <th>9</th>\n",
       "      <td>6.720369</td>\n",
       "      <td>1.622427</td>\n",
       "    </tr>\n",
       "    <tr>\n",
       "      <th>10</th>\n",
       "      <td>7.315665</td>\n",
       "      <td>2.165190</td>\n",
       "    </tr>\n",
       "    <tr>\n",
       "      <th>11</th>\n",
       "      <td>6.531996</td>\n",
       "      <td>0.748611</td>\n",
       "    </tr>\n",
       "    <tr>\n",
       "      <th>12</th>\n",
       "      <td>10.770584</td>\n",
       "      <td>5.076682</td>\n",
       "    </tr>\n",
       "  </tbody>\n",
       "</table>\n",
       "</div>"
      ],
      "text/plain": [
       "        DepDelay   ArrDelay\n",
       "Month                      \n",
       "1       8.987248   3.349081\n",
       "2       9.329574   3.398623\n",
       "3       7.594809   1.901583\n",
       "4       9.533913   4.488498\n",
       "5      10.855207   6.298272\n",
       "6      15.187100  11.099304\n",
       "7      15.067820  10.735317\n",
       "8      13.305709   8.819734\n",
       "9       6.720369   1.622427\n",
       "10      7.315665   2.165190\n",
       "11      6.531996   0.748611\n",
       "12     10.770584   5.076682"
      ]
     },
     "execution_count": 69,
     "metadata": {},
     "output_type": "execute_result"
    }
   ],
   "source": [
    "df_months = df.groupby(['Month'])['DepDelay', 'ArrDelay'].mean()\n",
    "df_months"
   ]
  },
  {
   "cell_type": "code",
   "execution_count": 70,
   "id": "f62b1a91",
   "metadata": {},
   "outputs": [
    {
     "data": {
      "image/png": "[encoded data removed]",
      "text/plain": [
       "<Figure size 432x288 with 1 Axes>"
      ]
     },
     "metadata": {
      "needs_background": "light"
     },
     "output_type": "display_data"
    }
   ],
   "source": [
    "plt.bar(df_months.index,df_months['DepDelay'],label='DepDelay')\n",
    "plt.bar(df_months.index,df_months['ArrDelay'],label='ArrDelay')\n",
    "plt.xticks(df_months.index)\n",
    "plt.title('Average Flight Delay Time in Each Month')\n",
    "plt.legend()\n",
    "plt.show()"
   ]
  },
  {
   "cell_type": "code",
   "execution_count": 36,
   "id": "ebf72018",
   "metadata": {},
   "outputs": [
    {
     "data": {
      "text/plain": [
       "<seaborn.axisgrid.FacetGrid at 0x153ffcf64c0>"
      ]
     },
     "execution_count": 36,
     "metadata": {},
     "output_type": "execute_result"
    },
    {
     "data": {
      "image/png": "[encoded data removed]",
      "text/plain": [
       "<Figure size 408.75x360 with 1 Axes>"
      ]
     },
     "metadata": {
      "needs_background": "light"
     },
     "output_type": "display_data"
    }
   ],
   "source": [
    "sns.displot(\n",
    "    shortDelay,\n",
    "    x='DepDelay', hue='Month',\n",
    "    kind = 'kde',\n",
    ")"
   ]
  },
  {
   "cell_type": "code",
   "execution_count": 38,
   "id": "715daf4b",
   "metadata": {},
   "outputs": [
    {
     "data": {
      "text/plain": [
       "<AxesSubplot:xlabel='Month', ylabel='DepDelay'>"
      ]
     },
     "execution_count": 38,
     "metadata": {},
     "output_type": "execute_result"
    },
    {
     "data": {
      "image/png": "[encoded data removed]",
      "text/plain": [
       "<Figure size 432x288 with 1 Axes>"
      ]
     },
     "metadata": {
      "needs_background": "light"
     },
     "output_type": "display_data"
    }
   ],
   "source": [
    "sns.boxplot(\n",
    "    data=shortDelay,\n",
    "    y=\"DepDelay\", x=\"Month\"\n",
    ")"
   ]
  },
  {
   "cell_type": "markdown",
   "id": "eb740a88",
   "metadata": {},
   "source": [
    "### Airlines"
   ]
  },
  {
   "cell_type": "code",
   "execution_count": 42,
   "id": "d21397f1",
   "metadata": {},
   "outputs": [
    {
     "data": {
      "text/plain": [
       "array(['AA', 'AS', 'B6', 'DL', 'VX', 'WN', 'UA', 'OO', 'F9', 'HA', 'NK',\n",
       "       'EV', '9E', 'G4', 'MQ', 'OH', 'YV', 'YX'], dtype=object)"
      ]
     },
     "execution_count": 42,
     "metadata": {},
     "output_type": "execute_result"
    }
   ],
   "source": [
    "# airline_codes = df['Reporting_Airline'].unique()\n",
    "# airline_codes"
   ]
  },
  {
   "cell_type": "code",
   "execution_count": 12,
   "id": "c2f9a0b3",
   "metadata": {},
   "outputs": [
    {
     "data": {
      "text/plain": [
       "12"
      ]
     },
     "execution_count": 12,
     "metadata": {},
     "output_type": "execute_result"
    }
   ],
   "source": [
    "# airline_names = ['American Airlines', 'Alaska Airlines', 'JetBlue', 'Delta', 'Virgin America', 'Southwest Airlines', 'United Airlines', 'SkyWest Airlines', 'Frontier Airlines', 'Hawaiian Airlines', 'Spirit Airlines', 'EVA Air']\n",
    "# len(airline_names)"
   ]
  },
  {
   "cell_type": "code",
   "execution_count": 32,
   "id": "02200706",
   "metadata": {},
   "outputs": [
    {
     "data": {
      "text/plain": [
       "<AxesSubplot:>"
      ]
     },
     "execution_count": 32,
     "metadata": {},
     "output_type": "execute_result"
    },
    {
     "data": {
      "image/png": "[encoded data removed]",
      "text/plain": [
       "<Figure size 432x288 with 1 Axes>"
      ]
     },
     "metadata": {
      "needs_background": "light"
     },
     "output_type": "display_data"
    }
   ],
   "source": [
    "df.Reporting_Airline.hist()"
   ]
  },
  {
   "cell_type": "code",
   "execution_count": 71,
   "id": "a77c14be",
   "metadata": {},
   "outputs": [
    {
     "name": "stderr",
     "output_type": "stream",
     "text": [
      "<ipython-input-71-eb6853cdd028>:1: FutureWarning: Indexing with multiple keys (implicitly converted to a tuple of keys) will be deprecated, use a list instead.\n",
      "  df_airlines = df.groupby(['Reporting_Airline'])['DepDelay', 'ArrDelay'].mean()\n"
     ]
    },
    {
     "data": {
      "text/html": [
       "<div>\n",
       "<style scoped>\n",
       "    .dataframe tbody tr th:only-of-type {\n",
       "        vertical-align: middle;\n",
       "    }\n",
       "\n",
       "    .dataframe tbody tr th {\n",
       "        vertical-align: top;\n",
       "    }\n",
       "\n",
       "    .dataframe thead th {\n",
       "        text-align: right;\n",
       "    }\n",
       "</style>\n",
       "<table border=\"1\" class=\"dataframe\">\n",
       "  <thead>\n",
       "    <tr style=\"text-align: right;\">\n",
       "      <th></th>\n",
       "      <th>DepDelay</th>\n",
       "      <th>ArrDelay</th>\n",
       "    </tr>\n",
       "    <tr>\n",
       "      <th>Reporting_Airline</th>\n",
       "      <th></th>\n",
       "      <th></th>\n",
       "    </tr>\n",
       "  </thead>\n",
       "  <tbody>\n",
       "    <tr>\n",
       "      <th>9E</th>\n",
       "      <td>8.820973</td>\n",
       "      <td>3.091993</td>\n",
       "    </tr>\n",
       "    <tr>\n",
       "      <th>AA</th>\n",
       "      <td>10.442846</td>\n",
       "      <td>6.324813</td>\n",
       "    </tr>\n",
       "    <tr>\n",
       "      <th>AS</th>\n",
       "      <td>4.132516</td>\n",
       "      <td>0.688262</td>\n",
       "    </tr>\n",
       "    <tr>\n",
       "      <th>B6</th>\n",
       "      <td>18.723035</td>\n",
       "      <td>12.955568</td>\n",
       "    </tr>\n",
       "    <tr>\n",
       "      <th>DL</th>\n",
       "      <td>8.190888</td>\n",
       "      <td>0.577141</td>\n",
       "    </tr>\n",
       "    <tr>\n",
       "      <th>EV</th>\n",
       "      <td>11.927574</td>\n",
       "      <td>8.178031</td>\n",
       "    </tr>\n",
       "    <tr>\n",
       "      <th>F9</th>\n",
       "      <td>14.503651</td>\n",
       "      <td>8.459543</td>\n",
       "    </tr>\n",
       "    <tr>\n",
       "      <th>G4</th>\n",
       "      <td>5.447128</td>\n",
       "      <td>3.120468</td>\n",
       "    </tr>\n",
       "    <tr>\n",
       "      <th>HA</th>\n",
       "      <td>7.962961</td>\n",
       "      <td>3.591336</td>\n",
       "    </tr>\n",
       "    <tr>\n",
       "      <th>MQ</th>\n",
       "      <td>6.161854</td>\n",
       "      <td>5.082173</td>\n",
       "    </tr>\n",
       "    <tr>\n",
       "      <th>NK</th>\n",
       "      <td>10.765198</td>\n",
       "      <td>6.130810</td>\n",
       "    </tr>\n",
       "    <tr>\n",
       "      <th>OH</th>\n",
       "      <td>10.190031</td>\n",
       "      <td>8.222737</td>\n",
       "    </tr>\n",
       "    <tr>\n",
       "      <th>OO</th>\n",
       "      <td>10.591888</td>\n",
       "      <td>7.406209</td>\n",
       "    </tr>\n",
       "    <tr>\n",
       "      <th>UA</th>\n",
       "      <td>10.318439</td>\n",
       "      <td>3.979907</td>\n",
       "    </tr>\n",
       "    <tr>\n",
       "      <th>VX</th>\n",
       "      <td>12.313815</td>\n",
       "      <td>10.174741</td>\n",
       "    </tr>\n",
       "    <tr>\n",
       "      <th>WN</th>\n",
       "      <td>11.258948</td>\n",
       "      <td>4.728758</td>\n",
       "    </tr>\n",
       "    <tr>\n",
       "      <th>YV</th>\n",
       "      <td>14.045898</td>\n",
       "      <td>12.374643</td>\n",
       "    </tr>\n",
       "    <tr>\n",
       "      <th>YX</th>\n",
       "      <td>8.863627</td>\n",
       "      <td>4.889742</td>\n",
       "    </tr>\n",
       "  </tbody>\n",
       "</table>\n",
       "</div>"
      ],
      "text/plain": [
       "                    DepDelay   ArrDelay\n",
       "Reporting_Airline                      \n",
       "9E                  8.820973   3.091993\n",
       "AA                 10.442846   6.324813\n",
       "AS                  4.132516   0.688262\n",
       "B6                 18.723035  12.955568\n",
       "DL                  8.190888   0.577141\n",
       "EV                 11.927574   8.178031\n",
       "F9                 14.503651   8.459543\n",
       "G4                  5.447128   3.120468\n",
       "HA                  7.962961   3.591336\n",
       "MQ                  6.161854   5.082173\n",
       "NK                 10.765198   6.130810\n",
       "OH                 10.190031   8.222737\n",
       "OO                 10.591888   7.406209\n",
       "UA                 10.318439   3.979907\n",
       "VX                 12.313815  10.174741\n",
       "WN                 11.258948   4.728758\n",
       "YV                 14.045898  12.374643\n",
       "YX                  8.863627   4.889742"
      ]
     },
     "execution_count": 71,
     "metadata": {},
     "output_type": "execute_result"
    }
   ],
   "source": [
    "df_airlines = df.groupby(['Reporting_Airline'])['DepDelay', 'ArrDelay'].mean()\n",
    "df_airlines"
   ]
  },
  {
   "cell_type": "code",
   "execution_count": 72,
   "id": "db18ae70",
   "metadata": {},
   "outputs": [
    {
     "data": {
      "image/png": "[encoded data removed]",
      "text/plain": [
       "<Figure size 432x288 with 1 Axes>"
      ]
     },
     "metadata": {
      "needs_background": "light"
     },
     "output_type": "display_data"
    }
   ],
   "source": [
    "plt.bar(df_airlines.index,df_airlines['DepDelay'],label='DepDelay')\n",
    "plt.bar(df_airlines.index,df_airlines['ArrDelay'],label='ArrDelay')\n",
    "plt.title('Average Flight Delay Time For Each Airline')\n",
    "plt.legend()\n",
    "plt.show()"
   ]
  },
  {
   "cell_type": "code",
   "execution_count": 37,
   "id": "715f051c",
   "metadata": {},
   "outputs": [
    {
     "data": {
      "text/plain": [
       "<seaborn.axisgrid.FacetGrid at 0x154a649f520>"
      ]
     },
     "execution_count": 37,
     "metadata": {},
     "output_type": "execute_result"
    },
    {
     "data": {
      "image/png": "[encoded data removed]",
      "text/plain": [
       "<Figure size 453.5x360 with 1 Axes>"
      ]
     },
     "metadata": {
      "needs_background": "light"
     },
     "output_type": "display_data"
    }
   ],
   "source": [
    "# Not good\n",
    "# sns.displot(\n",
    "#     shortDelay,\n",
    "#     x='DepDelay', hue='Reporting_Airline',\n",
    "#     kind = 'kde',\n",
    "# )"
   ]
  },
  {
   "cell_type": "code",
   "execution_count": 39,
   "id": "95c725f0",
   "metadata": {},
   "outputs": [
    {
     "data": {
      "text/plain": [
       "<AxesSubplot:xlabel='Reporting_Airline', ylabel='DepDelay'>"
      ]
     },
     "execution_count": 39,
     "metadata": {},
     "output_type": "execute_result"
    },
    {
     "data": {
      "image/png": "[encoded data removed]",
      "text/plain": [
       "<Figure size 432x288 with 1 Axes>"
      ]
     },
     "metadata": {
      "needs_background": "light"
     },
     "output_type": "display_data"
    }
   ],
   "source": [
    "sns.boxplot(\n",
    "    data=shortDelay,\n",
    "    y=\"DepDelay\", x=\"Reporting_Airline\"\n",
    ")"
   ]
  },
  {
   "cell_type": "markdown",
   "id": "eb6c4c8e",
   "metadata": {},
   "source": [
    "### Airports"
   ]
  },
  {
   "cell_type": "code",
   "execution_count": 33,
   "id": "9c32db16",
   "metadata": {},
   "outputs": [
    {
     "data": {
      "text/plain": [
       "<AxesSubplot:>"
      ]
     },
     "execution_count": 33,
     "metadata": {},
     "output_type": "execute_result"
    },
    {
     "data": {
      "image/png": "[encoded data removed]",
      "text/plain": [
       "<Figure size 432x288 with 1 Axes>"
      ]
     },
     "metadata": {
      "needs_background": "light"
     },
     "output_type": "display_data"
    }
   ],
   "source": [
    "df.Origin.hist()"
   ]
  },
  {
   "cell_type": "code",
   "execution_count": 73,
   "id": "fb8ee13a",
   "metadata": {},
   "outputs": [
    {
     "name": "stderr",
     "output_type": "stream",
     "text": [
      "<ipython-input-73-d2f53b5269bd>:1: FutureWarning: Indexing with multiple keys (implicitly converted to a tuple of keys) will be deprecated, use a list instead.\n",
      "  df_airports = df.groupby(['Origin'])['DepDelay', 'ArrDelay'].mean()\n"
     ]
    },
    {
     "data": {
      "text/html": [
       "<div>\n",
       "<style scoped>\n",
       "    .dataframe tbody tr th:only-of-type {\n",
       "        vertical-align: middle;\n",
       "    }\n",
       "\n",
       "    .dataframe tbody tr th {\n",
       "        vertical-align: top;\n",
       "    }\n",
       "\n",
       "    .dataframe thead th {\n",
       "        text-align: right;\n",
       "    }\n",
       "</style>\n",
       "<table border=\"1\" class=\"dataframe\">\n",
       "  <thead>\n",
       "    <tr style=\"text-align: right;\">\n",
       "      <th></th>\n",
       "      <th>DepDelay</th>\n",
       "      <th>ArrDelay</th>\n",
       "    </tr>\n",
       "    <tr>\n",
       "      <th>Origin</th>\n",
       "      <th></th>\n",
       "      <th></th>\n",
       "    </tr>\n",
       "  </thead>\n",
       "  <tbody>\n",
       "    <tr>\n",
       "      <th>ATL</th>\n",
       "      <td>9.015955</td>\n",
       "      <td>2.512978</td>\n",
       "    </tr>\n",
       "    <tr>\n",
       "      <th>CLT</th>\n",
       "      <td>9.602507</td>\n",
       "      <td>5.935312</td>\n",
       "    </tr>\n",
       "    <tr>\n",
       "      <th>DEN</th>\n",
       "      <td>10.214308</td>\n",
       "      <td>4.817213</td>\n",
       "    </tr>\n",
       "    <tr>\n",
       "      <th>DFW</th>\n",
       "      <td>11.463171</td>\n",
       "      <td>8.356741</td>\n",
       "    </tr>\n",
       "    <tr>\n",
       "      <th>LAS</th>\n",
       "      <td>9.942201</td>\n",
       "      <td>4.245567</td>\n",
       "    </tr>\n",
       "    <tr>\n",
       "      <th>LAX</th>\n",
       "      <td>10.314158</td>\n",
       "      <td>3.458775</td>\n",
       "    </tr>\n",
       "    <tr>\n",
       "      <th>MCO</th>\n",
       "      <td>12.041855</td>\n",
       "      <td>6.341227</td>\n",
       "    </tr>\n",
       "    <tr>\n",
       "      <th>ORD</th>\n",
       "      <td>12.409299</td>\n",
       "      <td>8.619738</td>\n",
       "    </tr>\n",
       "    <tr>\n",
       "      <th>PHX</th>\n",
       "      <td>8.008112</td>\n",
       "      <td>2.974556</td>\n",
       "    </tr>\n",
       "    <tr>\n",
       "      <th>SEA</th>\n",
       "      <td>6.714452</td>\n",
       "      <td>1.297794</td>\n",
       "    </tr>\n",
       "  </tbody>\n",
       "</table>\n",
       "</div>"
      ],
      "text/plain": [
       "         DepDelay  ArrDelay\n",
       "Origin                     \n",
       "ATL      9.015955  2.512978\n",
       "CLT      9.602507  5.935312\n",
       "DEN     10.214308  4.817213\n",
       "DFW     11.463171  8.356741\n",
       "LAS      9.942201  4.245567\n",
       "LAX     10.314158  3.458775\n",
       "MCO     12.041855  6.341227\n",
       "ORD     12.409299  8.619738\n",
       "PHX      8.008112  2.974556\n",
       "SEA      6.714452  1.297794"
      ]
     },
     "execution_count": 73,
     "metadata": {},
     "output_type": "execute_result"
    }
   ],
   "source": [
    "df_airports = df.groupby(['Origin'])['DepDelay', 'ArrDelay'].mean()\n",
    "df_airports"
   ]
  },
  {
   "cell_type": "code",
   "execution_count": 74,
   "id": "a157ad14",
   "metadata": {},
   "outputs": [
    {
     "data": {
      "image/png": "[encoded data removed]",
      "text/plain": [
       "<Figure size 432x288 with 1 Axes>"
      ]
     },
     "metadata": {
      "needs_background": "light"
     },
     "output_type": "display_data"
    }
   ],
   "source": [
    "plt.bar(df_airports.index,df_airports['DepDelay'],label='DepDelay')\n",
    "plt.bar(df_airports.index,df_airports['ArrDelay'],label='ArrDelay')\n",
    "plt.title('Average Flight Delay Time For Each Airport')\n",
    "plt.legend()\n",
    "plt.show()"
   ]
  },
  {
   "cell_type": "code",
   "execution_count": 42,
   "id": "13381acd",
   "metadata": {},
   "outputs": [
    {
     "data": {
      "text/plain": [
       "<AxesSubplot:xlabel='Origin', ylabel='DepDelay'>"
      ]
     },
     "execution_count": 42,
     "metadata": {},
     "output_type": "execute_result"
    },
    {
     "data": {
      "image/png": "[encoded data removed]",
      "text/plain": [
       "<Figure size 432x288 with 1 Axes>"
      ]
     },
     "metadata": {
      "needs_background": "light"
     },
     "output_type": "display_data"
    }
   ],
   "source": [
    "sns.boxplot(\n",
    "    data=shortDelay,\n",
    "    y=\"DepDelay\", x=\"Origin\"\n",
    ")"
   ]
  }
 ],
 "metadata": {
  "kernelspec": {
   "display_name": "Python 3",
   "language": "python",
   "name": "python3"
  },
  "language_info": {
   "codemirror_mode": {
    "name": "ipython",
    "version": 3
   },
   "file_extension": ".py",
   "mimetype": "text/x-python",
   "name": "python",
   "nbconvert_exporter": "python",
   "pygments_lexer": "ipython3",
   "version": "3.8.8"
  }
 },
 "nbformat": 4,
 "nbformat_minor": 5
}
