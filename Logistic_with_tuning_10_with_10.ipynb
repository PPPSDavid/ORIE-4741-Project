{
 "cells": [
  {
   "cell_type": "code",
   "execution_count": 2,
   "id": "f29573a2",
   "metadata": {},
   "outputs": [],
   "source": [
    "# LT: Exclude DepDelay\n",
    "# ST: Include DepDelay\n",
    "# Classification: Predict if arrdelay > 0\n",
    "\n",
    "# Import Necessary Package here\n",
    "import pandas as pd\n",
    "import numpy as np\n",
    "from sklearn.model_selection import train_test_split, GridSearchCV\n",
    "from sklearn.metrics import accuracy_score, confusion_matrix, classification_report, plot_confusion_matrix\n",
    "from sklearn import metrics\n",
    "from sklearn import preprocessing\n",
    "import gc\n",
    "\n",
    "# Models\n",
    "from sklearn.linear_model import LogisticRegression\n",
    "from sklearn.tree import DecisionTreeClassifier\n",
    "from sklearn.ensemble import  RandomForestClassifier, GradientBoostingClassifier, AdaBoostClassifier\n",
    "from xgboost import XGBClassifier, plot_importance\n",
    "\n",
    "import matplotlib.pyplot as plt"
   ]
  },
  {
   "cell_type": "markdown",
   "id": "bdc78d7e",
   "metadata": {},
   "source": [
    "# Data Import"
   ]
  },
  {
   "cell_type": "code",
   "execution_count": 3,
   "id": "f793f304",
   "metadata": {},
   "outputs": [],
   "source": [
    "# Load CSV \n",
    "df = pd.read_csv(r\"C:\\Users\\19665\\Documents\\ORIE-4741-Project\\2016_to_2020_flight_feature_eng_w_Dest_10_10.csv\")"
   ]
  },
  {
   "cell_type": "code",
   "execution_count": 4,
   "id": "2d5b41a4",
   "metadata": {},
   "outputs": [
    {
     "data": {
      "text/plain": [
       "Index(['Year', 'Month', 'DayofMonth', 'DepDelay', 'ArrDelay', 'CRSElapsedTime',\n",
       "       'Distance', 'Severe-Cold_Severity', 'Fog_Severity', 'Hail_Severity',\n",
       "       'Rain_Severity', 'Snow_Severity', 'Storm_Severity',\n",
       "       'Other Precipitation_Severity', 'CRSDep_afternoon', 'CRSDep_midnight',\n",
       "       'CRSDep_morning', 'CRSDep_night', 'CRSArr_afternoon', 'CRSArr_midnight',\n",
       "       'CRSArr_morning', 'CRSArr_night', 'Q1', 'Q2', 'Q3', 'Q4', 'Mon', 'Tue',\n",
       "       'Wed', 'Thu', 'Fri', 'Sat', 'Sun', 'Airline_9E', 'Airline_AA',\n",
       "       'Airline_AS', 'Airline_B6', 'Airline_DL', 'Airline_EV', 'Airline_F9',\n",
       "       'Airline_G4', 'Airline_MQ', 'Airline_NK', 'Airline_OH', 'Airline_OO',\n",
       "       'Airline_UA', 'Airline_VX', 'Airline_WN', 'Airline_YV', 'Airline_YX',\n",
       "       'Origin_ATL', 'Origin_CLT', 'Origin_DEN', 'Origin_DFW', 'Origin_LAS',\n",
       "       'Origin_LAX', 'Origin_MCO', 'Origin_ORD', 'Origin_PHX', 'Origin_SEA',\n",
       "       'Dest_ATL', 'Dest_CLT', 'Dest_DEN', 'Dest_DFW', 'Dest_LAS', 'Dest_LAX',\n",
       "       'Dest_MCO', 'Dest_ORD', 'Dest_PHX', 'Dest_SEA'],\n",
       "      dtype='object')"
      ]
     },
     "execution_count": 4,
     "metadata": {},
     "output_type": "execute_result"
    }
   ],
   "source": [
    "df = df.drop('Unnamed: 0', axis = 1)\n",
    "df.columns"
   ]
  },
  {
   "cell_type": "code",
   "execution_count": 5,
   "id": "3ffd6de8",
   "metadata": {},
   "outputs": [
    {
     "data": {
      "text/plain": [
       "Series([], dtype: object)"
      ]
     },
     "execution_count": 5,
     "metadata": {},
     "output_type": "execute_result"
    }
   ],
   "source": [
    "# Check all columns are in numeric form\n",
    "df.dtypes[df.dtypes != 'int64'][df.dtypes != 'float64']"
   ]
  },
  {
   "cell_type": "code",
   "execution_count": 6,
   "id": "c0121595",
   "metadata": {},
   "outputs": [
    {
     "data": {
      "text/plain": [
       "False"
      ]
     },
     "execution_count": 6,
     "metadata": {},
     "output_type": "execute_result"
    }
   ],
   "source": [
    "# Check NA value \n",
    "df.isnull().values.any()"
   ]
  },
  {
   "cell_type": "code",
   "execution_count": 7,
   "id": "60b9fa54",
   "metadata": {},
   "outputs": [],
   "source": [
    "# Turn Regression into classification problem\n",
    "df['is_late'] = df['ArrDelay'] > 0\n",
    "df = df.drop(columns = ['ArrDelay'])"
   ]
  },
  {
   "cell_type": "code",
   "execution_count": 8,
   "id": "a941d163",
   "metadata": {},
   "outputs": [
    {
     "data": {
      "text/html": [
       "<div>\n",
       "<style scoped>\n",
       "    .dataframe tbody tr th:only-of-type {\n",
       "        vertical-align: middle;\n",
       "    }\n",
       "\n",
       "    .dataframe tbody tr th {\n",
       "        vertical-align: top;\n",
       "    }\n",
       "\n",
       "    .dataframe thead th {\n",
       "        text-align: right;\n",
       "    }\n",
       "</style>\n",
       "<table border=\"1\" class=\"dataframe\">\n",
       "  <thead>\n",
       "    <tr style=\"text-align: right;\">\n",
       "      <th></th>\n",
       "      <th>Year</th>\n",
       "      <th>Month</th>\n",
       "      <th>DayofMonth</th>\n",
       "      <th>DepDelay</th>\n",
       "      <th>CRSElapsedTime</th>\n",
       "      <th>Distance</th>\n",
       "      <th>Severe-Cold_Severity</th>\n",
       "      <th>Fog_Severity</th>\n",
       "      <th>Hail_Severity</th>\n",
       "      <th>Rain_Severity</th>\n",
       "      <th>Snow_Severity</th>\n",
       "      <th>Storm_Severity</th>\n",
       "      <th>Other Precipitation_Severity</th>\n",
       "      <th>CRSDep_afternoon</th>\n",
       "      <th>CRSDep_midnight</th>\n",
       "      <th>CRSDep_morning</th>\n",
       "      <th>CRSDep_night</th>\n",
       "      <th>CRSArr_afternoon</th>\n",
       "      <th>CRSArr_midnight</th>\n",
       "      <th>CRSArr_morning</th>\n",
       "      <th>CRSArr_night</th>\n",
       "      <th>Q1</th>\n",
       "      <th>Q2</th>\n",
       "      <th>Q3</th>\n",
       "      <th>Q4</th>\n",
       "      <th>Mon</th>\n",
       "      <th>Tue</th>\n",
       "      <th>Wed</th>\n",
       "      <th>Thu</th>\n",
       "      <th>Fri</th>\n",
       "      <th>Sat</th>\n",
       "      <th>Sun</th>\n",
       "      <th>Airline_9E</th>\n",
       "      <th>Airline_AA</th>\n",
       "      <th>Airline_AS</th>\n",
       "      <th>Airline_B6</th>\n",
       "      <th>Airline_DL</th>\n",
       "      <th>Airline_EV</th>\n",
       "      <th>Airline_F9</th>\n",
       "      <th>Airline_G4</th>\n",
       "      <th>Airline_MQ</th>\n",
       "      <th>Airline_NK</th>\n",
       "      <th>Airline_OH</th>\n",
       "      <th>Airline_OO</th>\n",
       "      <th>Airline_UA</th>\n",
       "      <th>Airline_VX</th>\n",
       "      <th>Airline_WN</th>\n",
       "      <th>Airline_YV</th>\n",
       "      <th>Airline_YX</th>\n",
       "      <th>Origin_ATL</th>\n",
       "      <th>Origin_CLT</th>\n",
       "      <th>Origin_DEN</th>\n",
       "      <th>Origin_DFW</th>\n",
       "      <th>Origin_LAS</th>\n",
       "      <th>Origin_LAX</th>\n",
       "      <th>Origin_MCO</th>\n",
       "      <th>Origin_ORD</th>\n",
       "      <th>Origin_PHX</th>\n",
       "      <th>Origin_SEA</th>\n",
       "      <th>Dest_ATL</th>\n",
       "      <th>Dest_CLT</th>\n",
       "      <th>Dest_DEN</th>\n",
       "      <th>Dest_DFW</th>\n",
       "      <th>Dest_LAS</th>\n",
       "      <th>Dest_LAX</th>\n",
       "      <th>Dest_MCO</th>\n",
       "      <th>Dest_ORD</th>\n",
       "      <th>Dest_PHX</th>\n",
       "      <th>Dest_SEA</th>\n",
       "      <th>is_late</th>\n",
       "    </tr>\n",
       "  </thead>\n",
       "  <tbody>\n",
       "    <tr>\n",
       "      <th>0</th>\n",
       "      <td>2016</td>\n",
       "      <td>1</td>\n",
       "      <td>1</td>\n",
       "      <td>0.0</td>\n",
       "      <td>148.0</td>\n",
       "      <td>868.0</td>\n",
       "      <td>0</td>\n",
       "      <td>0</td>\n",
       "      <td>0</td>\n",
       "      <td>0</td>\n",
       "      <td>0</td>\n",
       "      <td>0</td>\n",
       "      <td>0</td>\n",
       "      <td>0</td>\n",
       "      <td>0</td>\n",
       "      <td>1</td>\n",
       "      <td>0</td>\n",
       "      <td>1</td>\n",
       "      <td>0</td>\n",
       "      <td>0</td>\n",
       "      <td>0</td>\n",
       "      <td>1</td>\n",
       "      <td>0</td>\n",
       "      <td>0</td>\n",
       "      <td>0</td>\n",
       "      <td>0</td>\n",
       "      <td>0</td>\n",
       "      <td>0</td>\n",
       "      <td>0</td>\n",
       "      <td>1</td>\n",
       "      <td>0</td>\n",
       "      <td>0</td>\n",
       "      <td>0</td>\n",
       "      <td>1</td>\n",
       "      <td>0</td>\n",
       "      <td>0</td>\n",
       "      <td>0</td>\n",
       "      <td>0</td>\n",
       "      <td>0</td>\n",
       "      <td>0</td>\n",
       "      <td>0</td>\n",
       "      <td>0</td>\n",
       "      <td>0</td>\n",
       "      <td>0</td>\n",
       "      <td>0</td>\n",
       "      <td>0</td>\n",
       "      <td>0</td>\n",
       "      <td>0</td>\n",
       "      <td>0</td>\n",
       "      <td>0</td>\n",
       "      <td>0</td>\n",
       "      <td>0</td>\n",
       "      <td>0</td>\n",
       "      <td>0</td>\n",
       "      <td>0</td>\n",
       "      <td>0</td>\n",
       "      <td>0</td>\n",
       "      <td>1</td>\n",
       "      <td>0</td>\n",
       "      <td>0</td>\n",
       "      <td>0</td>\n",
       "      <td>0</td>\n",
       "      <td>1</td>\n",
       "      <td>0</td>\n",
       "      <td>0</td>\n",
       "      <td>0</td>\n",
       "      <td>0</td>\n",
       "      <td>0</td>\n",
       "      <td>0</td>\n",
       "      <td>False</td>\n",
       "    </tr>\n",
       "    <tr>\n",
       "      <th>1</th>\n",
       "      <td>2016</td>\n",
       "      <td>1</td>\n",
       "      <td>2</td>\n",
       "      <td>11.0</td>\n",
       "      <td>148.0</td>\n",
       "      <td>868.0</td>\n",
       "      <td>0</td>\n",
       "      <td>0</td>\n",
       "      <td>0</td>\n",
       "      <td>0</td>\n",
       "      <td>0</td>\n",
       "      <td>0</td>\n",
       "      <td>0</td>\n",
       "      <td>0</td>\n",
       "      <td>0</td>\n",
       "      <td>1</td>\n",
       "      <td>0</td>\n",
       "      <td>1</td>\n",
       "      <td>0</td>\n",
       "      <td>0</td>\n",
       "      <td>0</td>\n",
       "      <td>1</td>\n",
       "      <td>0</td>\n",
       "      <td>0</td>\n",
       "      <td>0</td>\n",
       "      <td>0</td>\n",
       "      <td>0</td>\n",
       "      <td>0</td>\n",
       "      <td>0</td>\n",
       "      <td>0</td>\n",
       "      <td>1</td>\n",
       "      <td>0</td>\n",
       "      <td>0</td>\n",
       "      <td>1</td>\n",
       "      <td>0</td>\n",
       "      <td>0</td>\n",
       "      <td>0</td>\n",
       "      <td>0</td>\n",
       "      <td>0</td>\n",
       "      <td>0</td>\n",
       "      <td>0</td>\n",
       "      <td>0</td>\n",
       "      <td>0</td>\n",
       "      <td>0</td>\n",
       "      <td>0</td>\n",
       "      <td>0</td>\n",
       "      <td>0</td>\n",
       "      <td>0</td>\n",
       "      <td>0</td>\n",
       "      <td>0</td>\n",
       "      <td>0</td>\n",
       "      <td>0</td>\n",
       "      <td>0</td>\n",
       "      <td>0</td>\n",
       "      <td>0</td>\n",
       "      <td>0</td>\n",
       "      <td>0</td>\n",
       "      <td>1</td>\n",
       "      <td>0</td>\n",
       "      <td>0</td>\n",
       "      <td>0</td>\n",
       "      <td>0</td>\n",
       "      <td>1</td>\n",
       "      <td>0</td>\n",
       "      <td>0</td>\n",
       "      <td>0</td>\n",
       "      <td>0</td>\n",
       "      <td>0</td>\n",
       "      <td>0</td>\n",
       "      <td>False</td>\n",
       "    </tr>\n",
       "    <tr>\n",
       "      <th>2</th>\n",
       "      <td>2016</td>\n",
       "      <td>1</td>\n",
       "      <td>3</td>\n",
       "      <td>11.0</td>\n",
       "      <td>148.0</td>\n",
       "      <td>868.0</td>\n",
       "      <td>0</td>\n",
       "      <td>0</td>\n",
       "      <td>0</td>\n",
       "      <td>0</td>\n",
       "      <td>0</td>\n",
       "      <td>0</td>\n",
       "      <td>0</td>\n",
       "      <td>0</td>\n",
       "      <td>0</td>\n",
       "      <td>1</td>\n",
       "      <td>0</td>\n",
       "      <td>1</td>\n",
       "      <td>0</td>\n",
       "      <td>0</td>\n",
       "      <td>0</td>\n",
       "      <td>1</td>\n",
       "      <td>0</td>\n",
       "      <td>0</td>\n",
       "      <td>0</td>\n",
       "      <td>0</td>\n",
       "      <td>0</td>\n",
       "      <td>0</td>\n",
       "      <td>0</td>\n",
       "      <td>0</td>\n",
       "      <td>0</td>\n",
       "      <td>1</td>\n",
       "      <td>0</td>\n",
       "      <td>1</td>\n",
       "      <td>0</td>\n",
       "      <td>0</td>\n",
       "      <td>0</td>\n",
       "      <td>0</td>\n",
       "      <td>0</td>\n",
       "      <td>0</td>\n",
       "      <td>0</td>\n",
       "      <td>0</td>\n",
       "      <td>0</td>\n",
       "      <td>0</td>\n",
       "      <td>0</td>\n",
       "      <td>0</td>\n",
       "      <td>0</td>\n",
       "      <td>0</td>\n",
       "      <td>0</td>\n",
       "      <td>0</td>\n",
       "      <td>0</td>\n",
       "      <td>0</td>\n",
       "      <td>0</td>\n",
       "      <td>0</td>\n",
       "      <td>0</td>\n",
       "      <td>0</td>\n",
       "      <td>0</td>\n",
       "      <td>1</td>\n",
       "      <td>0</td>\n",
       "      <td>0</td>\n",
       "      <td>0</td>\n",
       "      <td>0</td>\n",
       "      <td>1</td>\n",
       "      <td>0</td>\n",
       "      <td>0</td>\n",
       "      <td>0</td>\n",
       "      <td>0</td>\n",
       "      <td>0</td>\n",
       "      <td>0</td>\n",
       "      <td>False</td>\n",
       "    </tr>\n",
       "    <tr>\n",
       "      <th>3</th>\n",
       "      <td>2016</td>\n",
       "      <td>1</td>\n",
       "      <td>4</td>\n",
       "      <td>2.0</td>\n",
       "      <td>148.0</td>\n",
       "      <td>868.0</td>\n",
       "      <td>0</td>\n",
       "      <td>0</td>\n",
       "      <td>0</td>\n",
       "      <td>0</td>\n",
       "      <td>0</td>\n",
       "      <td>0</td>\n",
       "      <td>0</td>\n",
       "      <td>0</td>\n",
       "      <td>0</td>\n",
       "      <td>1</td>\n",
       "      <td>0</td>\n",
       "      <td>1</td>\n",
       "      <td>0</td>\n",
       "      <td>0</td>\n",
       "      <td>0</td>\n",
       "      <td>1</td>\n",
       "      <td>0</td>\n",
       "      <td>0</td>\n",
       "      <td>0</td>\n",
       "      <td>1</td>\n",
       "      <td>0</td>\n",
       "      <td>0</td>\n",
       "      <td>0</td>\n",
       "      <td>0</td>\n",
       "      <td>0</td>\n",
       "      <td>0</td>\n",
       "      <td>0</td>\n",
       "      <td>1</td>\n",
       "      <td>0</td>\n",
       "      <td>0</td>\n",
       "      <td>0</td>\n",
       "      <td>0</td>\n",
       "      <td>0</td>\n",
       "      <td>0</td>\n",
       "      <td>0</td>\n",
       "      <td>0</td>\n",
       "      <td>0</td>\n",
       "      <td>0</td>\n",
       "      <td>0</td>\n",
       "      <td>0</td>\n",
       "      <td>0</td>\n",
       "      <td>0</td>\n",
       "      <td>0</td>\n",
       "      <td>0</td>\n",
       "      <td>0</td>\n",
       "      <td>0</td>\n",
       "      <td>0</td>\n",
       "      <td>0</td>\n",
       "      <td>0</td>\n",
       "      <td>0</td>\n",
       "      <td>0</td>\n",
       "      <td>1</td>\n",
       "      <td>0</td>\n",
       "      <td>0</td>\n",
       "      <td>0</td>\n",
       "      <td>0</td>\n",
       "      <td>1</td>\n",
       "      <td>0</td>\n",
       "      <td>0</td>\n",
       "      <td>0</td>\n",
       "      <td>0</td>\n",
       "      <td>0</td>\n",
       "      <td>0</td>\n",
       "      <td>True</td>\n",
       "    </tr>\n",
       "    <tr>\n",
       "      <th>4</th>\n",
       "      <td>2016</td>\n",
       "      <td>1</td>\n",
       "      <td>5</td>\n",
       "      <td>558.0</td>\n",
       "      <td>149.0</td>\n",
       "      <td>868.0</td>\n",
       "      <td>0</td>\n",
       "      <td>0</td>\n",
       "      <td>0</td>\n",
       "      <td>1</td>\n",
       "      <td>0</td>\n",
       "      <td>0</td>\n",
       "      <td>0</td>\n",
       "      <td>0</td>\n",
       "      <td>0</td>\n",
       "      <td>1</td>\n",
       "      <td>0</td>\n",
       "      <td>1</td>\n",
       "      <td>0</td>\n",
       "      <td>0</td>\n",
       "      <td>0</td>\n",
       "      <td>1</td>\n",
       "      <td>0</td>\n",
       "      <td>0</td>\n",
       "      <td>0</td>\n",
       "      <td>0</td>\n",
       "      <td>1</td>\n",
       "      <td>0</td>\n",
       "      <td>0</td>\n",
       "      <td>0</td>\n",
       "      <td>0</td>\n",
       "      <td>0</td>\n",
       "      <td>0</td>\n",
       "      <td>1</td>\n",
       "      <td>0</td>\n",
       "      <td>0</td>\n",
       "      <td>0</td>\n",
       "      <td>0</td>\n",
       "      <td>0</td>\n",
       "      <td>0</td>\n",
       "      <td>0</td>\n",
       "      <td>0</td>\n",
       "      <td>0</td>\n",
       "      <td>0</td>\n",
       "      <td>0</td>\n",
       "      <td>0</td>\n",
       "      <td>0</td>\n",
       "      <td>0</td>\n",
       "      <td>0</td>\n",
       "      <td>0</td>\n",
       "      <td>0</td>\n",
       "      <td>0</td>\n",
       "      <td>0</td>\n",
       "      <td>0</td>\n",
       "      <td>0</td>\n",
       "      <td>0</td>\n",
       "      <td>0</td>\n",
       "      <td>1</td>\n",
       "      <td>0</td>\n",
       "      <td>0</td>\n",
       "      <td>0</td>\n",
       "      <td>0</td>\n",
       "      <td>1</td>\n",
       "      <td>0</td>\n",
       "      <td>0</td>\n",
       "      <td>0</td>\n",
       "      <td>0</td>\n",
       "      <td>0</td>\n",
       "      <td>0</td>\n",
       "      <td>True</td>\n",
       "    </tr>\n",
       "  </tbody>\n",
       "</table>\n",
       "</div>"
      ],
      "text/plain": [
       "   Year  Month  DayofMonth  DepDelay  CRSElapsedTime  Distance  \\\n",
       "0  2016      1           1       0.0           148.0     868.0   \n",
       "1  2016      1           2      11.0           148.0     868.0   \n",
       "2  2016      1           3      11.0           148.0     868.0   \n",
       "3  2016      1           4       2.0           148.0     868.0   \n",
       "4  2016      1           5     558.0           149.0     868.0   \n",
       "\n",
       "   Severe-Cold_Severity  Fog_Severity  Hail_Severity  Rain_Severity  \\\n",
       "0                     0             0              0              0   \n",
       "1                     0             0              0              0   \n",
       "2                     0             0              0              0   \n",
       "3                     0             0              0              0   \n",
       "4                     0             0              0              1   \n",
       "\n",
       "   Snow_Severity  Storm_Severity  Other Precipitation_Severity  \\\n",
       "0              0               0                             0   \n",
       "1              0               0                             0   \n",
       "2              0               0                             0   \n",
       "3              0               0                             0   \n",
       "4              0               0                             0   \n",
       "\n",
       "   CRSDep_afternoon  CRSDep_midnight  CRSDep_morning  CRSDep_night  \\\n",
       "0                 0                0               1             0   \n",
       "1                 0                0               1             0   \n",
       "2                 0                0               1             0   \n",
       "3                 0                0               1             0   \n",
       "4                 0                0               1             0   \n",
       "\n",
       "   CRSArr_afternoon  CRSArr_midnight  CRSArr_morning  CRSArr_night  Q1  Q2  \\\n",
       "0                 1                0               0             0   1   0   \n",
       "1                 1                0               0             0   1   0   \n",
       "2                 1                0               0             0   1   0   \n",
       "3                 1                0               0             0   1   0   \n",
       "4                 1                0               0             0   1   0   \n",
       "\n",
       "   Q3  Q4  Mon  Tue  Wed  Thu  Fri  Sat  Sun  Airline_9E  Airline_AA  \\\n",
       "0   0   0    0    0    0    0    1    0    0           0           1   \n",
       "1   0   0    0    0    0    0    0    1    0           0           1   \n",
       "2   0   0    0    0    0    0    0    0    1           0           1   \n",
       "3   0   0    1    0    0    0    0    0    0           0           1   \n",
       "4   0   0    0    1    0    0    0    0    0           0           1   \n",
       "\n",
       "   Airline_AS  Airline_B6  Airline_DL  Airline_EV  Airline_F9  Airline_G4  \\\n",
       "0           0           0           0           0           0           0   \n",
       "1           0           0           0           0           0           0   \n",
       "2           0           0           0           0           0           0   \n",
       "3           0           0           0           0           0           0   \n",
       "4           0           0           0           0           0           0   \n",
       "\n",
       "   Airline_MQ  Airline_NK  Airline_OH  Airline_OO  Airline_UA  Airline_VX  \\\n",
       "0           0           0           0           0           0           0   \n",
       "1           0           0           0           0           0           0   \n",
       "2           0           0           0           0           0           0   \n",
       "3           0           0           0           0           0           0   \n",
       "4           0           0           0           0           0           0   \n",
       "\n",
       "   Airline_WN  Airline_YV  Airline_YX  Origin_ATL  Origin_CLT  Origin_DEN  \\\n",
       "0           0           0           0           0           0           0   \n",
       "1           0           0           0           0           0           0   \n",
       "2           0           0           0           0           0           0   \n",
       "3           0           0           0           0           0           0   \n",
       "4           0           0           0           0           0           0   \n",
       "\n",
       "   Origin_DFW  Origin_LAS  Origin_LAX  Origin_MCO  Origin_ORD  Origin_PHX  \\\n",
       "0           0           0           0           0           0           1   \n",
       "1           0           0           0           0           0           1   \n",
       "2           0           0           0           0           0           1   \n",
       "3           0           0           0           0           0           1   \n",
       "4           0           0           0           0           0           1   \n",
       "\n",
       "   Origin_SEA  Dest_ATL  Dest_CLT  Dest_DEN  Dest_DFW  Dest_LAS  Dest_LAX  \\\n",
       "0           0         0         0         0         1         0         0   \n",
       "1           0         0         0         0         1         0         0   \n",
       "2           0         0         0         0         1         0         0   \n",
       "3           0         0         0         0         1         0         0   \n",
       "4           0         0         0         0         1         0         0   \n",
       "\n",
       "   Dest_MCO  Dest_ORD  Dest_PHX  Dest_SEA  is_late  \n",
       "0         0         0         0         0    False  \n",
       "1         0         0         0         0    False  \n",
       "2         0         0         0         0    False  \n",
       "3         0         0         0         0     True  \n",
       "4         0         0         0         0     True  "
      ]
     },
     "execution_count": 8,
     "metadata": {},
     "output_type": "execute_result"
    }
   ],
   "source": [
    "# Inspect all columns\n",
    "pd.set_option('display.max_columns', None)\n",
    "df.head() "
   ]
  },
  {
   "cell_type": "markdown",
   "id": "efccfd85",
   "metadata": {},
   "source": [
    "# Long vs Short Term Model\n",
    "As discussed in porposal, we will have two models, one predicting delay before passengers arrive at the airport, and the other one predict delay using all data avaliable until the plane left the ground.\n",
    "\n",
    "Here, some columns contain data that will only be avaliable when the passengers board the plane (like DepDelay and Weather). We cannot use them in our long-run forecase, but we can include them in our short-run forecast."
   ]
  },
  {
   "cell_type": "code",
   "execution_count": 9,
   "id": "906f6da0",
   "metadata": {},
   "outputs": [],
   "source": [
    "weather_columns = ['Severe-Cold', 'Fog', 'Hail', 'Rain', 'Snow', 'Storm', 'Other Precipitation']\n",
    "ST_columns = ['DepDelay'] \n",
    "df_LT = df[df.columns.difference(ST_columns)]\n",
    "# df_ST = df"
   ]
  },
  {
   "cell_type": "code",
   "execution_count": 10,
   "id": "08927015",
   "metadata": {},
   "outputs": [
    {
     "data": {
      "text/plain": [
       "18"
      ]
     },
     "execution_count": 10,
     "metadata": {},
     "output_type": "execute_result"
    }
   ],
   "source": [
    "del [[df]]\n",
    "gc.collect()"
   ]
  },
  {
   "cell_type": "code",
   "execution_count": 11,
   "id": "82ab1743",
   "metadata": {},
   "outputs": [],
   "source": [
    "# Specify X and y\n",
    "X = df_LT.drop(columns = ['is_late'])\n",
    "y = pd.DataFrame(df_LT['is_late'])\n",
    "\n",
    "# X = df_ST.drop(columns = ['is_late'])\n",
    "# y = pd.DataFrame(df_ST['is_late'])\n",
    "\n",
    "\n",
    "# Perform train-test-validation split (Train: 0.6, test: 0.2, Val: 0.2)\n",
    "X_train, X_test, y_train, y_test = train_test_split(X, y, test_size=0.2)\n",
    "X_train, X_val, y_train, y_val = train_test_split(X_train, y_train, test_size=0.25)"
   ]
  },
  {
   "cell_type": "code",
   "execution_count": 12,
   "id": "5ad4cb17",
   "metadata": {},
   "outputs": [
    {
     "data": {
      "text/plain": [
       "(393817, 68)"
      ]
     },
     "execution_count": 12,
     "metadata": {},
     "output_type": "execute_result"
    }
   ],
   "source": [
    "X_val.shape"
   ]
  },
  {
   "cell_type": "code",
   "execution_count": 13,
   "id": "facaa26e",
   "metadata": {},
   "outputs": [
    {
     "data": {
      "text/plain": [
       "(393817, 68)"
      ]
     },
     "execution_count": 13,
     "metadata": {},
     "output_type": "execute_result"
    }
   ],
   "source": [
    "X_test.shape"
   ]
  },
  {
   "cell_type": "code",
   "execution_count": 14,
   "id": "37c74069",
   "metadata": {},
   "outputs": [
    {
     "data": {
      "text/plain": [
       "(1181450, 68)"
      ]
     },
     "execution_count": 14,
     "metadata": {},
     "output_type": "execute_result"
    }
   ],
   "source": [
    "X_train.shape"
   ]
  },
  {
   "cell_type": "markdown",
   "id": "3f0d5c79",
   "metadata": {},
   "source": [
    "# Logistic regression\n",
    "As a start, we will fit a simple linear regression with y = is_late. As the dataset is inbalanced, we would use the weighted avg of F-1 score as our evaluation metrics"
   ]
  },
  {
   "cell_type": "markdown",
   "id": "ade6f8ff",
   "metadata": {},
   "source": [
    "## Balanced and Unbalanced Regression\n",
    "### Balanced Fitting"
   ]
  },
  {
   "cell_type": "code",
   "execution_count": 20,
   "id": "09f3e4ec",
   "metadata": {},
   "outputs": [],
   "source": [
    "model_balanced = 'balanced'\n",
    "num_worker = 8"
   ]
  },
  {
   "cell_type": "code",
   "execution_count": 21,
   "id": "4bf914c0",
   "metadata": {},
   "outputs": [
    {
     "data": {
      "text/plain": [
       "LogisticRegression(class_weight='balanced', n_jobs=8)"
      ]
     },
     "execution_count": 21,
     "metadata": {},
     "output_type": "execute_result"
    }
   ],
   "source": [
    "logistic = LogisticRegression(class_weight = model_balanced, n_jobs = num_worker)\n",
    "logistic.fit(X_train, y_train.values.ravel())"
   ]
  },
  {
   "cell_type": "code",
   "execution_count": 22,
   "id": "923abe05",
   "metadata": {},
   "outputs": [
    {
     "name": "stdout",
     "output_type": "stream",
     "text": [
      "              precision    recall  f1-score   support\n",
      "\n",
      "       False       0.69      0.56      0.62    747929\n",
      "        True       0.43      0.57      0.49    433521\n",
      "\n",
      "    accuracy                           0.56   1181450\n",
      "   macro avg       0.56      0.56      0.55   1181450\n",
      "weighted avg       0.59      0.56      0.57   1181450\n",
      "\n"
     ]
    }
   ],
   "source": [
    "# See Train \n",
    "pred = logistic.predict(X_train)\n",
    "print(classification_report(y_train.values.ravel(), pred))"
   ]
  },
  {
   "cell_type": "code",
   "execution_count": 23,
   "id": "524d4182",
   "metadata": {
    "scrolled": true
   },
   "outputs": [
    {
     "name": "stdout",
     "output_type": "stream",
     "text": [
      "              precision    recall  f1-score   support\n",
      "\n",
      "       False       0.69      0.55      0.61    249535\n",
      "        True       0.43      0.57      0.49    144282\n",
      "\n",
      "    accuracy                           0.56    393817\n",
      "   macro avg       0.56      0.56      0.55    393817\n",
      "weighted avg       0.59      0.56      0.57    393817\n",
      "\n"
     ]
    }
   ],
   "source": [
    "# See Test \n",
    "pred = logistic.predict(X_test)\n",
    "print(classification_report(y_test.values.ravel(), pred))"
   ]
  },
  {
   "cell_type": "markdown",
   "id": "8261aa00",
   "metadata": {},
   "source": [
    "### Unbalanced Fitting"
   ]
  },
  {
   "cell_type": "code",
   "execution_count": 24,
   "id": "15085add",
   "metadata": {},
   "outputs": [
    {
     "data": {
      "text/plain": [
       "LogisticRegression(n_jobs=8)"
      ]
     },
     "execution_count": 24,
     "metadata": {},
     "output_type": "execute_result"
    }
   ],
   "source": [
    "model_balanced = None\n",
    "logistic_unbalanced = LogisticRegression(class_weight = model_balanced, n_jobs = num_worker)\n",
    "logistic_unbalanced.fit(X_train, y_train.values.ravel())"
   ]
  },
  {
   "cell_type": "code",
   "execution_count": 25,
   "id": "65b04bd3",
   "metadata": {
    "scrolled": true
   },
   "outputs": [
    {
     "name": "stdout",
     "output_type": "stream",
     "text": [
      "              precision    recall  f1-score   support\n",
      "\n",
      "       False       0.64      0.99      0.78    747929\n",
      "        True       0.65      0.02      0.04    433521\n",
      "\n",
      "    accuracy                           0.64   1181450\n",
      "   macro avg       0.65      0.51      0.41   1181450\n",
      "weighted avg       0.64      0.64      0.51   1181450\n",
      "\n"
     ]
    }
   ],
   "source": [
    "# See Train \n",
    "pred = logistic_unbalanced.predict(X_train)\n",
    "print(classification_report(y_train.values.ravel(), pred))"
   ]
  },
  {
   "cell_type": "code",
   "execution_count": 26,
   "id": "d96a110a",
   "metadata": {
    "scrolled": true
   },
   "outputs": [
    {
     "name": "stdout",
     "output_type": "stream",
     "text": [
      "              precision    recall  f1-score   support\n",
      "\n",
      "       False       0.64      0.99      0.78    249535\n",
      "        True       0.64      0.02      0.04    144282\n",
      "\n",
      "    accuracy                           0.64    393817\n",
      "   macro avg       0.64      0.51      0.41    393817\n",
      "weighted avg       0.64      0.64      0.51    393817\n",
      "\n"
     ]
    }
   ],
   "source": [
    "# See Test \n",
    "pred = logistic_unbalanced.predict(X_test)\n",
    "print(classification_report(y_test.values.ravel(), pred))"
   ]
  },
  {
   "cell_type": "markdown",
   "id": "0358aae8",
   "metadata": {},
   "source": [
    "### Dummy Majority Classifier Result"
   ]
  },
  {
   "cell_type": "code",
   "execution_count": 28,
   "id": "f66944a8",
   "metadata": {
    "scrolled": false
   },
   "outputs": [
    {
     "name": "stderr",
     "output_type": "stream",
     "text": [
      "C:\\Users\\19665\\anaconda3\\lib\\site-packages\\sklearn\\metrics\\_classification.py:1308: UndefinedMetricWarning: Precision and F-score are ill-defined and being set to 0.0 in labels with no predicted samples. Use `zero_division` parameter to control this behavior.\n",
      "  _warn_prf(average, modifier, msg_start, len(result))\n"
     ]
    },
    {
     "name": "stdout",
     "output_type": "stream",
     "text": [
      "              precision    recall  f1-score   support\n",
      "\n",
      "       False       0.63      1.00      0.78    249535\n",
      "        True       0.00      0.00      0.00    144282\n",
      "\n",
      "    accuracy                           0.63    393817\n",
      "   macro avg       0.32      0.50      0.39    393817\n",
      "weighted avg       0.40      0.63      0.49    393817\n",
      "\n"
     ]
    },
    {
     "name": "stderr",
     "output_type": "stream",
     "text": [
      "C:\\Users\\19665\\anaconda3\\lib\\site-packages\\sklearn\\metrics\\_classification.py:1308: UndefinedMetricWarning: Precision and F-score are ill-defined and being set to 0.0 in labels with no predicted samples. Use `zero_division` parameter to control this behavior.\n",
      "  _warn_prf(average, modifier, msg_start, len(result))\n",
      "C:\\Users\\19665\\anaconda3\\lib\\site-packages\\sklearn\\metrics\\_classification.py:1308: UndefinedMetricWarning: Precision and F-score are ill-defined and being set to 0.0 in labels with no predicted samples. Use `zero_division` parameter to control this behavior.\n",
      "  _warn_prf(average, modifier, msg_start, len(result))\n"
     ]
    }
   ],
   "source": [
    "# See dummy majority classfier\n",
    "pred = np.zeros(y_test.values.shape[0])\n",
    "print(classification_report(y_test.values.ravel(), pred))"
   ]
  },
  {
   "cell_type": "markdown",
   "id": "c67c3f5b",
   "metadata": {},
   "source": [
    "### Result"
   ]
  },
  {
   "cell_type": "markdown",
   "id": "c9567bdb",
   "metadata": {},
   "source": [
    "We observed that balanced training seems to be the best approach as it yields highest weighted average F-1 score, and they are both better than the dummy classifier. Since balanced model has a better accuracy, we will only run hyperparameter tuning for balanced logistic regression\n"
   ]
  },
  {
   "cell_type": "markdown",
   "id": "c1d950dd",
   "metadata": {},
   "source": [
    "## Feature Scaling and Normalization\n",
    "Although most of our data features are one-hot generated, features like year and distance are order-of-magitude different from 1 and 0. We would like to see if normalizing all features to the same scale could help mitigate this disrepency"
   ]
  },
  {
   "cell_type": "code",
   "execution_count": 15,
   "id": "07f21d7a",
   "metadata": {},
   "outputs": [],
   "source": [
    "scaler = preprocessing.StandardScaler().fit(X_train)\n",
    "X_train_scaled = scaler.transform(X_train)\n",
    "# Use same scaler obtained from training sample because test data are supposed to be completely unknown\n",
    "X_test_scaled = scaler.transform(X_test)\n",
    "X_val_scaled = scaler.transform(X_val)"
   ]
  },
  {
   "cell_type": "code",
   "execution_count": 16,
   "id": "3c2a642f",
   "metadata": {},
   "outputs": [
    {
     "data": {
      "text/plain": [
       "LogisticRegression(class_weight='balanced', n_jobs=8)"
      ]
     },
     "execution_count": 16,
     "metadata": {},
     "output_type": "execute_result"
    }
   ],
   "source": [
    "model_balanced = 'balanced'\n",
    "num_worker = 8\n",
    "logistic_scaled = LogisticRegression(class_weight = model_balanced, n_jobs = num_worker)\n",
    "logistic_scaled.fit(X_train_scaled, y_train.values.ravel())"
   ]
  },
  {
   "cell_type": "code",
   "execution_count": 33,
   "id": "c4629028",
   "metadata": {},
   "outputs": [
    {
     "name": "stdout",
     "output_type": "stream",
     "text": [
      "              precision    recall  f1-score   support\n",
      "\n",
      "       False       0.71      0.60      0.65    747929\n",
      "        True       0.45      0.57      0.51    433521\n",
      "\n",
      "    accuracy                           0.59   1181450\n",
      "   macro avg       0.58      0.59      0.58   1181450\n",
      "weighted avg       0.61      0.59      0.60   1181450\n",
      "\n"
     ]
    }
   ],
   "source": [
    "# See Train \n",
    "pred = logistic_scaled.predict(X_train_scaled)\n",
    "print(classification_report(y_train.values.ravel(), pred))"
   ]
  },
  {
   "cell_type": "code",
   "execution_count": 34,
   "id": "a5b98925",
   "metadata": {
    "scrolled": true
   },
   "outputs": [
    {
     "name": "stdout",
     "output_type": "stream",
     "text": [
      "              precision    recall  f1-score   support\n",
      "\n",
      "       False       0.71      0.60      0.65    249535\n",
      "        True       0.45      0.57      0.50    144282\n",
      "\n",
      "    accuracy                           0.59    393817\n",
      "   macro avg       0.58      0.58      0.57    393817\n",
      "weighted avg       0.61      0.59      0.59    393817\n",
      "\n"
     ]
    }
   ],
   "source": [
    "# See Test \n",
    "pred = logistic_scaled.predict(X_test_scaled)\n",
    "print(classification_report(y_test.values.ravel(), pred))"
   ]
  },
  {
   "cell_type": "markdown",
   "id": "67954b5f",
   "metadata": {},
   "source": [
    "### Conclusion\n",
    "We are able to confirm that a standard normalization proedure helped with increasing F-1 score by around 3.5%"
   ]
  },
  {
   "cell_type": "markdown",
   "id": "4dd297cf",
   "metadata": {},
   "source": [
    "## Hyperparameter Tuning\n",
    "Logistic regression comes with various hyperparameters, including penalty and regularization constant. We will try to find the best parameter set for balanced, normalized, logistic regression."
   ]
  },
  {
   "cell_type": "code",
   "execution_count": 17,
   "id": "76635632",
   "metadata": {},
   "outputs": [
    {
     "name": "stdout",
     "output_type": "stream",
     "text": [
      "Fitting 3 folds for each of 7 candidates, totalling 21 fits\n"
     ]
    },
    {
     "name": "stderr",
     "output_type": "stream",
     "text": [
      "C:\\Users\\19665\\anaconda3\\lib\\site-packages\\sklearn\\utils\\validation.py:985: DataConversionWarning: A column-vector y was passed when a 1d array was expected. Please change the shape of y to (n_samples, ), for example using ravel().\n",
      "  y = column_or_1d(y, warn=True)\n"
     ]
    },
    {
     "data": {
      "text/plain": [
       "GridSearchCV(cv=3,\n",
       "             estimator=LogisticRegression(class_weight='balanced',\n",
       "                                          solver='saga'),\n",
       "             n_jobs=7,\n",
       "             param_grid=[{'C': [0.001, 1, 1000], 'penalty': ['l1', 'l2']},\n",
       "                         {'penalty': ['none']}],\n",
       "             scoring='f1_weighted', verbose=3)"
      ]
     },
     "execution_count": 17,
     "metadata": {},
     "output_type": "execute_result"
    }
   ],
   "source": [
    "parameters =  [{'penalty': ['l1','l2'], 'C': [0.001,1,1000]},{'penalty': ['none']}]\n",
    "clf = GridSearchCV(LogisticRegression(class_weight = 'balanced', solver = 'saga'), parameters, scoring='f1_weighted', n_jobs = 7, verbose = 3, cv = 3)\n",
    "clf.fit(X_train_scaled, y_train)"
   ]
  },
  {
   "cell_type": "code",
   "execution_count": 22,
   "id": "5f42479b",
   "metadata": {},
   "outputs": [
    {
     "name": "stdout",
     "output_type": "stream",
     "text": [
      "{'mean_fit_time': array([ 95.49118074,  71.22671445, 104.74960097,  91.13920108,\n",
      "       107.59190822,  91.03184287,  87.33767724]), 'std_fit_time': array([0.92587759, 0.28996737, 1.59765347, 0.38774472, 0.08458165,\n",
      "       0.06308214, 2.24153028]), 'mean_score_time': array([0.18770933, 0.18904265, 0.18737531, 0.18104116, 0.17170525,\n",
      "       0.16537102, 0.14769991]), 'std_score_time': array([0.00694538, 0.01855122, 0.00801599, 0.00707314, 0.00471539,\n",
      "       0.00612995, 0.00249487]), 'param_C': masked_array(data=[0.001, 0.001, 1, 1, 1000, 1000, --],\n",
      "             mask=[False, False, False, False, False, False,  True],\n",
      "       fill_value='?',\n",
      "            dtype=object), 'param_penalty': masked_array(data=['l1', 'l2', 'l1', 'l2', 'l1', 'l2', 'none'],\n",
      "             mask=[False, False, False, False, False, False, False],\n",
      "       fill_value='?',\n",
      "            dtype=object), 'params': [{'C': 0.001, 'penalty': 'l1'}, {'C': 0.001, 'penalty': 'l2'}, {'C': 1, 'penalty': 'l1'}, {'C': 1, 'penalty': 'l2'}, {'C': 1000, 'penalty': 'l1'}, {'C': 1000, 'penalty': 'l2'}, {'penalty': 'none'}], 'split0_test_score': array([0.59072276, 0.59340085, 0.59494859, 0.59494656, 0.59493781,\n",
      "       0.5949428 , 0.59494024]), 'split1_test_score': array([0.58903975, 0.59233824, 0.59359073, 0.59357831, 0.59358087,\n",
      "       0.59358087, 0.59358344]), 'split2_test_score': array([0.58993073, 0.59257063, 0.59360627, 0.59360923, 0.59361356,\n",
      "       0.59361356, 0.59361113]), 'mean_test_score': array([0.58989775, 0.59276991, 0.59404853, 0.5940447 , 0.59404408,\n",
      "       0.59404575, 0.59404494]), 'std_test_score': array([0.00068748, 0.00045612, 0.00063647, 0.00063783, 0.0006321 ,\n",
      "       0.00063446, 0.00063318]), 'rank_test_score': array([7, 6, 1, 4, 5, 2, 3])}\n"
     ]
    }
   ],
   "source": [
    "print(clf.cv_results_)"
   ]
  },
  {
   "cell_type": "markdown",
   "id": "ee3960a4",
   "metadata": {},
   "source": [
    "### Result\n",
    "As a result, we observed that having c= 1 and no penalty are similiar and thus having no regularizing term is probably the best as Logistic regression is actually underfitting"
   ]
  },
  {
   "cell_type": "markdown",
   "id": "35053db9",
   "metadata": {},
   "source": [
    "## Final Model\n",
    "Our final logistic regression is trained with:\n",
    "1. balanced data\n",
    "2. normalized features\n",
    "3. no regularization penaties\n"
   ]
  },
  {
   "cell_type": "code",
   "execution_count": 23,
   "id": "74feb9cd",
   "metadata": {},
   "outputs": [
    {
     "data": {
      "text/plain": [
       "LogisticRegression(class_weight='balanced', n_jobs=8, penalty='none',\n",
       "                   solver='saga')"
      ]
     },
     "execution_count": 23,
     "metadata": {},
     "output_type": "execute_result"
    }
   ],
   "source": [
    "logistic_final = LogisticRegression(class_weight = 'balanced', n_jobs = 8, penalty = 'none',solver = 'saga')\n",
    "logistic_final.fit(X_train_scaled, y_train.values.ravel())\n"
   ]
  },
  {
   "cell_type": "code",
   "execution_count": 24,
   "id": "6c3d0753",
   "metadata": {},
   "outputs": [
    {
     "name": "stdout",
     "output_type": "stream",
     "text": [
      "              precision    recall  f1-score   support\n",
      "\n",
      "       False       0.71      0.60      0.65    747523\n",
      "        True       0.45      0.57      0.51    433927\n",
      "\n",
      "    accuracy                           0.59   1181450\n",
      "   macro avg       0.58      0.58      0.58   1181450\n",
      "weighted avg       0.61      0.59      0.59   1181450\n",
      "\n"
     ]
    }
   ],
   "source": [
    "# See Train \n",
    "pred = logistic_scaled.predict(X_train_scaled)\n",
    "print(classification_report(y_train.values.ravel(), pred))"
   ]
  },
  {
   "cell_type": "code",
   "execution_count": 25,
   "id": "556144ad",
   "metadata": {},
   "outputs": [
    {
     "name": "stdout",
     "output_type": "stream",
     "text": [
      "              precision    recall  f1-score   support\n",
      "\n",
      "       False       0.71      0.60      0.65    249808\n",
      "        True       0.45      0.57      0.51    144009\n",
      "\n",
      "    accuracy                           0.59    393817\n",
      "   macro avg       0.58      0.59      0.58    393817\n",
      "weighted avg       0.61      0.59      0.60    393817\n",
      "\n"
     ]
    }
   ],
   "source": [
    "# See Test \n",
    "pred = logistic_scaled.predict(X_test_scaled)\n",
    "print(classification_report(y_test.values.ravel(), pred))"
   ]
  }
 ],
 "metadata": {
  "kernelspec": {
   "display_name": "Python 3 (ipykernel)",
   "language": "python",
   "name": "python3"
  },
  "language_info": {
   "codemirror_mode": {
    "name": "ipython",
    "version": 3
   },
   "file_extension": ".py",
   "mimetype": "text/x-python",
   "name": "python",
   "nbconvert_exporter": "python",
   "pygments_lexer": "ipython3",
   "version": "3.8.12"
  }
 },
 "nbformat": 4,
 "nbformat_minor": 5
}
