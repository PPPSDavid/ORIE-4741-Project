{
 "cells": [
  {
   "cell_type": "code",
   "execution_count": null,
   "id": "edbd5f30",
   "metadata": {},
   "outputs": [],
   "source": [
    "import pandas as pd\n",
    "import df_structure\n",
    "import pytz\n",
    "from tqdm.auto import tqdm\n",
    "tqdm.pandas()\n",
    "import dask\n",
    "import dask.dataframe as dd\n",
    "\n",
    "year_start = 2016\n",
    "year_end = 2020\n",
    "path_to_fligt_csv = r\"C:\\ORIE4741 Data\\2016_to_2020_flight_reduced_columns.csv\"\n",
    "path_to_weather_csv = r\"C:\\ORIE4741 Data\\WeatherEvents_Jan2016-Dec2020.csv\""
   ]
  },
  {
   "cell_type": "code",
   "execution_count": null,
   "id": "167a8eeb",
   "metadata": {
    "scrolled": true
   },
   "outputs": [],
   "source": [
    "df_flight = pd.read_csv(path_to_fligt_csv, dtype = df_structure.column_dtypes)\n",
    "df_weather = pd.read_csv(path_to_weather_csv)"
   ]
  },
  {
   "cell_type": "code",
   "execution_count": null,
   "id": "a28fc225",
   "metadata": {},
   "outputs": [],
   "source": [
    "res = pd.to_datetime(df_weather['StartTime(UTC)'])\n",
    "df_weather['StartTime(UTC)'] = res.dt.tz_localize('UTC')\n",
    "res = pd.to_datetime(df_weather['EndTime(UTC)'])\n",
    "df_weather['EndTime(UTC)'] = res.dt.tz_localize('UTC')"
   ]
  },
  {
   "cell_type": "code",
   "execution_count": null,
   "id": "eea97876",
   "metadata": {},
   "outputs": [],
   "source": [
    "df_weather['City, State'] = df_weather['City'] + ', ' + df_weather['State']"
   ]
  },
  {
   "cell_type": "code",
   "execution_count": null,
   "id": "6640e1b4",
   "metadata": {},
   "outputs": [],
   "source": [
    "weather_by_city = {k: table for k, table in df_weather.groupby('City, State')}\n",
    "del df_weather"
   ]
  },
  {
   "cell_type": "code",
   "execution_count": null,
   "id": "b83ec90a",
   "metadata": {},
   "outputs": [],
   "source": [
    "list_of_airports = set(['ATL', 'DFW', 'DEN', 'ORD', 'LAX', 'CLT', 'LAS', 'PHX', 'MCO', 'SEA'])"
   ]
  },
  {
   "cell_type": "code",
   "execution_count": null,
   "id": "ca5f26ff",
   "metadata": {},
   "outputs": [],
   "source": [
    "df_flight = df_flight[df_flight['Origin'].isin(list_of_airports)]"
   ]
  },
  {
   "cell_type": "code",
   "execution_count": null,
   "id": "4465c208",
   "metadata": {},
   "outputs": [],
   "source": [
    "len(df_flight.index)"
   ]
  },
  {
   "cell_type": "code",
   "execution_count": null,
   "id": "30942b2a",
   "metadata": {
    "scrolled": true
   },
   "outputs": [],
   "source": [
    "df_flight[['FlightDate', 'CRSDepTime']].head()"
   ]
  },
  {
   "cell_type": "code",
   "execution_count": null,
   "id": "cbac3777",
   "metadata": {},
   "outputs": [],
   "source": [
    "df = df_flight"
   ]
  },
  {
   "cell_type": "code",
   "execution_count": null,
   "id": "77c5f25c",
   "metadata": {},
   "outputs": [],
   "source": [
    "def cleanup_hhmm_time(row, col_name = 'CRSDepTime'):\n",
    "    s = str(int(float(row[col_name])))\n",
    "    res = None\n",
    "    if len(s) == 4:\n",
    "        res =  s\n",
    "    elif len(s) == 3:\n",
    "        res = '0' + s\n",
    "    elif len(s) == 2:\n",
    "        res = '00' + s\n",
    "    elif len(s) == 1:\n",
    "        res = '000' + s\n",
    "    assert len(res) == 4\n",
    "    return res"
   ]
  },
  {
   "cell_type": "code",
   "execution_count": null,
   "id": "ca9c3ec0",
   "metadata": {},
   "outputs": [],
   "source": [
    "res = df.progress_apply(cleanup_hhmm_time, axis = 1)\n",
    "df['CRSDepTime'] = res"
   ]
  },
  {
   "cell_type": "code",
   "execution_count": null,
   "id": "bb3d058c",
   "metadata": {},
   "outputs": [],
   "source": [
    "def agg_datetime(row):\n",
    "    res = str(row['FlightDate']) + '-' + str(row['CRSDepTime'])\n",
    "    return res"
   ]
  },
  {
   "cell_type": "code",
   "execution_count": null,
   "id": "7d30bce5",
   "metadata": {},
   "outputs": [],
   "source": [
    "res = df.progress_apply(agg_datetime, axis = 1)\n",
    "df['DepTimeLocal'] = res"
   ]
  },
  {
   "cell_type": "code",
   "execution_count": null,
   "id": "07584664",
   "metadata": {},
   "outputs": [],
   "source": [
    "res = pd.to_datetime(df['DepTimeLocal'], format = '%Y-%m-%d-%H%M')\n",
    "df['DepTimeLocal'] = res"
   ]
  },
  {
   "cell_type": "code",
   "execution_count": null,
   "id": "7b3866e4",
   "metadata": {},
   "outputs": [],
   "source": [
    "def to_utc(row, col_name = 'DepTimeLocal', time_zone_indecator = 'OriginState'):\n",
    "    local_time = row['DepTimeLocal']\n",
    "    local_zone = us_states_timezones[row[time_zone_indecator]]\n",
    "    UTC_time = local_time.tz_localize(local_zone, ambiguous=False).tz_convert(\"UTC\")\n",
    "    return UTC_time"
   ]
  },
  {
   "cell_type": "code",
   "execution_count": null,
   "id": "8d8d3811",
   "metadata": {},
   "outputs": [],
   "source": [
    "us_states_timezones = df_structure.us_states_timezones"
   ]
  },
  {
   "cell_type": "code",
   "execution_count": null,
   "id": "7afd9830",
   "metadata": {
    "scrolled": true
   },
   "outputs": [],
   "source": [
    "res = df.progress_apply(to_utc, axis = 1)\n",
    "df['DepTimeUTC'] = res\n",
    "df[['DepTimeLocal', 'OriginState', 'DepTimeUTC']].head()"
   ]
  },
  {
   "cell_type": "code",
   "execution_count": null,
   "id": "57dc1dc5",
   "metadata": {},
   "outputs": [],
   "source": [
    "weather_types = ['Severe-Cold', 'Fog', 'Hail', 'Rain', 'Snow', 'Storm', 'Other Precipitation']\n",
    "weather_severity = [i + '_Severity' for i in weather_types]\n",
    "weather_dtypes = {}\n",
    "for i in weather_types:\n",
    "    weather_dtypes[i] = 'boolean'\n",
    "for i in weather_severity:\n",
    "    weather_dtypes[i] = 'str'"
   ]
  },
  {
   "cell_type": "code",
   "execution_count": null,
   "id": "0a6cd547",
   "metadata": {},
   "outputs": [],
   "source": [
    "df.to_csv('{}_to_{}_flight_reduced_columns_UTC.csv'.format(year_start, year_end), index = False)"
   ]
  },
  {
   "cell_type": "code",
   "execution_count": null,
   "id": "374dadaa",
   "metadata": {},
   "outputs": [],
   "source": [
    "def map_weather_flight(row, time_column_name = 'DepTimeUTC', loc_column_name = 'OriginCityName', column_suffix = '_Depart'):\n",
    "    flight_utc = row[time_column_name]\n",
    "    flight_loc = row[loc_column_name]\n",
    "    if flight_loc in weather_by_city:\n",
    "        weather_df = weather_by_city[flight_loc]\n",
    "        affected_weathers = weather_df[(weather_df['StartTime(UTC)'] <= flight_utc) & (weather_df['EndTime(UTC)'] >= flight_utc)]\n",
    "        if not affected_weathers.empty:\n",
    "            hazards, severity = [], []\n",
    "            for weather in weather_types:\n",
    "                weather_specific_df = affected_weathers[affected_weathers['Type'] == weather]\n",
    "                if weather_specific_df.empty:\n",
    "                    hazards.append(False)\n",
    "                    severity.append('')\n",
    "                else:\n",
    "                    hazards.append(True)\n",
    "                    severity.append(weather_specific_df['Severity'].iloc[0])\n",
    "            return hazards + severity\n",
    "    return [False] * len(weather_types) + [''] * len(weather_types)\n"
   ]
  },
  {
   "cell_type": "code",
   "execution_count": null,
   "id": "77e44e60",
   "metadata": {
    "scrolled": true
   },
   "outputs": [],
   "source": [
    "df[weather_types + weather_severity] = df.progress_apply(map_weather_flight, axis=1, result_type=\"expand\")"
   ]
  },
  {
   "cell_type": "code",
   "execution_count": null,
   "id": "2e2b4e0b",
   "metadata": {},
   "outputs": [],
   "source": [
    "df[df['Rain']].head()"
   ]
  },
  {
   "cell_type": "code",
   "execution_count": null,
   "id": "c1563bfc",
   "metadata": {},
   "outputs": [],
   "source": [
    "df.to_csv('{}_to_{}_flight_reduced_columns_with_weather_top_10.csv'.format(year_start, year_end), index = False)"
   ]
  },
  {
   "cell_type": "code",
   "execution_count": null,
   "id": "c6f96787",
   "metadata": {},
   "outputs": [],
   "source": []
  }
 ],
 "metadata": {
  "kernelspec": {
   "display_name": "Python 3 (ipykernel)",
   "language": "python",
   "name": "python3"
  },
  "language_info": {
   "codemirror_mode": {
    "name": "ipython",
    "version": 3
   },
   "file_extension": ".py",
   "mimetype": "text/x-python",
   "name": "python",
   "nbconvert_exporter": "python",
   "pygments_lexer": "ipython3",
   "version": "3.8.8"
  }
 },
 "nbformat": 4,
 "nbformat_minor": 5
}
