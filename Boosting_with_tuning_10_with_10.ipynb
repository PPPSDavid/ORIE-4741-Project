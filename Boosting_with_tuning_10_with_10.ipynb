{
 "cells": [
  {
   "cell_type": "code",
   "execution_count": 33,
   "id": "f29573a2",
   "metadata": {},
   "outputs": [],
   "source": [
    "# LT: Exclude DepDelay\n",
    "# ST: Include DepDelay\n",
    "# Classification: Predict if arrdelay > 0\n",
    "\n",
    "# Import Necessary Package here\n",
    "import pandas as pd\n",
    "import numpy as np\n",
    "from sklearn.model_selection import train_test_split, GridSearchCV\n",
    "from sklearn.metrics import accuracy_score, confusion_matrix, classification_report, plot_confusion_matrix, f1_score\n",
    "from sklearn import metrics\n",
    "from sklearn import preprocessing\n",
    "import gc\n",
    "\n",
    "# Models\n",
    "from sklearn.linear_model import LogisticRegression\n",
    "from sklearn.tree import DecisionTreeClassifier\n",
    "from sklearn.ensemble import  RandomForestClassifier, GradientBoostingClassifier, AdaBoostClassifier\n",
    "from xgboost import XGBClassifier, plot_importance\n",
    "\n",
    "import matplotlib.pyplot as plt"
   ]
  },
  {
   "cell_type": "markdown",
   "id": "bdc78d7e",
   "metadata": {},
   "source": [
    "# Data Import"
   ]
  },
  {
   "cell_type": "code",
   "execution_count": 2,
   "id": "f793f304",
   "metadata": {},
   "outputs": [],
   "source": [
    "# Load CSV \n",
    "df = pd.read_csv(r\"C:\\Users\\19665\\Documents\\ORIE-4741-Project\\2016_to_2020_flight_feature_eng_w_Dest_10_10.csv\")"
   ]
  },
  {
   "cell_type": "code",
   "execution_count": 3,
   "id": "2d5b41a4",
   "metadata": {},
   "outputs": [
    {
     "data": {
      "text/plain": [
       "Index(['Year', 'Month', 'DayofMonth', 'DepDelay', 'ArrDelay', 'CRSElapsedTime',\n",
       "       'Distance', 'Severe-Cold_Severity', 'Fog_Severity', 'Hail_Severity',\n",
       "       'Rain_Severity', 'Snow_Severity', 'Storm_Severity',\n",
       "       'Other Precipitation_Severity', 'CRSDep_afternoon', 'CRSDep_midnight',\n",
       "       'CRSDep_morning', 'CRSDep_night', 'CRSArr_afternoon', 'CRSArr_midnight',\n",
       "       'CRSArr_morning', 'CRSArr_night', 'Q1', 'Q2', 'Q3', 'Q4', 'Mon', 'Tue',\n",
       "       'Wed', 'Thu', 'Fri', 'Sat', 'Sun', 'Airline_9E', 'Airline_AA',\n",
       "       'Airline_AS', 'Airline_B6', 'Airline_DL', 'Airline_EV', 'Airline_F9',\n",
       "       'Airline_G4', 'Airline_MQ', 'Airline_NK', 'Airline_OH', 'Airline_OO',\n",
       "       'Airline_UA', 'Airline_VX', 'Airline_WN', 'Airline_YV', 'Airline_YX',\n",
       "       'Origin_ATL', 'Origin_CLT', 'Origin_DEN', 'Origin_DFW', 'Origin_LAS',\n",
       "       'Origin_LAX', 'Origin_MCO', 'Origin_ORD', 'Origin_PHX', 'Origin_SEA',\n",
       "       'Dest_ATL', 'Dest_CLT', 'Dest_DEN', 'Dest_DFW', 'Dest_LAS', 'Dest_LAX',\n",
       "       'Dest_MCO', 'Dest_ORD', 'Dest_PHX', 'Dest_SEA'],\n",
       "      dtype='object')"
      ]
     },
     "execution_count": 3,
     "metadata": {},
     "output_type": "execute_result"
    }
   ],
   "source": [
    "df = df.drop('Unnamed: 0', axis = 1)\n",
    "df.columns"
   ]
  },
  {
   "cell_type": "code",
   "execution_count": 4,
   "id": "3ffd6de8",
   "metadata": {},
   "outputs": [
    {
     "data": {
      "text/plain": [
       "Series([], dtype: object)"
      ]
     },
     "execution_count": 4,
     "metadata": {},
     "output_type": "execute_result"
    }
   ],
   "source": [
    "# Check all columns are in numeric form\n",
    "df.dtypes[df.dtypes != 'int64'][df.dtypes != 'float64']"
   ]
  },
  {
   "cell_type": "code",
   "execution_count": 5,
   "id": "c0121595",
   "metadata": {},
   "outputs": [
    {
     "data": {
      "text/plain": [
       "False"
      ]
     },
     "execution_count": 5,
     "metadata": {},
     "output_type": "execute_result"
    }
   ],
   "source": [
    "# Check NA value \n",
    "df.isnull().values.any()"
   ]
  },
  {
   "cell_type": "code",
   "execution_count": 6,
   "id": "60b9fa54",
   "metadata": {},
   "outputs": [],
   "source": [
    "# Turn Regression into classification problem\n",
    "df['is_late'] = df['ArrDelay'] > 0\n",
    "df = df.drop(columns = ['ArrDelay'])"
   ]
  },
  {
   "cell_type": "code",
   "execution_count": 7,
   "id": "a941d163",
   "metadata": {},
   "outputs": [
    {
     "data": {
      "text/html": [
       "<div>\n",
       "<style scoped>\n",
       "    .dataframe tbody tr th:only-of-type {\n",
       "        vertical-align: middle;\n",
       "    }\n",
       "\n",
       "    .dataframe tbody tr th {\n",
       "        vertical-align: top;\n",
       "    }\n",
       "\n",
       "    .dataframe thead th {\n",
       "        text-align: right;\n",
       "    }\n",
       "</style>\n",
       "<table border=\"1\" class=\"dataframe\">\n",
       "  <thead>\n",
       "    <tr style=\"text-align: right;\">\n",
       "      <th></th>\n",
       "      <th>Year</th>\n",
       "      <th>Month</th>\n",
       "      <th>DayofMonth</th>\n",
       "      <th>DepDelay</th>\n",
       "      <th>CRSElapsedTime</th>\n",
       "      <th>Distance</th>\n",
       "      <th>Severe-Cold_Severity</th>\n",
       "      <th>Fog_Severity</th>\n",
       "      <th>Hail_Severity</th>\n",
       "      <th>Rain_Severity</th>\n",
       "      <th>Snow_Severity</th>\n",
       "      <th>Storm_Severity</th>\n",
       "      <th>Other Precipitation_Severity</th>\n",
       "      <th>CRSDep_afternoon</th>\n",
       "      <th>CRSDep_midnight</th>\n",
       "      <th>CRSDep_morning</th>\n",
       "      <th>CRSDep_night</th>\n",
       "      <th>CRSArr_afternoon</th>\n",
       "      <th>CRSArr_midnight</th>\n",
       "      <th>CRSArr_morning</th>\n",
       "      <th>CRSArr_night</th>\n",
       "      <th>Q1</th>\n",
       "      <th>Q2</th>\n",
       "      <th>Q3</th>\n",
       "      <th>Q4</th>\n",
       "      <th>Mon</th>\n",
       "      <th>Tue</th>\n",
       "      <th>Wed</th>\n",
       "      <th>Thu</th>\n",
       "      <th>Fri</th>\n",
       "      <th>Sat</th>\n",
       "      <th>Sun</th>\n",
       "      <th>Airline_9E</th>\n",
       "      <th>Airline_AA</th>\n",
       "      <th>Airline_AS</th>\n",
       "      <th>Airline_B6</th>\n",
       "      <th>Airline_DL</th>\n",
       "      <th>Airline_EV</th>\n",
       "      <th>Airline_F9</th>\n",
       "      <th>Airline_G4</th>\n",
       "      <th>Airline_MQ</th>\n",
       "      <th>Airline_NK</th>\n",
       "      <th>Airline_OH</th>\n",
       "      <th>Airline_OO</th>\n",
       "      <th>Airline_UA</th>\n",
       "      <th>Airline_VX</th>\n",
       "      <th>Airline_WN</th>\n",
       "      <th>Airline_YV</th>\n",
       "      <th>Airline_YX</th>\n",
       "      <th>Origin_ATL</th>\n",
       "      <th>Origin_CLT</th>\n",
       "      <th>Origin_DEN</th>\n",
       "      <th>Origin_DFW</th>\n",
       "      <th>Origin_LAS</th>\n",
       "      <th>Origin_LAX</th>\n",
       "      <th>Origin_MCO</th>\n",
       "      <th>Origin_ORD</th>\n",
       "      <th>Origin_PHX</th>\n",
       "      <th>Origin_SEA</th>\n",
       "      <th>Dest_ATL</th>\n",
       "      <th>Dest_CLT</th>\n",
       "      <th>Dest_DEN</th>\n",
       "      <th>Dest_DFW</th>\n",
       "      <th>Dest_LAS</th>\n",
       "      <th>Dest_LAX</th>\n",
       "      <th>Dest_MCO</th>\n",
       "      <th>Dest_ORD</th>\n",
       "      <th>Dest_PHX</th>\n",
       "      <th>Dest_SEA</th>\n",
       "      <th>is_late</th>\n",
       "    </tr>\n",
       "  </thead>\n",
       "  <tbody>\n",
       "    <tr>\n",
       "      <th>0</th>\n",
       "      <td>2016</td>\n",
       "      <td>1</td>\n",
       "      <td>1</td>\n",
       "      <td>0.0</td>\n",
       "      <td>148.0</td>\n",
       "      <td>868.0</td>\n",
       "      <td>0</td>\n",
       "      <td>0</td>\n",
       "      <td>0</td>\n",
       "      <td>0</td>\n",
       "      <td>0</td>\n",
       "      <td>0</td>\n",
       "      <td>0</td>\n",
       "      <td>0</td>\n",
       "      <td>0</td>\n",
       "      <td>1</td>\n",
       "      <td>0</td>\n",
       "      <td>1</td>\n",
       "      <td>0</td>\n",
       "      <td>0</td>\n",
       "      <td>0</td>\n",
       "      <td>1</td>\n",
       "      <td>0</td>\n",
       "      <td>0</td>\n",
       "      <td>0</td>\n",
       "      <td>0</td>\n",
       "      <td>0</td>\n",
       "      <td>0</td>\n",
       "      <td>0</td>\n",
       "      <td>1</td>\n",
       "      <td>0</td>\n",
       "      <td>0</td>\n",
       "      <td>0</td>\n",
       "      <td>1</td>\n",
       "      <td>0</td>\n",
       "      <td>0</td>\n",
       "      <td>0</td>\n",
       "      <td>0</td>\n",
       "      <td>0</td>\n",
       "      <td>0</td>\n",
       "      <td>0</td>\n",
       "      <td>0</td>\n",
       "      <td>0</td>\n",
       "      <td>0</td>\n",
       "      <td>0</td>\n",
       "      <td>0</td>\n",
       "      <td>0</td>\n",
       "      <td>0</td>\n",
       "      <td>0</td>\n",
       "      <td>0</td>\n",
       "      <td>0</td>\n",
       "      <td>0</td>\n",
       "      <td>0</td>\n",
       "      <td>0</td>\n",
       "      <td>0</td>\n",
       "      <td>0</td>\n",
       "      <td>0</td>\n",
       "      <td>1</td>\n",
       "      <td>0</td>\n",
       "      <td>0</td>\n",
       "      <td>0</td>\n",
       "      <td>0</td>\n",
       "      <td>1</td>\n",
       "      <td>0</td>\n",
       "      <td>0</td>\n",
       "      <td>0</td>\n",
       "      <td>0</td>\n",
       "      <td>0</td>\n",
       "      <td>0</td>\n",
       "      <td>False</td>\n",
       "    </tr>\n",
       "    <tr>\n",
       "      <th>1</th>\n",
       "      <td>2016</td>\n",
       "      <td>1</td>\n",
       "      <td>2</td>\n",
       "      <td>11.0</td>\n",
       "      <td>148.0</td>\n",
       "      <td>868.0</td>\n",
       "      <td>0</td>\n",
       "      <td>0</td>\n",
       "      <td>0</td>\n",
       "      <td>0</td>\n",
       "      <td>0</td>\n",
       "      <td>0</td>\n",
       "      <td>0</td>\n",
       "      <td>0</td>\n",
       "      <td>0</td>\n",
       "      <td>1</td>\n",
       "      <td>0</td>\n",
       "      <td>1</td>\n",
       "      <td>0</td>\n",
       "      <td>0</td>\n",
       "      <td>0</td>\n",
       "      <td>1</td>\n",
       "      <td>0</td>\n",
       "      <td>0</td>\n",
       "      <td>0</td>\n",
       "      <td>0</td>\n",
       "      <td>0</td>\n",
       "      <td>0</td>\n",
       "      <td>0</td>\n",
       "      <td>0</td>\n",
       "      <td>1</td>\n",
       "      <td>0</td>\n",
       "      <td>0</td>\n",
       "      <td>1</td>\n",
       "      <td>0</td>\n",
       "      <td>0</td>\n",
       "      <td>0</td>\n",
       "      <td>0</td>\n",
       "      <td>0</td>\n",
       "      <td>0</td>\n",
       "      <td>0</td>\n",
       "      <td>0</td>\n",
       "      <td>0</td>\n",
       "      <td>0</td>\n",
       "      <td>0</td>\n",
       "      <td>0</td>\n",
       "      <td>0</td>\n",
       "      <td>0</td>\n",
       "      <td>0</td>\n",
       "      <td>0</td>\n",
       "      <td>0</td>\n",
       "      <td>0</td>\n",
       "      <td>0</td>\n",
       "      <td>0</td>\n",
       "      <td>0</td>\n",
       "      <td>0</td>\n",
       "      <td>0</td>\n",
       "      <td>1</td>\n",
       "      <td>0</td>\n",
       "      <td>0</td>\n",
       "      <td>0</td>\n",
       "      <td>0</td>\n",
       "      <td>1</td>\n",
       "      <td>0</td>\n",
       "      <td>0</td>\n",
       "      <td>0</td>\n",
       "      <td>0</td>\n",
       "      <td>0</td>\n",
       "      <td>0</td>\n",
       "      <td>False</td>\n",
       "    </tr>\n",
       "    <tr>\n",
       "      <th>2</th>\n",
       "      <td>2016</td>\n",
       "      <td>1</td>\n",
       "      <td>3</td>\n",
       "      <td>11.0</td>\n",
       "      <td>148.0</td>\n",
       "      <td>868.0</td>\n",
       "      <td>0</td>\n",
       "      <td>0</td>\n",
       "      <td>0</td>\n",
       "      <td>0</td>\n",
       "      <td>0</td>\n",
       "      <td>0</td>\n",
       "      <td>0</td>\n",
       "      <td>0</td>\n",
       "      <td>0</td>\n",
       "      <td>1</td>\n",
       "      <td>0</td>\n",
       "      <td>1</td>\n",
       "      <td>0</td>\n",
       "      <td>0</td>\n",
       "      <td>0</td>\n",
       "      <td>1</td>\n",
       "      <td>0</td>\n",
       "      <td>0</td>\n",
       "      <td>0</td>\n",
       "      <td>0</td>\n",
       "      <td>0</td>\n",
       "      <td>0</td>\n",
       "      <td>0</td>\n",
       "      <td>0</td>\n",
       "      <td>0</td>\n",
       "      <td>1</td>\n",
       "      <td>0</td>\n",
       "      <td>1</td>\n",
       "      <td>0</td>\n",
       "      <td>0</td>\n",
       "      <td>0</td>\n",
       "      <td>0</td>\n",
       "      <td>0</td>\n",
       "      <td>0</td>\n",
       "      <td>0</td>\n",
       "      <td>0</td>\n",
       "      <td>0</td>\n",
       "      <td>0</td>\n",
       "      <td>0</td>\n",
       "      <td>0</td>\n",
       "      <td>0</td>\n",
       "      <td>0</td>\n",
       "      <td>0</td>\n",
       "      <td>0</td>\n",
       "      <td>0</td>\n",
       "      <td>0</td>\n",
       "      <td>0</td>\n",
       "      <td>0</td>\n",
       "      <td>0</td>\n",
       "      <td>0</td>\n",
       "      <td>0</td>\n",
       "      <td>1</td>\n",
       "      <td>0</td>\n",
       "      <td>0</td>\n",
       "      <td>0</td>\n",
       "      <td>0</td>\n",
       "      <td>1</td>\n",
       "      <td>0</td>\n",
       "      <td>0</td>\n",
       "      <td>0</td>\n",
       "      <td>0</td>\n",
       "      <td>0</td>\n",
       "      <td>0</td>\n",
       "      <td>False</td>\n",
       "    </tr>\n",
       "    <tr>\n",
       "      <th>3</th>\n",
       "      <td>2016</td>\n",
       "      <td>1</td>\n",
       "      <td>4</td>\n",
       "      <td>2.0</td>\n",
       "      <td>148.0</td>\n",
       "      <td>868.0</td>\n",
       "      <td>0</td>\n",
       "      <td>0</td>\n",
       "      <td>0</td>\n",
       "      <td>0</td>\n",
       "      <td>0</td>\n",
       "      <td>0</td>\n",
       "      <td>0</td>\n",
       "      <td>0</td>\n",
       "      <td>0</td>\n",
       "      <td>1</td>\n",
       "      <td>0</td>\n",
       "      <td>1</td>\n",
       "      <td>0</td>\n",
       "      <td>0</td>\n",
       "      <td>0</td>\n",
       "      <td>1</td>\n",
       "      <td>0</td>\n",
       "      <td>0</td>\n",
       "      <td>0</td>\n",
       "      <td>1</td>\n",
       "      <td>0</td>\n",
       "      <td>0</td>\n",
       "      <td>0</td>\n",
       "      <td>0</td>\n",
       "      <td>0</td>\n",
       "      <td>0</td>\n",
       "      <td>0</td>\n",
       "      <td>1</td>\n",
       "      <td>0</td>\n",
       "      <td>0</td>\n",
       "      <td>0</td>\n",
       "      <td>0</td>\n",
       "      <td>0</td>\n",
       "      <td>0</td>\n",
       "      <td>0</td>\n",
       "      <td>0</td>\n",
       "      <td>0</td>\n",
       "      <td>0</td>\n",
       "      <td>0</td>\n",
       "      <td>0</td>\n",
       "      <td>0</td>\n",
       "      <td>0</td>\n",
       "      <td>0</td>\n",
       "      <td>0</td>\n",
       "      <td>0</td>\n",
       "      <td>0</td>\n",
       "      <td>0</td>\n",
       "      <td>0</td>\n",
       "      <td>0</td>\n",
       "      <td>0</td>\n",
       "      <td>0</td>\n",
       "      <td>1</td>\n",
       "      <td>0</td>\n",
       "      <td>0</td>\n",
       "      <td>0</td>\n",
       "      <td>0</td>\n",
       "      <td>1</td>\n",
       "      <td>0</td>\n",
       "      <td>0</td>\n",
       "      <td>0</td>\n",
       "      <td>0</td>\n",
       "      <td>0</td>\n",
       "      <td>0</td>\n",
       "      <td>True</td>\n",
       "    </tr>\n",
       "    <tr>\n",
       "      <th>4</th>\n",
       "      <td>2016</td>\n",
       "      <td>1</td>\n",
       "      <td>5</td>\n",
       "      <td>558.0</td>\n",
       "      <td>149.0</td>\n",
       "      <td>868.0</td>\n",
       "      <td>0</td>\n",
       "      <td>0</td>\n",
       "      <td>0</td>\n",
       "      <td>1</td>\n",
       "      <td>0</td>\n",
       "      <td>0</td>\n",
       "      <td>0</td>\n",
       "      <td>0</td>\n",
       "      <td>0</td>\n",
       "      <td>1</td>\n",
       "      <td>0</td>\n",
       "      <td>1</td>\n",
       "      <td>0</td>\n",
       "      <td>0</td>\n",
       "      <td>0</td>\n",
       "      <td>1</td>\n",
       "      <td>0</td>\n",
       "      <td>0</td>\n",
       "      <td>0</td>\n",
       "      <td>0</td>\n",
       "      <td>1</td>\n",
       "      <td>0</td>\n",
       "      <td>0</td>\n",
       "      <td>0</td>\n",
       "      <td>0</td>\n",
       "      <td>0</td>\n",
       "      <td>0</td>\n",
       "      <td>1</td>\n",
       "      <td>0</td>\n",
       "      <td>0</td>\n",
       "      <td>0</td>\n",
       "      <td>0</td>\n",
       "      <td>0</td>\n",
       "      <td>0</td>\n",
       "      <td>0</td>\n",
       "      <td>0</td>\n",
       "      <td>0</td>\n",
       "      <td>0</td>\n",
       "      <td>0</td>\n",
       "      <td>0</td>\n",
       "      <td>0</td>\n",
       "      <td>0</td>\n",
       "      <td>0</td>\n",
       "      <td>0</td>\n",
       "      <td>0</td>\n",
       "      <td>0</td>\n",
       "      <td>0</td>\n",
       "      <td>0</td>\n",
       "      <td>0</td>\n",
       "      <td>0</td>\n",
       "      <td>0</td>\n",
       "      <td>1</td>\n",
       "      <td>0</td>\n",
       "      <td>0</td>\n",
       "      <td>0</td>\n",
       "      <td>0</td>\n",
       "      <td>1</td>\n",
       "      <td>0</td>\n",
       "      <td>0</td>\n",
       "      <td>0</td>\n",
       "      <td>0</td>\n",
       "      <td>0</td>\n",
       "      <td>0</td>\n",
       "      <td>True</td>\n",
       "    </tr>\n",
       "  </tbody>\n",
       "</table>\n",
       "</div>"
      ],
      "text/plain": [
       "   Year  Month  DayofMonth  DepDelay  CRSElapsedTime  Distance  \\\n",
       "0  2016      1           1       0.0           148.0     868.0   \n",
       "1  2016      1           2      11.0           148.0     868.0   \n",
       "2  2016      1           3      11.0           148.0     868.0   \n",
       "3  2016      1           4       2.0           148.0     868.0   \n",
       "4  2016      1           5     558.0           149.0     868.0   \n",
       "\n",
       "   Severe-Cold_Severity  Fog_Severity  Hail_Severity  Rain_Severity  \\\n",
       "0                     0             0              0              0   \n",
       "1                     0             0              0              0   \n",
       "2                     0             0              0              0   \n",
       "3                     0             0              0              0   \n",
       "4                     0             0              0              1   \n",
       "\n",
       "   Snow_Severity  Storm_Severity  Other Precipitation_Severity  \\\n",
       "0              0               0                             0   \n",
       "1              0               0                             0   \n",
       "2              0               0                             0   \n",
       "3              0               0                             0   \n",
       "4              0               0                             0   \n",
       "\n",
       "   CRSDep_afternoon  CRSDep_midnight  CRSDep_morning  CRSDep_night  \\\n",
       "0                 0                0               1             0   \n",
       "1                 0                0               1             0   \n",
       "2                 0                0               1             0   \n",
       "3                 0                0               1             0   \n",
       "4                 0                0               1             0   \n",
       "\n",
       "   CRSArr_afternoon  CRSArr_midnight  CRSArr_morning  CRSArr_night  Q1  Q2  \\\n",
       "0                 1                0               0             0   1   0   \n",
       "1                 1                0               0             0   1   0   \n",
       "2                 1                0               0             0   1   0   \n",
       "3                 1                0               0             0   1   0   \n",
       "4                 1                0               0             0   1   0   \n",
       "\n",
       "   Q3  Q4  Mon  Tue  Wed  Thu  Fri  Sat  Sun  Airline_9E  Airline_AA  \\\n",
       "0   0   0    0    0    0    0    1    0    0           0           1   \n",
       "1   0   0    0    0    0    0    0    1    0           0           1   \n",
       "2   0   0    0    0    0    0    0    0    1           0           1   \n",
       "3   0   0    1    0    0    0    0    0    0           0           1   \n",
       "4   0   0    0    1    0    0    0    0    0           0           1   \n",
       "\n",
       "   Airline_AS  Airline_B6  Airline_DL  Airline_EV  Airline_F9  Airline_G4  \\\n",
       "0           0           0           0           0           0           0   \n",
       "1           0           0           0           0           0           0   \n",
       "2           0           0           0           0           0           0   \n",
       "3           0           0           0           0           0           0   \n",
       "4           0           0           0           0           0           0   \n",
       "\n",
       "   Airline_MQ  Airline_NK  Airline_OH  Airline_OO  Airline_UA  Airline_VX  \\\n",
       "0           0           0           0           0           0           0   \n",
       "1           0           0           0           0           0           0   \n",
       "2           0           0           0           0           0           0   \n",
       "3           0           0           0           0           0           0   \n",
       "4           0           0           0           0           0           0   \n",
       "\n",
       "   Airline_WN  Airline_YV  Airline_YX  Origin_ATL  Origin_CLT  Origin_DEN  \\\n",
       "0           0           0           0           0           0           0   \n",
       "1           0           0           0           0           0           0   \n",
       "2           0           0           0           0           0           0   \n",
       "3           0           0           0           0           0           0   \n",
       "4           0           0           0           0           0           0   \n",
       "\n",
       "   Origin_DFW  Origin_LAS  Origin_LAX  Origin_MCO  Origin_ORD  Origin_PHX  \\\n",
       "0           0           0           0           0           0           1   \n",
       "1           0           0           0           0           0           1   \n",
       "2           0           0           0           0           0           1   \n",
       "3           0           0           0           0           0           1   \n",
       "4           0           0           0           0           0           1   \n",
       "\n",
       "   Origin_SEA  Dest_ATL  Dest_CLT  Dest_DEN  Dest_DFW  Dest_LAS  Dest_LAX  \\\n",
       "0           0         0         0         0         1         0         0   \n",
       "1           0         0         0         0         1         0         0   \n",
       "2           0         0         0         0         1         0         0   \n",
       "3           0         0         0         0         1         0         0   \n",
       "4           0         0         0         0         1         0         0   \n",
       "\n",
       "   Dest_MCO  Dest_ORD  Dest_PHX  Dest_SEA  is_late  \n",
       "0         0         0         0         0    False  \n",
       "1         0         0         0         0    False  \n",
       "2         0         0         0         0    False  \n",
       "3         0         0         0         0     True  \n",
       "4         0         0         0         0     True  "
      ]
     },
     "execution_count": 7,
     "metadata": {},
     "output_type": "execute_result"
    }
   ],
   "source": [
    "# Inspect all columns\n",
    "pd.set_option('display.max_columns', None)\n",
    "df.head() "
   ]
  },
  {
   "cell_type": "markdown",
   "id": "efccfd85",
   "metadata": {},
   "source": [
    "# Long vs Short Term Model\n",
    "As discussed in porposal, we will have two models, one predicting delay before passengers arrive at the airport, and the other one predict delay using all data avaliable until the plane left the ground.\n",
    "\n",
    "Here, some columns contain data that will only be avaliable when the passengers board the plane (like DepDelay and Weather). We cannot use them in our long-run forecase, but we can include them in our short-run forecast."
   ]
  },
  {
   "cell_type": "code",
   "execution_count": 8,
   "id": "906f6da0",
   "metadata": {},
   "outputs": [],
   "source": [
    "weather_columns = ['Severe-Cold', 'Fog', 'Hail', 'Rain', 'Snow', 'Storm', 'Other Precipitation']\n",
    "ST_columns = ['DepDelay'] \n",
    "df_LT = df[df.columns.difference(ST_columns)]\n",
    "# df_ST = df"
   ]
  },
  {
   "cell_type": "code",
   "execution_count": 9,
   "id": "08927015",
   "metadata": {},
   "outputs": [
    {
     "data": {
      "text/plain": [
       "0"
      ]
     },
     "execution_count": 9,
     "metadata": {},
     "output_type": "execute_result"
    }
   ],
   "source": [
    "del [[df]]\n",
    "gc.collect()"
   ]
  },
  {
   "cell_type": "code",
   "execution_count": 10,
   "id": "82ab1743",
   "metadata": {},
   "outputs": [],
   "source": [
    "# Specify X and y\n",
    "X = df_LT.drop(columns = ['is_late'])\n",
    "y = pd.DataFrame(df_LT['is_late'])\n",
    "\n",
    "# X = df_ST.drop(columns = ['is_late'])\n",
    "# y = pd.DataFrame(df_ST['is_late'])\n",
    "\n",
    "\n",
    "# Perform train-test-validation split (Train: 0.6, test: 0.2, Val: 0.2)\n",
    "X_train, X_test, y_train, y_test = train_test_split(X, y, test_size=0.2)\n",
    "X_train, X_val, y_train, y_val = train_test_split(X_train, y_train, test_size=0.25)"
   ]
  },
  {
   "cell_type": "code",
   "execution_count": 11,
   "id": "5ad4cb17",
   "metadata": {},
   "outputs": [
    {
     "data": {
      "text/plain": [
       "(393817, 68)"
      ]
     },
     "execution_count": 11,
     "metadata": {},
     "output_type": "execute_result"
    }
   ],
   "source": [
    "X_val.shape"
   ]
  },
  {
   "cell_type": "code",
   "execution_count": 12,
   "id": "facaa26e",
   "metadata": {},
   "outputs": [
    {
     "data": {
      "text/plain": [
       "(393817, 68)"
      ]
     },
     "execution_count": 12,
     "metadata": {},
     "output_type": "execute_result"
    }
   ],
   "source": [
    "X_test.shape"
   ]
  },
  {
   "cell_type": "code",
   "execution_count": 13,
   "id": "37c74069",
   "metadata": {},
   "outputs": [
    {
     "data": {
      "text/plain": [
       "(1181450, 68)"
      ]
     },
     "execution_count": 13,
     "metadata": {},
     "output_type": "execute_result"
    }
   ],
   "source": [
    "X_train.shape"
   ]
  },
  {
   "cell_type": "code",
   "execution_count": 26,
   "id": "2298534a",
   "metadata": {},
   "outputs": [],
   "source": [
    "X_train_10, _, y_train_10, _ = train_test_split(X_train, y_train, test_size=0.9)"
   ]
  },
  {
   "cell_type": "code",
   "execution_count": 27,
   "id": "a87cd23a",
   "metadata": {},
   "outputs": [
    {
     "data": {
      "text/plain": [
       "(118145, 68)"
      ]
     },
     "execution_count": 27,
     "metadata": {},
     "output_type": "execute_result"
    }
   ],
   "source": [
    "X_train_10.shape"
   ]
  },
  {
   "cell_type": "code",
   "execution_count": 64,
   "id": "d78f8446",
   "metadata": {},
   "outputs": [],
   "source": [
    "def plot_feature_importances(model, feature_names):\n",
    "    n_features = len(feature_names)\n",
    "    plt.figure(figsize=(10, 30))\n",
    "    plt.barh(range(n_features), model.feature_importances_, align='center')\n",
    "    plt.yticks(np.arange(n_features), feature_names)\n",
    "    plt.xlabel('Feature importance')\n",
    "    plt.ylabel('Features')\n",
    "    plt.grid(True)"
   ]
  },
  {
   "cell_type": "markdown",
   "id": "3f0d5c79",
   "metadata": {},
   "source": [
    "# Gradient Boosting (LT)\n",
    "As a start, we will fit a Gradient Boosting with y = is_late. As the dataset is inbalanced, we would use the weighted avg of F-1 score as our evaluation metrics\n",
    "## Baseline Model"
   ]
  },
  {
   "cell_type": "code",
   "execution_count": 14,
   "id": "b3fdfa5b",
   "metadata": {},
   "outputs": [],
   "source": [
    "subsample_size =  0.01\n",
    "max_depth = 5\n",
    "learning_rate = 0.1\n",
    "n_estimators = 100\n",
    "\n",
    "\n",
    "grad_boosting = GradientBoostingClassifier(learning_rate = learning_rate, \n",
    "                                           subsample = subsample_size, \n",
    "                                           max_depth = max_depth, \n",
    "                                           n_estimators = n_estimators, \n",
    "                                           verbose = 1, )"
   ]
  },
  {
   "cell_type": "code",
   "execution_count": 15,
   "id": "ce11ef43",
   "metadata": {},
   "outputs": [
    {
     "name": "stdout",
     "output_type": "stream",
     "text": [
      "      Iter       Train Loss      OOB Improve   Remaining Time \n",
      "         1           1.3010           0.0047           21.29s\n",
      "         2           1.2953           0.0046           21.07s\n",
      "         3           1.3025           0.0039           21.64s\n",
      "         4           1.2970           0.0034           21.12s\n",
      "         5           1.2930           0.0029           20.68s\n",
      "         6           1.2906           0.0026           20.42s\n",
      "         7           1.2907           0.0021           20.27s\n",
      "         8           1.2867           0.0020           20.00s\n",
      "         9           1.2794           0.0019           19.89s\n",
      "        10           1.2796           0.0014           19.66s\n",
      "        20           1.2784           0.0007           17.61s\n",
      "        30           1.2655           0.0006           15.46s\n",
      "        40           1.2596           0.0002           13.25s\n",
      "        50           1.2570           0.0002           11.05s\n",
      "        60           1.2633           0.0001            8.85s\n",
      "        70           1.2481           0.0001            6.64s\n",
      "        80           1.2623           0.0001            4.42s\n",
      "        90           1.2509           0.0003            2.21s\n",
      "       100           1.2563           0.0002            0.00s\n"
     ]
    },
    {
     "data": {
      "text/plain": [
       "GradientBoostingClassifier(max_depth=5, subsample=0.01, verbose=1)"
      ]
     },
     "execution_count": 15,
     "metadata": {},
     "output_type": "execute_result"
    }
   ],
   "source": [
    "grad_boosting.fit(X_train, y_train.values.ravel())"
   ]
  },
  {
   "cell_type": "code",
   "execution_count": 16,
   "id": "d63d3bb4",
   "metadata": {},
   "outputs": [
    {
     "name": "stdout",
     "output_type": "stream",
     "text": [
      "              precision    recall  f1-score   support\n",
      "\n",
      "       False       0.67      0.92      0.77    748155\n",
      "        True       0.60      0.20      0.30    433295\n",
      "\n",
      "    accuracy                           0.66   1181450\n",
      "   macro avg       0.63      0.56      0.54   1181450\n",
      "weighted avg       0.64      0.66      0.60   1181450\n",
      "\n"
     ]
    }
   ],
   "source": [
    "# See train  \n",
    "pred = grad_boosting.predict(X_train)\n",
    "print(classification_report(y_train.values.ravel(), pred))"
   ]
  },
  {
   "cell_type": "code",
   "execution_count": 17,
   "id": "6fcea849",
   "metadata": {},
   "outputs": [
    {
     "name": "stdout",
     "output_type": "stream",
     "text": [
      "              precision    recall  f1-score   support\n",
      "\n",
      "       False       0.67      0.92      0.77    249419\n",
      "        True       0.60      0.20      0.30    144398\n",
      "\n",
      "    accuracy                           0.66    393817\n",
      "   macro avg       0.63      0.56      0.54    393817\n",
      "weighted avg       0.64      0.66      0.60    393817\n",
      "\n"
     ]
    }
   ],
   "source": [
    "# See test  \n",
    "pred = grad_boosting.predict(X_test)\n",
    "print(classification_report(y_test.values.ravel(), pred))"
   ]
  },
  {
   "cell_type": "markdown",
   "id": "0358aae8",
   "metadata": {},
   "source": [
    "### Dummy Majority Classifier Result"
   ]
  },
  {
   "cell_type": "code",
   "execution_count": 19,
   "id": "f66944a8",
   "metadata": {
    "scrolled": false
   },
   "outputs": [
    {
     "name": "stderr",
     "output_type": "stream",
     "text": [
      "C:\\Users\\19665\\anaconda3\\lib\\site-packages\\sklearn\\metrics\\_classification.py:1308: UndefinedMetricWarning: Precision and F-score are ill-defined and being set to 0.0 in labels with no predicted samples. Use `zero_division` parameter to control this behavior.\n",
      "  _warn_prf(average, modifier, msg_start, len(result))\n",
      "C:\\Users\\19665\\anaconda3\\lib\\site-packages\\sklearn\\metrics\\_classification.py:1308: UndefinedMetricWarning: Precision and F-score are ill-defined and being set to 0.0 in labels with no predicted samples. Use `zero_division` parameter to control this behavior.\n",
      "  _warn_prf(average, modifier, msg_start, len(result))\n"
     ]
    },
    {
     "name": "stdout",
     "output_type": "stream",
     "text": [
      "              precision    recall  f1-score   support\n",
      "\n",
      "       False       0.63      1.00      0.78    249222\n",
      "        True       0.00      0.00      0.00    144595\n",
      "\n",
      "    accuracy                           0.63    393817\n",
      "   macro avg       0.32      0.50      0.39    393817\n",
      "weighted avg       0.40      0.63      0.49    393817\n",
      "\n"
     ]
    },
    {
     "name": "stderr",
     "output_type": "stream",
     "text": [
      "C:\\Users\\19665\\anaconda3\\lib\\site-packages\\sklearn\\metrics\\_classification.py:1308: UndefinedMetricWarning: Precision and F-score are ill-defined and being set to 0.0 in labels with no predicted samples. Use `zero_division` parameter to control this behavior.\n",
      "  _warn_prf(average, modifier, msg_start, len(result))\n"
     ]
    }
   ],
   "source": [
    "# See dummy majority classfier\n",
    "pred = np.zeros(y_test.values.shape[0])\n",
    "print(classification_report(y_test.values.ravel(), pred))"
   ]
  },
  {
   "cell_type": "markdown",
   "id": "7c0ce3f3",
   "metadata": {},
   "source": [
    "The model underfits"
   ]
  },
  {
   "cell_type": "markdown",
   "id": "c1d950dd",
   "metadata": {},
   "source": [
    "## Feature Scaling and Normalization\n",
    "Although most of our data features are one-hot generated, features like year and distance are order-of-magitude different from 1 and 0. We would like to see if normalizing all features to the same scale could help mitigate this disrepency. In theory the scale of the data should not affect how tree-based classification methods are trained"
   ]
  },
  {
   "cell_type": "code",
   "execution_count": 20,
   "id": "07f21d7a",
   "metadata": {},
   "outputs": [],
   "source": [
    "scaler = preprocessing.StandardScaler().fit(X_train)\n",
    "X_train_scaled = scaler.transform(X_train)\n",
    "# Use same scaler obtained from training sample because test data are supposed to be completely unknown\n",
    "X_test_scaled = scaler.transform(X_test)\n",
    "X_val_scaled = scaler.transform(X_val)"
   ]
  },
  {
   "cell_type": "code",
   "execution_count": 21,
   "id": "3c2a642f",
   "metadata": {},
   "outputs": [
    {
     "name": "stdout",
     "output_type": "stream",
     "text": [
      "      Iter       Train Loss      OOB Improve   Remaining Time \n",
      "         1           1.3089           0.0052            2.93m\n",
      "         2           1.3042           0.0043            2.94m\n",
      "         3           1.2995           0.0039            2.92m\n",
      "         4           1.2977           0.0033            2.87m\n",
      "         5           1.2946           0.0030            2.82m\n",
      "         6           1.2912           0.0024            2.79m\n",
      "         7           1.2893           0.0021            2.76m\n",
      "         8           1.2876           0.0021            2.73m\n",
      "         9           1.2864           0.0016            2.70m\n",
      "        10           1.2834           0.0021            2.67m\n",
      "        20           1.2722           0.0008            2.35m\n",
      "        30           1.2630           0.0004            2.06m\n",
      "        40           1.2587           0.0005            1.75m\n",
      "        50           1.2548           0.0002            1.45m\n",
      "        60           1.2508           0.0005            1.15m\n",
      "        70           1.2474           0.0005           51.56s\n",
      "        80           1.2451           0.0001           34.25s\n",
      "        90           1.2427           0.0001           17.12s\n",
      "       100           1.2419           0.0002            0.00s\n"
     ]
    },
    {
     "data": {
      "text/plain": [
       "GradientBoostingClassifier(max_depth=5, subsample=0.3, verbose=1)"
      ]
     },
     "execution_count": 21,
     "metadata": {},
     "output_type": "execute_result"
    }
   ],
   "source": [
    "grad_boosting.fit(X_train_scaled, y_train.values.ravel())"
   ]
  },
  {
   "cell_type": "code",
   "execution_count": 22,
   "id": "a5b98925",
   "metadata": {
    "scrolled": true
   },
   "outputs": [
    {
     "name": "stdout",
     "output_type": "stream",
     "text": [
      "              precision    recall  f1-score   support\n",
      "\n",
      "       False       0.66      0.94      0.78    249222\n",
      "        True       0.63      0.18      0.28    144595\n",
      "\n",
      "    accuracy                           0.66    393817\n",
      "   macro avg       0.65      0.56      0.53    393817\n",
      "weighted avg       0.65      0.66      0.60    393817\n",
      "\n"
     ]
    }
   ],
   "source": [
    "# See Test \n",
    "pred = grad_boosting.predict(X_test_scaled)\n",
    "print(classification_report(y_test.values.ravel(), pred))"
   ]
  },
  {
   "cell_type": "markdown",
   "id": "67954b5f",
   "metadata": {},
   "source": [
    "### Conclusion\n",
    "We are able to confirm that normalization is **not** helpful for Boosting Tree classifier"
   ]
  },
  {
   "cell_type": "markdown",
   "id": "4dd297cf",
   "metadata": {},
   "source": [
    "## Hyperparameter Tuning\n",
    "Since more tree does not typicaly leads to overfit, we decided to tune the other parameters, and then use more trees in the final model. We decided to optimize the following hyperparameters:\n",
    "1. Criterion\n",
    "2. Max depth of each tree\n",
    "3. Fraction of Samples used to generate each tree\n",
    "\n",
    "There exits other hyperparameters that we are not optimizing, because we believe they do not carry a large impact on the performance of the model"
   ]
  },
  {
   "cell_type": "code",
   "execution_count": 18,
   "id": "76635632",
   "metadata": {},
   "outputs": [
    {
     "name": "stdout",
     "output_type": "stream",
     "text": [
      "Fitting 2 folds for each of 4 candidates, totalling 8 fits\n"
     ]
    },
    {
     "data": {
      "text/plain": [
       "GridSearchCV(cv=2, estimator=GradientBoostingClassifier(subsample=0.01),\n",
       "             n_jobs=8,\n",
       "             param_grid=[{'max_depth': [5, 10, 50, 100],\n",
       "                          'n_estimators': [100]}],\n",
       "             scoring='f1_weighted', verbose=3)"
      ]
     },
     "execution_count": 18,
     "metadata": {},
     "output_type": "execute_result"
    }
   ],
   "source": [
    "parameters =  [{'max_depth': [5, 10, 50, 100], 'n_estimators' :[100]}]\n",
    "clf = GridSearchCV(GradientBoostingClassifier(subsample=0.01,learning_rate=0.1), parameters, scoring='f1_weighted', n_jobs = 8, verbose = 3, cv = 2)\n",
    "clf.fit(X_train, y_train.values.ravel())"
   ]
  },
  {
   "cell_type": "code",
   "execution_count": 19,
   "id": "5f42479b",
   "metadata": {
    "scrolled": true
   },
   "outputs": [
    {
     "name": "stdout",
     "output_type": "stream",
     "text": [
      "{'max_depth': 10, 'n_estimators': 100}\n"
     ]
    }
   ],
   "source": [
    "print(clf.best_params_)"
   ]
  },
  {
   "cell_type": "markdown",
   "id": "35053db9",
   "metadata": {},
   "source": [
    "## Final Model\n",
    "Our final RandomForest model has the following parameters:\n",
    "tree_size = 10\n",
    "estimator = 100\n",
    "\n"
   ]
  },
  {
   "cell_type": "code",
   "execution_count": 20,
   "id": "74feb9cd",
   "metadata": {},
   "outputs": [],
   "source": [
    "subsample_size =  0.1\n",
    "max_depth = 20\n",
    "learning_rate = 0.1\n",
    "n_estimators = 100\n",
    "\n",
    "\n",
    "grad_boosting = GradientBoostingClassifier(learning_rate = learning_rate, \n",
    "                                           subsample = subsample_size, \n",
    "                                           max_depth = max_depth, \n",
    "                                           n_estimators = n_estimators, \n",
    "                                           verbose = 1, )\n"
   ]
  },
  {
   "cell_type": "code",
   "execution_count": 21,
   "id": "1a112bf5",
   "metadata": {},
   "outputs": [
    {
     "name": "stdout",
     "output_type": "stream",
     "text": [
      "      Iter       Train Loss      OOB Improve   Remaining Time \n",
      "         1           1.2975           0.0089            3.08m\n",
      "         2           1.2923           0.0081            3.07m\n",
      "         3           1.2862           0.0062            3.06m\n",
      "         4           1.2809           0.0051            3.04m\n",
      "         5           1.2769           0.0046            3.02m\n",
      "         6           1.2714           0.0039            2.99m\n",
      "         7           1.2677           0.0031            2.95m\n",
      "         8           1.2663           0.0029            2.92m\n",
      "         9           1.2578           0.0027            2.89m\n",
      "        10           1.2571           0.0023            2.86m\n",
      "        20           1.2435           0.0007            2.55m\n",
      "        30           1.2260           0.0006            2.22m\n",
      "        40           1.2141           0.0003            1.90m\n",
      "        50           1.2059           0.0005            1.58m\n",
      "        60           1.2027           0.0002            1.26m\n",
      "        70           1.1949           0.0003           56.54s\n",
      "        80           1.1852           0.0002           37.74s\n",
      "        90           1.1833           0.0000           18.82s\n",
      "       100           1.1823           0.0002            0.00s\n"
     ]
    },
    {
     "data": {
      "text/plain": [
       "GradientBoostingClassifier(max_depth=10, subsample=0.1, verbose=1)"
      ]
     },
     "execution_count": 21,
     "metadata": {},
     "output_type": "execute_result"
    }
   ],
   "source": [
    "grad_boosting.fit(X_train, y_train.values.ravel())"
   ]
  },
  {
   "cell_type": "code",
   "execution_count": 22,
   "id": "6c3d0753",
   "metadata": {},
   "outputs": [
    {
     "name": "stdout",
     "output_type": "stream",
     "text": [
      "              precision    recall  f1-score   support\n",
      "\n",
      "       False       0.69      0.91      0.79    748155\n",
      "        True       0.66      0.31      0.42    433295\n",
      "\n",
      "    accuracy                           0.69   1181450\n",
      "   macro avg       0.67      0.61      0.60   1181450\n",
      "weighted avg       0.68      0.69      0.65   1181450\n",
      "\n"
     ]
    }
   ],
   "source": [
    "# See Train \n",
    "pred = grad_boosting.predict(X_train)\n",
    "print(classification_report(y_train.values.ravel(), pred))"
   ]
  },
  {
   "cell_type": "code",
   "execution_count": 23,
   "id": "556144ad",
   "metadata": {
    "scrolled": true
   },
   "outputs": [
    {
     "name": "stdout",
     "output_type": "stream",
     "text": [
      "              precision    recall  f1-score   support\n",
      "\n",
      "       False       0.69      0.90      0.78    249419\n",
      "        True       0.62      0.29      0.39    144398\n",
      "\n",
      "    accuracy                           0.67    393817\n",
      "   macro avg       0.65      0.59      0.59    393817\n",
      "weighted avg       0.66      0.67      0.64    393817\n",
      "\n"
     ]
    }
   ],
   "source": [
    "# See Test \n",
    "pred = grad_boosting.predict(X_test)\n",
    "print(classification_report(y_test.values.ravel(), pred))"
   ]
  },
  {
   "cell_type": "code",
   "execution_count": 65,
   "id": "1ae3b637",
   "metadata": {},
   "outputs": [
    {
     "data": {
      "image/png": "[encoded data removed]",
      "text/plain": [
       "<Figure size 720x2160 with 1 Axes>"
      ]
     },
     "metadata": {
      "needs_background": "light"
     },
     "output_type": "display_data"
    }
   ],
   "source": [
    "feature_names = X_train.columns.values\n",
    "plot_feature_importances(grad_boosting, feature_names)"
   ]
  },
  {
   "cell_type": "markdown",
   "id": "96b0ce3e",
   "metadata": {},
   "source": [
    "## AdaBoost"
   ]
  },
  {
   "cell_type": "code",
   "execution_count": 24,
   "id": "33ffb126",
   "metadata": {},
   "outputs": [],
   "source": [
    "n_estimator = 100\n",
    "ada_boosting = AdaBoostClassifier(n_estimators = n_estimator)"
   ]
  },
  {
   "cell_type": "code",
   "execution_count": 28,
   "id": "20fbf0ed",
   "metadata": {},
   "outputs": [
    {
     "data": {
      "text/plain": [
       "AdaBoostClassifier(n_estimators=100)"
      ]
     },
     "execution_count": 28,
     "metadata": {},
     "output_type": "execute_result"
    }
   ],
   "source": [
    "ada_boosting.fit(X_train_10, y_train_10.values.ravel())"
   ]
  },
  {
   "cell_type": "code",
   "execution_count": 29,
   "id": "e47fe261",
   "metadata": {},
   "outputs": [
    {
     "name": "stdout",
     "output_type": "stream",
     "text": [
      "              precision    recall  f1-score   support\n",
      "\n",
      "       False       0.66      0.94      0.77    748155\n",
      "        True       0.59      0.15      0.23    433295\n",
      "\n",
      "    accuracy                           0.65   1181450\n",
      "   macro avg       0.62      0.54      0.50   1181450\n",
      "weighted avg       0.63      0.65      0.58   1181450\n",
      "\n"
     ]
    }
   ],
   "source": [
    "# See Train \n",
    "pred = ada_boosting.predict(X_train)\n",
    "print(classification_report(y_train.values.ravel(), pred))"
   ]
  },
  {
   "cell_type": "code",
   "execution_count": 30,
   "id": "b708f858",
   "metadata": {},
   "outputs": [
    {
     "name": "stdout",
     "output_type": "stream",
     "text": [
      "              precision    recall  f1-score   support\n",
      "\n",
      "       False       0.66      0.94      0.77    249419\n",
      "        True       0.59      0.15      0.24    144398\n",
      "\n",
      "    accuracy                           0.65    393817\n",
      "   macro avg       0.63      0.54      0.50    393817\n",
      "weighted avg       0.63      0.65      0.58    393817\n",
      "\n"
     ]
    }
   ],
   "source": [
    "# See Test \n",
    "pred = ada_boosting.predict(X_test)\n",
    "print(classification_report(y_test.values.ravel(), pred))"
   ]
  },
  {
   "cell_type": "markdown",
   "id": "6c510f53",
   "metadata": {},
   "source": [
    "## Hyperparameter Tuning\n"
   ]
  },
  {
   "cell_type": "code",
   "execution_count": 31,
   "id": "a121c020",
   "metadata": {},
   "outputs": [
    {
     "name": "stdout",
     "output_type": "stream",
     "text": [
      "              precision    recall  f1-score   support\n",
      "\n",
      "       False       0.66      0.94      0.77    748155\n",
      "        True       0.59      0.15      0.23    433295\n",
      "\n",
      "    accuracy                           0.65   1181450\n",
      "   macro avg       0.62      0.54      0.50   1181450\n",
      "weighted avg       0.63      0.65      0.58   1181450\n",
      "\n",
      "              precision    recall  f1-score   support\n",
      "\n",
      "       False       0.66      0.94      0.77    249419\n",
      "        True       0.59      0.15      0.24    144398\n",
      "\n",
      "    accuracy                           0.65    393817\n",
      "   macro avg       0.63      0.54      0.50    393817\n",
      "weighted avg       0.63      0.65      0.58    393817\n",
      "\n",
      "\n",
      "              precision    recall  f1-score   support\n",
      "\n",
      "       False       0.69      0.85      0.76    748155\n",
      "        True       0.56      0.33      0.42    433295\n",
      "\n",
      "    accuracy                           0.66   1181450\n",
      "   macro avg       0.62      0.59      0.59   1181450\n",
      "weighted avg       0.64      0.66      0.63   1181450\n",
      "\n",
      "              precision    recall  f1-score   support\n",
      "\n",
      "       False       0.68      0.84      0.76    249419\n",
      "        True       0.55      0.33      0.41    144398\n",
      "\n",
      "    accuracy                           0.65    393817\n",
      "   macro avg       0.62      0.58      0.58    393817\n",
      "weighted avg       0.63      0.65      0.63    393817\n",
      "\n",
      "\n",
      "              precision    recall  f1-score   support\n",
      "\n",
      "       False       0.70      0.73      0.72    748155\n",
      "        True       0.50      0.47      0.49    433295\n",
      "\n",
      "    accuracy                           0.63   1181450\n",
      "   macro avg       0.60      0.60      0.60   1181450\n",
      "weighted avg       0.63      0.63      0.63   1181450\n",
      "\n",
      "              precision    recall  f1-score   support\n",
      "\n",
      "       False       0.67      0.70      0.69    249419\n",
      "        True       0.45      0.42      0.43    144398\n",
      "\n",
      "    accuracy                           0.60    393817\n",
      "   macro avg       0.56      0.56      0.56    393817\n",
      "weighted avg       0.59      0.60      0.59    393817\n",
      "\n",
      "\n",
      "              precision    recall  f1-score   support\n",
      "\n",
      "       False       0.71      0.79      0.75    748155\n",
      "        True       0.55      0.44      0.49    433295\n",
      "\n",
      "    accuracy                           0.66   1181450\n",
      "   macro avg       0.63      0.61      0.62   1181450\n",
      "weighted avg       0.65      0.66      0.65   1181450\n",
      "\n",
      "              precision    recall  f1-score   support\n",
      "\n",
      "       False       0.68      0.76      0.72    249419\n",
      "        True       0.48      0.38      0.42    144398\n",
      "\n",
      "    accuracy                           0.62    393817\n",
      "   macro avg       0.58      0.57      0.57    393817\n",
      "weighted avg       0.61      0.62      0.61    393817\n",
      "\n",
      "\n"
     ]
    }
   ],
   "source": [
    "for i in [1,5,10,20]:\n",
    "    base_tree = DecisionTreeClassifier(max_depth = i)\n",
    "    ada_boosting_alt = AdaBoostClassifier(base_estimator = base_tree, n_estimators = n_estimator)\n",
    "    ada_boosting_alt.fit(X_train_10, y_train_10.values.ravel())\n",
    "    # See Train \n",
    "    pred = ada_boosting_alt.predict(X_train)\n",
    "    print(classification_report(y_train.values.ravel(), pred))\n",
    "    # See Test \n",
    "    pred = ada_boosting_alt.predict(X_test)\n",
    "    print(classification_report(y_test.values.ravel(), pred))\n",
    "    print()"
   ]
  },
  {
   "cell_type": "code",
   "execution_count": 34,
   "id": "a2789613",
   "metadata": {},
   "outputs": [
    {
     "data": {
      "text/plain": [
       "0.6110903277676034"
      ]
     },
     "execution_count": 34,
     "metadata": {},
     "output_type": "execute_result"
    }
   ],
   "source": [
    "f1_score(y_test.values.ravel(), pred, average='weighted')"
   ]
  },
  {
   "cell_type": "code",
   "execution_count": 66,
   "id": "78f29a3e",
   "metadata": {},
   "outputs": [
    {
     "name": "stdout",
     "output_type": "stream",
     "text": [
      "              precision    recall  f1-score   support\n",
      "\n",
      "       False       0.70      0.88      0.78    748155\n",
      "        True       0.62      0.33      0.43    433295\n",
      "\n",
      "    accuracy                           0.68   1181450\n",
      "   macro avg       0.66      0.61      0.61   1181450\n",
      "weighted avg       0.67      0.68      0.65   1181450\n",
      "\n",
      "              precision    recall  f1-score   support\n",
      "\n",
      "       False       0.69      0.88      0.77    249454\n",
      "        True       0.61      0.32      0.42    144363\n",
      "\n",
      "    accuracy                           0.68    393817\n",
      "   macro avg       0.65      0.60      0.60    393817\n",
      "weighted avg       0.66      0.68      0.65    393817\n",
      "\n"
     ]
    }
   ],
   "source": [
    "base_tree = DecisionTreeClassifier(max_depth = 5)\n",
    "ada_boosting_final = AdaBoostClassifier(base_estimator = base_tree, n_estimators = 100)\n",
    "ada_boosting_final.fit(X_train, y_train.values.ravel())\n",
    "\n",
    "# See Train \n",
    "pred = ada_boosting_final.predict(X_train)\n",
    "print(classification_report(y_train.values.ravel(), pred))\n",
    "# See val \n",
    "pred = ada_boosting_final.predict(X_val)\n",
    "print(classification_report(y_val.values.ravel(), pred))"
   ]
  },
  {
   "cell_type": "code",
   "execution_count": 67,
   "id": "7cdf7093",
   "metadata": {},
   "outputs": [
    {
     "data": {
      "image/png": "[encoded data removed]",
      "text/plain": [
       "<Figure size 720x2160 with 1 Axes>"
      ]
     },
     "metadata": {
      "needs_background": "light"
     },
     "output_type": "display_data"
    }
   ],
   "source": [
    "feature_names = X_train.columns.values\n",
    "plot_feature_importances(grad_boosting, feature_names)"
   ]
  },
  {
   "cell_type": "markdown",
   "id": "e36ddef3",
   "metadata": {},
   "source": [
    "## XG Boost"
   ]
  },
  {
   "cell_type": "code",
   "execution_count": 43,
   "id": "faf7202b",
   "metadata": {},
   "outputs": [],
   "source": [
    "# Base model\n",
    "\n",
    "learning_rate = 0.1\n",
    "max_depth = 6\n",
    "subsample = 0.1\n",
    "\n",
    "xg_boosting = XGBClassifier(\n",
    "#     learning_rate = learning_rate,\n",
    "#     max_depth = max_depth, \n",
    "#     min_child_weight=min_child_weight, \n",
    "    subsample= subsample, \n",
    "    verbosity = 1,\n",
    "#     tree_method=\"gpu_hist\",\n",
    ")"
   ]
  },
  {
   "cell_type": "code",
   "execution_count": 45,
   "id": "0670efab",
   "metadata": {
    "scrolled": true
   },
   "outputs": [
    {
     "name": "stdout",
     "output_type": "stream",
     "text": [
      "              precision    recall  f1-score   support\n",
      "\n",
      "       False       0.68      0.90      0.78    748155\n",
      "        True       0.62      0.28      0.39    433295\n",
      "\n",
      "    accuracy                           0.67   1181450\n",
      "   macro avg       0.65      0.59      0.58   1181450\n",
      "weighted avg       0.66      0.67      0.63   1181450\n",
      "\n",
      "              precision    recall  f1-score   support\n",
      "\n",
      "       False       0.68      0.90      0.77    249454\n",
      "        True       0.61      0.27      0.38    144363\n",
      "\n",
      "    accuracy                           0.67    393817\n",
      "   macro avg       0.64      0.59      0.58    393817\n",
      "weighted avg       0.65      0.67      0.63    393817\n",
      "\n"
     ]
    }
   ],
   "source": [
    "xg_boosting.fit(X_train, y_train)\n",
    "\n",
    "# See Train \n",
    "pred = xg_boosting.predict(X_train)\n",
    "# print(f1_score(y_train.values.ravel(), pred, average='weighted'))\n",
    "print(classification_report(y_train.values.ravel(), pred))\n",
    "\n",
    "# See Val \n",
    "pred = xg_boosting.predict(X_val)\n",
    "# print(f1_score(y_val.values.ravel(), pred, average='weighted'))\n",
    "print(classification_report(y_val.values.ravel(), pred))"
   ]
  },
  {
   "cell_type": "code",
   "execution_count": 53,
   "id": "1096a623",
   "metadata": {},
   "outputs": [
    {
     "data": {
      "text/plain": [
       "<AxesSubplot:title={'center':'Feature importance'}, xlabel='F score', ylabel='Features'>"
      ]
     },
     "execution_count": 53,
     "metadata": {},
     "output_type": "execute_result"
    },
    {
     "data": {
      "image/png": "[encoded data removed]",
      "text/plain": [
       "<Figure size 432x288 with 1 Axes>"
      ]
     },
     "metadata": {
      "needs_background": "light"
     },
     "output_type": "display_data"
    }
   ],
   "source": [
    "plot_importance(xg_boosting,max_num_features = 20)"
   ]
  },
  {
   "cell_type": "code",
   "execution_count": 50,
   "id": "90b2cce1",
   "metadata": {},
   "outputs": [],
   "source": [
    "# Model underfits, delayed flights had bad recall"
   ]
  },
  {
   "cell_type": "code",
   "execution_count": 48,
   "id": "33fbbcfc",
   "metadata": {},
   "outputs": [],
   "source": [
    "# Test out model weight, as negative sample is ~ 1/2 of positive samples\n",
    "xg_boosting_balanced = XGBClassifier(\n",
    "#     learning_rate = learning_rate,\n",
    "#     max_depth = max_depth, \n",
    "#     min_child_weight=min_child_weight, \n",
    "    scale_pos_weight = 1.72,\n",
    "    subsample= subsample, \n",
    "    verbosity = 1,\n",
    "#     tree_method=\"gpu_hist\",\n",
    ")"
   ]
  },
  {
   "cell_type": "code",
   "execution_count": 51,
   "id": "e49062d9",
   "metadata": {
    "scrolled": false
   },
   "outputs": [
    {
     "name": "stderr",
     "output_type": "stream",
     "text": [
      "C:\\Users\\19665\\anaconda3\\lib\\site-packages\\xgboost\\sklearn.py:888: UserWarning: The use of label encoder in XGBClassifier is deprecated and will be removed in a future release. To remove this warning, do the following: 1) Pass option use_label_encoder=False when constructing XGBClassifier object; and 2) Encode your labels (y) as integers starting with 0, i.e. 0, 1, 2, ..., [num_class - 1].\n",
      "  warnings.warn(label_encoder_deprecation_msg, UserWarning)\n",
      "C:\\Users\\19665\\anaconda3\\lib\\site-packages\\sklearn\\preprocessing\\_label.py:98: DataConversionWarning: A column-vector y was passed when a 1d array was expected. Please change the shape of y to (n_samples, ), for example using ravel().\n",
      "  y = column_or_1d(y, warn=True)\n",
      "C:\\Users\\19665\\anaconda3\\lib\\site-packages\\sklearn\\preprocessing\\_label.py:133: DataConversionWarning: A column-vector y was passed when a 1d array was expected. Please change the shape of y to (n_samples, ), for example using ravel().\n",
      "  y = column_or_1d(y, warn=True)\n"
     ]
    },
    {
     "name": "stdout",
     "output_type": "stream",
     "text": [
      "[17:03:13] WARNING: ..\\src\\learner.cc:1061: Starting in XGBoost 1.3.0, the default evaluation metric used with the objective 'binary:logistic' was changed from 'error' to 'logloss'. Explicitly set eval_metric if you'd like to restore the old behavior.\n",
      "              precision    recall  f1-score   support\n",
      "\n",
      "       False       0.74      0.65      0.69    748155\n",
      "        True       0.50      0.60      0.55    433295\n",
      "\n",
      "    accuracy                           0.63   1181450\n",
      "   macro avg       0.62      0.63      0.62   1181450\n",
      "weighted avg       0.65      0.63      0.64   1181450\n",
      "\n",
      "              precision    recall  f1-score   support\n",
      "\n",
      "       False       0.73      0.64      0.69    249454\n",
      "        True       0.49      0.59      0.54    144363\n",
      "\n",
      "    accuracy                           0.63    393817\n",
      "   macro avg       0.61      0.62      0.61    393817\n",
      "weighted avg       0.64      0.63      0.63    393817\n",
      "\n"
     ]
    }
   ],
   "source": [
    "xg_boosting_balanced.fit(X_train, y_train)\n",
    "\n",
    "# See Train \n",
    "pred = xg_boosting_balanced.predict(X_train)\n",
    "# print(f1_score(y_train.values.ravel(), pred, average='weighted'))\n",
    "print(classification_report(y_train.values.ravel(), pred))\n",
    "\n",
    "# See Val \n",
    "pred = xg_boosting_balanced.predict(X_val)\n",
    "# print(f1_score(y_val.values.ravel(), pred, average='weighted'))\n",
    "print(classification_report(y_val.values.ravel(), pred))"
   ]
  },
  {
   "cell_type": "code",
   "execution_count": 52,
   "id": "728e562b",
   "metadata": {},
   "outputs": [
    {
     "data": {
      "text/plain": [
       "<AxesSubplot:title={'center':'Feature importance'}, xlabel='F score', ylabel='Features'>"
      ]
     },
     "execution_count": 52,
     "metadata": {},
     "output_type": "execute_result"
    },
    {
     "data": {
      "image/png": "[encoded data removed]",
      "text/plain": [
       "<Figure size 432x288 with 1 Axes>"
      ]
     },
     "metadata": {
      "needs_background": "light"
     },
     "output_type": "display_data"
    }
   ],
   "source": [
    "plot_importance(xg_boosting_balanced,max_num_features = 20)"
   ]
  },
  {
   "cell_type": "markdown",
   "id": "8d65ac8c",
   "metadata": {},
   "source": [
    "Model underfits, increase complexity"
   ]
  },
  {
   "cell_type": "code",
   "execution_count": 54,
   "id": "945b817b",
   "metadata": {
    "scrolled": true
   },
   "outputs": [
    {
     "name": "stderr",
     "output_type": "stream",
     "text": [
      "C:\\Users\\19665\\anaconda3\\lib\\site-packages\\xgboost\\sklearn.py:888: UserWarning: The use of label encoder in XGBClassifier is deprecated and will be removed in a future release. To remove this warning, do the following: 1) Pass option use_label_encoder=False when constructing XGBClassifier object; and 2) Encode your labels (y) as integers starting with 0, i.e. 0, 1, 2, ..., [num_class - 1].\n",
      "  warnings.warn(label_encoder_deprecation_msg, UserWarning)\n",
      "C:\\Users\\19665\\anaconda3\\lib\\site-packages\\sklearn\\preprocessing\\_label.py:98: DataConversionWarning: A column-vector y was passed when a 1d array was expected. Please change the shape of y to (n_samples, ), for example using ravel().\n",
      "  y = column_or_1d(y, warn=True)\n",
      "C:\\Users\\19665\\anaconda3\\lib\\site-packages\\sklearn\\preprocessing\\_label.py:133: DataConversionWarning: A column-vector y was passed when a 1d array was expected. Please change the shape of y to (n_samples, ), for example using ravel().\n",
      "  y = column_or_1d(y, warn=True)\n"
     ]
    },
    {
     "name": "stdout",
     "output_type": "stream",
     "text": [
      "[17:14:31] WARNING: ..\\src\\learner.cc:1061: Starting in XGBoost 1.3.0, the default evaluation metric used with the objective 'binary:logistic' was changed from 'error' to 'logloss'. Explicitly set eval_metric if you'd like to restore the old behavior.\n",
      "3\n",
      "0.6081870913032774\n",
      "0.6075346655744683\n",
      "---\n"
     ]
    },
    {
     "name": "stderr",
     "output_type": "stream",
     "text": [
      "C:\\Users\\19665\\anaconda3\\lib\\site-packages\\xgboost\\sklearn.py:888: UserWarning: The use of label encoder in XGBClassifier is deprecated and will be removed in a future release. To remove this warning, do the following: 1) Pass option use_label_encoder=False when constructing XGBClassifier object; and 2) Encode your labels (y) as integers starting with 0, i.e. 0, 1, 2, ..., [num_class - 1].\n",
      "  warnings.warn(label_encoder_deprecation_msg, UserWarning)\n",
      "C:\\Users\\19665\\anaconda3\\lib\\site-packages\\sklearn\\preprocessing\\_label.py:98: DataConversionWarning: A column-vector y was passed when a 1d array was expected. Please change the shape of y to (n_samples, ), for example using ravel().\n",
      "  y = column_or_1d(y, warn=True)\n",
      "C:\\Users\\19665\\anaconda3\\lib\\site-packages\\sklearn\\preprocessing\\_label.py:133: DataConversionWarning: A column-vector y was passed when a 1d array was expected. Please change the shape of y to (n_samples, ), for example using ravel().\n",
      "  y = column_or_1d(y, warn=True)\n"
     ]
    },
    {
     "name": "stdout",
     "output_type": "stream",
     "text": [
      "[17:14:51] WARNING: ..\\src\\learner.cc:1061: Starting in XGBoost 1.3.0, the default evaluation metric used with the objective 'binary:logistic' was changed from 'error' to 'logloss'. Explicitly set eval_metric if you'd like to restore the old behavior.\n",
      "6\n",
      "0.6307241016396141\n",
      "0.6281995614963751\n",
      "---\n"
     ]
    },
    {
     "name": "stderr",
     "output_type": "stream",
     "text": [
      "C:\\Users\\19665\\anaconda3\\lib\\site-packages\\xgboost\\sklearn.py:888: UserWarning: The use of label encoder in XGBClassifier is deprecated and will be removed in a future release. To remove this warning, do the following: 1) Pass option use_label_encoder=False when constructing XGBClassifier object; and 2) Encode your labels (y) as integers starting with 0, i.e. 0, 1, 2, ..., [num_class - 1].\n",
      "  warnings.warn(label_encoder_deprecation_msg, UserWarning)\n",
      "C:\\Users\\19665\\anaconda3\\lib\\site-packages\\sklearn\\preprocessing\\_label.py:98: DataConversionWarning: A column-vector y was passed when a 1d array was expected. Please change the shape of y to (n_samples, ), for example using ravel().\n",
      "  y = column_or_1d(y, warn=True)\n",
      "C:\\Users\\19665\\anaconda3\\lib\\site-packages\\sklearn\\preprocessing\\_label.py:133: DataConversionWarning: A column-vector y was passed when a 1d array was expected. Please change the shape of y to (n_samples, ), for example using ravel().\n",
      "  y = column_or_1d(y, warn=True)\n"
     ]
    },
    {
     "name": "stdout",
     "output_type": "stream",
     "text": [
      "[17:15:22] WARNING: ..\\src\\learner.cc:1061: Starting in XGBoost 1.3.0, the default evaluation metric used with the objective 'binary:logistic' was changed from 'error' to 'logloss'. Explicitly set eval_metric if you'd like to restore the old behavior.\n",
      "10\n",
      "0.6605767391346827\n",
      "0.6451804332447154\n",
      "---\n"
     ]
    },
    {
     "name": "stderr",
     "output_type": "stream",
     "text": [
      "C:\\Users\\19665\\anaconda3\\lib\\site-packages\\xgboost\\sklearn.py:888: UserWarning: The use of label encoder in XGBClassifier is deprecated and will be removed in a future release. To remove this warning, do the following: 1) Pass option use_label_encoder=False when constructing XGBClassifier object; and 2) Encode your labels (y) as integers starting with 0, i.e. 0, 1, 2, ..., [num_class - 1].\n",
      "  warnings.warn(label_encoder_deprecation_msg, UserWarning)\n",
      "C:\\Users\\19665\\anaconda3\\lib\\site-packages\\sklearn\\preprocessing\\_label.py:98: DataConversionWarning: A column-vector y was passed when a 1d array was expected. Please change the shape of y to (n_samples, ), for example using ravel().\n",
      "  y = column_or_1d(y, warn=True)\n",
      "C:\\Users\\19665\\anaconda3\\lib\\site-packages\\sklearn\\preprocessing\\_label.py:133: DataConversionWarning: A column-vector y was passed when a 1d array was expected. Please change the shape of y to (n_samples, ), for example using ravel().\n",
      "  y = column_or_1d(y, warn=True)\n"
     ]
    },
    {
     "name": "stdout",
     "output_type": "stream",
     "text": [
      "[17:16:13] WARNING: ..\\src\\learner.cc:1061: Starting in XGBoost 1.3.0, the default evaluation metric used with the objective 'binary:logistic' was changed from 'error' to 'logloss'. Explicitly set eval_metric if you'd like to restore the old behavior.\n",
      "20\n",
      "0.7462385267966378\n",
      "0.6537698601542772\n",
      "---\n"
     ]
    },
    {
     "name": "stderr",
     "output_type": "stream",
     "text": [
      "C:\\Users\\19665\\anaconda3\\lib\\site-packages\\xgboost\\sklearn.py:888: UserWarning: The use of label encoder in XGBClassifier is deprecated and will be removed in a future release. To remove this warning, do the following: 1) Pass option use_label_encoder=False when constructing XGBClassifier object; and 2) Encode your labels (y) as integers starting with 0, i.e. 0, 1, 2, ..., [num_class - 1].\n",
      "  warnings.warn(label_encoder_deprecation_msg, UserWarning)\n",
      "C:\\Users\\19665\\anaconda3\\lib\\site-packages\\sklearn\\preprocessing\\_label.py:98: DataConversionWarning: A column-vector y was passed when a 1d array was expected. Please change the shape of y to (n_samples, ), for example using ravel().\n",
      "  y = column_or_1d(y, warn=True)\n",
      "C:\\Users\\19665\\anaconda3\\lib\\site-packages\\sklearn\\preprocessing\\_label.py:133: DataConversionWarning: A column-vector y was passed when a 1d array was expected. Please change the shape of y to (n_samples, ), for example using ravel().\n",
      "  y = column_or_1d(y, warn=True)\n"
     ]
    },
    {
     "name": "stdout",
     "output_type": "stream",
     "text": [
      "[17:18:21] WARNING: ..\\src\\learner.cc:1061: Starting in XGBoost 1.3.0, the default evaluation metric used with the objective 'binary:logistic' was changed from 'error' to 'logloss'. Explicitly set eval_metric if you'd like to restore the old behavior.\n",
      "50\n",
      "0.8006084890093912\n",
      "0.6580180029898127\n",
      "---\n"
     ]
    }
   ],
   "source": [
    "# Tune tree depth\n",
    "best_val_score = 0\n",
    "best_mod = None\n",
    "for i in [3,6,10,20,50]:\n",
    "        xg_boosting = XGBClassifier(\n",
    "                                learning_rate = learning_rate,\n",
    "                                max_depth = i, \n",
    "                                subsample= subsample, \n",
    "                                scale_pos_weight = 1.72,\n",
    "#                                 _estimators = n_estimators,\n",
    "        )\n",
    "        xg_boosting.fit(X_train, y_train)\n",
    "\n",
    "        print(i)\n",
    "        # See Train \n",
    "        pred = xg_boosting.predict(X_train)\n",
    "        print(f1_score(y_train.values.ravel(), pred, average='weighted'))\n",
    "\n",
    "        # See Val \n",
    "        pred = xg_boosting.predict(X_val)\n",
    "        s = f1_score(y_val.values.ravel(), pred, average='weighted')\n",
    "        print(s)\n",
    "        if s > best_val_score:\n",
    "            best_val_score = s\n",
    "            best_mod = xg_boosting\n",
    "\n",
    "        print('---')"
   ]
  },
  {
   "cell_type": "code",
   "execution_count": 55,
   "id": "0e0dff2b",
   "metadata": {},
   "outputs": [],
   "source": [
    "# best model is tree of depth 50, but due to the extended training time, we decided to use 20"
   ]
  },
  {
   "cell_type": "code",
   "execution_count": 58,
   "id": "180fdaa7",
   "metadata": {},
   "outputs": [
    {
     "name": "stderr",
     "output_type": "stream",
     "text": [
      "C:\\Users\\19665\\anaconda3\\lib\\site-packages\\xgboost\\sklearn.py:888: UserWarning: The use of label encoder in XGBClassifier is deprecated and will be removed in a future release. To remove this warning, do the following: 1) Pass option use_label_encoder=False when constructing XGBClassifier object; and 2) Encode your labels (y) as integers starting with 0, i.e. 0, 1, 2, ..., [num_class - 1].\n",
      "  warnings.warn(label_encoder_deprecation_msg, UserWarning)\n",
      "C:\\Users\\19665\\anaconda3\\lib\\site-packages\\sklearn\\preprocessing\\_label.py:98: DataConversionWarning: A column-vector y was passed when a 1d array was expected. Please change the shape of y to (n_samples, ), for example using ravel().\n",
      "  y = column_or_1d(y, warn=True)\n",
      "C:\\Users\\19665\\anaconda3\\lib\\site-packages\\sklearn\\preprocessing\\_label.py:133: DataConversionWarning: A column-vector y was passed when a 1d array was expected. Please change the shape of y to (n_samples, ), for example using ravel().\n",
      "  y = column_or_1d(y, warn=True)\n"
     ]
    },
    {
     "name": "stdout",
     "output_type": "stream",
     "text": [
      "[17:36:46] WARNING: ..\\src\\learner.cc:1061: Starting in XGBoost 1.3.0, the default evaluation metric used with the objective 'binary:logistic' was changed from 'error' to 'logloss'. Explicitly set eval_metric if you'd like to restore the old behavior.\n",
      "(0.75, 0.75)\n",
      "0.7444168569036046\n",
      "0.6561587729953882\n",
      "---\n"
     ]
    },
    {
     "name": "stderr",
     "output_type": "stream",
     "text": [
      "C:\\Users\\19665\\anaconda3\\lib\\site-packages\\xgboost\\sklearn.py:888: UserWarning: The use of label encoder in XGBClassifier is deprecated and will be removed in a future release. To remove this warning, do the following: 1) Pass option use_label_encoder=False when constructing XGBClassifier object; and 2) Encode your labels (y) as integers starting with 0, i.e. 0, 1, 2, ..., [num_class - 1].\n",
      "  warnings.warn(label_encoder_deprecation_msg, UserWarning)\n",
      "C:\\Users\\19665\\anaconda3\\lib\\site-packages\\sklearn\\preprocessing\\_label.py:98: DataConversionWarning: A column-vector y was passed when a 1d array was expected. Please change the shape of y to (n_samples, ), for example using ravel().\n",
      "  y = column_or_1d(y, warn=True)\n",
      "C:\\Users\\19665\\anaconda3\\lib\\site-packages\\sklearn\\preprocessing\\_label.py:133: DataConversionWarning: A column-vector y was passed when a 1d array was expected. Please change the shape of y to (n_samples, ), for example using ravel().\n",
      "  y = column_or_1d(y, warn=True)\n"
     ]
    },
    {
     "name": "stdout",
     "output_type": "stream",
     "text": [
      "[17:38:44] WARNING: ..\\src\\learner.cc:1061: Starting in XGBoost 1.3.0, the default evaluation metric used with the objective 'binary:logistic' was changed from 'error' to 'logloss'. Explicitly set eval_metric if you'd like to restore the old behavior.\n",
      "(0.75, 1)\n",
      "0.7425547031266185\n",
      "0.6574707993815234\n",
      "---\n"
     ]
    },
    {
     "name": "stderr",
     "output_type": "stream",
     "text": [
      "C:\\Users\\19665\\anaconda3\\lib\\site-packages\\xgboost\\sklearn.py:888: UserWarning: The use of label encoder in XGBClassifier is deprecated and will be removed in a future release. To remove this warning, do the following: 1) Pass option use_label_encoder=False when constructing XGBClassifier object; and 2) Encode your labels (y) as integers starting with 0, i.e. 0, 1, 2, ..., [num_class - 1].\n",
      "  warnings.warn(label_encoder_deprecation_msg, UserWarning)\n",
      "C:\\Users\\19665\\anaconda3\\lib\\site-packages\\sklearn\\preprocessing\\_label.py:98: DataConversionWarning: A column-vector y was passed when a 1d array was expected. Please change the shape of y to (n_samples, ), for example using ravel().\n",
      "  y = column_or_1d(y, warn=True)\n",
      "C:\\Users\\19665\\anaconda3\\lib\\site-packages\\sklearn\\preprocessing\\_label.py:133: DataConversionWarning: A column-vector y was passed when a 1d array was expected. Please change the shape of y to (n_samples, ), for example using ravel().\n",
      "  y = column_or_1d(y, warn=True)\n"
     ]
    },
    {
     "name": "stdout",
     "output_type": "stream",
     "text": [
      "[17:40:43] WARNING: ..\\src\\learner.cc:1061: Starting in XGBoost 1.3.0, the default evaluation metric used with the objective 'binary:logistic' was changed from 'error' to 'logloss'. Explicitly set eval_metric if you'd like to restore the old behavior.\n",
      "(1, 0.75)\n",
      "0.74198254576619\n",
      "0.6565911956189414\n",
      "---\n"
     ]
    },
    {
     "name": "stderr",
     "output_type": "stream",
     "text": [
      "C:\\Users\\19665\\anaconda3\\lib\\site-packages\\xgboost\\sklearn.py:888: UserWarning: The use of label encoder in XGBClassifier is deprecated and will be removed in a future release. To remove this warning, do the following: 1) Pass option use_label_encoder=False when constructing XGBClassifier object; and 2) Encode your labels (y) as integers starting with 0, i.e. 0, 1, 2, ..., [num_class - 1].\n",
      "  warnings.warn(label_encoder_deprecation_msg, UserWarning)\n",
      "C:\\Users\\19665\\anaconda3\\lib\\site-packages\\sklearn\\preprocessing\\_label.py:98: DataConversionWarning: A column-vector y was passed when a 1d array was expected. Please change the shape of y to (n_samples, ), for example using ravel().\n",
      "  y = column_or_1d(y, warn=True)\n",
      "C:\\Users\\19665\\anaconda3\\lib\\site-packages\\sklearn\\preprocessing\\_label.py:133: DataConversionWarning: A column-vector y was passed when a 1d array was expected. Please change the shape of y to (n_samples, ), for example using ravel().\n",
      "  y = column_or_1d(y, warn=True)\n"
     ]
    },
    {
     "name": "stdout",
     "output_type": "stream",
     "text": [
      "[17:42:39] WARNING: ..\\src\\learner.cc:1061: Starting in XGBoost 1.3.0, the default evaluation metric used with the objective 'binary:logistic' was changed from 'error' to 'logloss'. Explicitly set eval_metric if you'd like to restore the old behavior.\n",
      "(1, 1)\n",
      "0.7405897274835541\n",
      "0.657421533768584\n",
      "---\n"
     ]
    }
   ],
   "source": [
    "# Check regularizations\n",
    "best_val_score = 0\n",
    "best_mod = None\n",
    "for i in [0.75,1]:\n",
    "    for j in [0.75,1]:\n",
    "        xg_boosting = XGBClassifier(\n",
    "            learning_rate = learning_rate,\n",
    "            max_depth = 20, \n",
    "            subsample= subsample, \n",
    "            scale_pos_weight = 1.72,\n",
    "            reg_lambda = i,\n",
    "            reg_alpha = j   \n",
    "        )\n",
    "        xg_boosting.fit(X_train, y_train)\n",
    "\n",
    "        print((i,j))\n",
    "        # See Train \n",
    "        pred = xg_boosting.predict(X_train)\n",
    "        print(f1_score(y_train.values.ravel(), pred, average='weighted'))\n",
    "\n",
    "        # See Val \n",
    "        pred = xg_boosting.predict(X_val)\n",
    "        s = f1_score(y_val.values.ravel(), pred, average='weighted')\n",
    "        print(s)\n",
    "        if s > best_val_score:\n",
    "            best_val_score = s\n",
    "            best_mod = xg_boosting\n",
    "\n",
    "        print('---')"
   ]
  },
  {
   "cell_type": "code",
   "execution_count": 60,
   "id": "048a93e5",
   "metadata": {},
   "outputs": [
    {
     "name": "stderr",
     "output_type": "stream",
     "text": [
      "C:\\Users\\19665\\anaconda3\\lib\\site-packages\\xgboost\\sklearn.py:888: UserWarning: The use of label encoder in XGBClassifier is deprecated and will be removed in a future release. To remove this warning, do the following: 1) Pass option use_label_encoder=False when constructing XGBClassifier object; and 2) Encode your labels (y) as integers starting with 0, i.e. 0, 1, 2, ..., [num_class - 1].\n",
      "  warnings.warn(label_encoder_deprecation_msg, UserWarning)\n",
      "C:\\Users\\19665\\anaconda3\\lib\\site-packages\\sklearn\\preprocessing\\_label.py:98: DataConversionWarning: A column-vector y was passed when a 1d array was expected. Please change the shape of y to (n_samples, ), for example using ravel().\n",
      "  y = column_or_1d(y, warn=True)\n",
      "C:\\Users\\19665\\anaconda3\\lib\\site-packages\\sklearn\\preprocessing\\_label.py:133: DataConversionWarning: A column-vector y was passed when a 1d array was expected. Please change the shape of y to (n_samples, ), for example using ravel().\n",
      "  y = column_or_1d(y, warn=True)\n"
     ]
    },
    {
     "name": "stdout",
     "output_type": "stream",
     "text": [
      "[17:47:23] WARNING: ..\\src\\learner.cc:1061: Starting in XGBoost 1.3.0, the default evaluation metric used with the objective 'binary:logistic' was changed from 'error' to 'logloss'. Explicitly set eval_metric if you'd like to restore the old behavior.\n",
      "              precision    recall  f1-score   support\n",
      "\n",
      "       False       0.82      0.76      0.79    748155\n",
      "        True       0.63      0.70      0.66    433295\n",
      "\n",
      "    accuracy                           0.74   1181450\n",
      "   macro avg       0.72      0.73      0.73   1181450\n",
      "weighted avg       0.75      0.74      0.74   1181450\n",
      "\n",
      "              precision    recall  f1-score   support\n",
      "\n",
      "       False       0.74      0.70      0.72    249454\n",
      "        True       0.53      0.58      0.55    144363\n",
      "\n",
      "    accuracy                           0.65    393817\n",
      "   macro avg       0.63      0.64      0.64    393817\n",
      "weighted avg       0.66      0.65      0.66    393817\n",
      "\n"
     ]
    }
   ],
   "source": [
    "# Has little impact, find the best performing one\n",
    "\n",
    "xg_boosting_final = XGBClassifier(\n",
    "    learning_rate = learning_rate,\n",
    "    max_depth = 20, \n",
    "    scale_pos_weight = 1.72,\n",
    "    subsample= subsample, \n",
    "    verbosity = 1,\n",
    "    reg_lambda = 0.75,\n",
    "    reg_alpha = 1  \n",
    ")\n",
    "\n",
    "xg_boosting_final.fit(X_train, y_train)\n",
    "\n",
    "\n",
    "# See Train \n",
    "pred = xg_boosting_final.predict(X_train)\n",
    "# print(f1_score(y_train.values.ravel(), pred, average='weighted'))\n",
    "print(classification_report(y_train.values.ravel(), pred))\n",
    "\n",
    "# See Val \n",
    "pred = xg_boosting_final.predict(X_val)\n",
    "# print(f1_score(y_val.values.ravel(), pred, average='weighted'))\n",
    "print(classification_report(y_val.values.ravel(), pred))"
   ]
  },
  {
   "cell_type": "code",
   "execution_count": 63,
   "id": "9ccfe3fc",
   "metadata": {},
   "outputs": [
    {
     "data": {
      "text/plain": [
       "<AxesSubplot:title={'center':'Feature importance'}, xlabel='F score', ylabel='Features'>"
      ]
     },
     "execution_count": 63,
     "metadata": {},
     "output_type": "execute_result"
    },
    {
     "data": {
      "image/png": "[encoded data removed]",
      "text/plain": [
       "<Figure size 432x288 with 1 Axes>"
      ]
     },
     "metadata": {
      "needs_background": "light"
     },
     "output_type": "display_data"
    }
   ],
   "source": [
    "plot_importance(xg_boosting_final,max_num_features = 20)"
   ]
  },
  {
   "cell_type": "code",
   "execution_count": null,
   "id": "f0781e3e",
   "metadata": {},
   "outputs": [],
   "source": []
  }
 ],
 "metadata": {
  "kernelspec": {
   "display_name": "Python 3 (ipykernel)",
   "language": "python",
   "name": "python3"
  },
  "language_info": {
   "codemirror_mode": {
    "name": "ipython",
    "version": 3
   },
   "file_extension": ".py",
   "mimetype": "text/x-python",
   "name": "python",
   "nbconvert_exporter": "python",
   "pygments_lexer": "ipython3",
   "version": "3.8.12"
  }
 },
 "nbformat": 4,
 "nbformat_minor": 5
}
