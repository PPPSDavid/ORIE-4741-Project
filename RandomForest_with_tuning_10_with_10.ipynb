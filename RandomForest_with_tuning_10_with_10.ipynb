{
 "cells": [
  {
   "cell_type": "code",
   "execution_count": 2,
   "id": "f29573a2",
   "metadata": {},
   "outputs": [],
   "source": [
    "# LT: Exclude DepDelay\n",
    "# ST: Include DepDelay\n",
    "# Classification: Predict if arrdelay > 0\n",
    "\n",
    "# Import Necessary Package here\n",
    "import pandas as pd\n",
    "import numpy as np\n",
    "from sklearn.model_selection import train_test_split, GridSearchCV\n",
    "from sklearn.metrics import accuracy_score, confusion_matrix, classification_report, plot_confusion_matrix\n",
    "from sklearn import metrics\n",
    "from sklearn import preprocessing\n",
    "import gc\n",
    "\n",
    "# Models\n",
    "from sklearn.linear_model import LogisticRegression\n",
    "from sklearn.tree import DecisionTreeClassifier\n",
    "from sklearn.ensemble import  RandomForestClassifier, GradientBoostingClassifier, AdaBoostClassifier\n",
    "from xgboost import XGBClassifier, plot_importance\n",
    "\n",
    "import matplotlib.pyplot as plt"
   ]
  },
  {
   "cell_type": "markdown",
   "id": "bdc78d7e",
   "metadata": {},
   "source": [
    "# Data Import"
   ]
  },
  {
   "cell_type": "code",
   "execution_count": 3,
   "id": "f793f304",
   "metadata": {},
   "outputs": [],
   "source": [
    "# Load CSV \n",
    "df = pd.read_csv(r\"C:\\Users\\19665\\Documents\\ORIE-4741-Project\\2016_to_2020_flight_feature_eng_w_Dest_10_10.csv\")"
   ]
  },
  {
   "cell_type": "code",
   "execution_count": 4,
   "id": "2d5b41a4",
   "metadata": {},
   "outputs": [
    {
     "data": {
      "text/plain": [
       "Index(['Year', 'Month', 'DayofMonth', 'DepDelay', 'ArrDelay', 'CRSElapsedTime',\n",
       "       'Distance', 'Severe-Cold_Severity', 'Fog_Severity', 'Hail_Severity',\n",
       "       'Rain_Severity', 'Snow_Severity', 'Storm_Severity',\n",
       "       'Other Precipitation_Severity', 'CRSDep_afternoon', 'CRSDep_midnight',\n",
       "       'CRSDep_morning', 'CRSDep_night', 'CRSArr_afternoon', 'CRSArr_midnight',\n",
       "       'CRSArr_morning', 'CRSArr_night', 'Q1', 'Q2', 'Q3', 'Q4', 'Mon', 'Tue',\n",
       "       'Wed', 'Thu', 'Fri', 'Sat', 'Sun', 'Airline_9E', 'Airline_AA',\n",
       "       'Airline_AS', 'Airline_B6', 'Airline_DL', 'Airline_EV', 'Airline_F9',\n",
       "       'Airline_G4', 'Airline_MQ', 'Airline_NK', 'Airline_OH', 'Airline_OO',\n",
       "       'Airline_UA', 'Airline_VX', 'Airline_WN', 'Airline_YV', 'Airline_YX',\n",
       "       'Origin_ATL', 'Origin_CLT', 'Origin_DEN', 'Origin_DFW', 'Origin_LAS',\n",
       "       'Origin_LAX', 'Origin_MCO', 'Origin_ORD', 'Origin_PHX', 'Origin_SEA',\n",
       "       'Dest_ATL', 'Dest_CLT', 'Dest_DEN', 'Dest_DFW', 'Dest_LAS', 'Dest_LAX',\n",
       "       'Dest_MCO', 'Dest_ORD', 'Dest_PHX', 'Dest_SEA'],\n",
       "      dtype='object')"
      ]
     },
     "execution_count": 4,
     "metadata": {},
     "output_type": "execute_result"
    }
   ],
   "source": [
    "df = df.drop('Unnamed: 0', axis = 1)\n",
    "df.columns"
   ]
  },
  {
   "cell_type": "code",
   "execution_count": 5,
   "id": "3ffd6de8",
   "metadata": {},
   "outputs": [
    {
     "data": {
      "text/plain": [
       "Series([], dtype: object)"
      ]
     },
     "execution_count": 5,
     "metadata": {},
     "output_type": "execute_result"
    }
   ],
   "source": [
    "# Check all columns are in numeric form\n",
    "df.dtypes[df.dtypes != 'int64'][df.dtypes != 'float64']"
   ]
  },
  {
   "cell_type": "code",
   "execution_count": 6,
   "id": "c0121595",
   "metadata": {},
   "outputs": [
    {
     "data": {
      "text/plain": [
       "False"
      ]
     },
     "execution_count": 6,
     "metadata": {},
     "output_type": "execute_result"
    }
   ],
   "source": [
    "# Check NA value \n",
    "df.isnull().values.any()"
   ]
  },
  {
   "cell_type": "code",
   "execution_count": 7,
   "id": "60b9fa54",
   "metadata": {},
   "outputs": [],
   "source": [
    "# Turn Regression into classification problem\n",
    "df['is_late'] = df['ArrDelay'] > 0\n",
    "df = df.drop(columns = ['ArrDelay'])"
   ]
  },
  {
   "cell_type": "code",
   "execution_count": 8,
   "id": "a941d163",
   "metadata": {
    "scrolled": false
   },
   "outputs": [
    {
     "data": {
      "text/html": [
       "<div>\n",
       "<style scoped>\n",
       "    .dataframe tbody tr th:only-of-type {\n",
       "        vertical-align: middle;\n",
       "    }\n",
       "\n",
       "    .dataframe tbody tr th {\n",
       "        vertical-align: top;\n",
       "    }\n",
       "\n",
       "    .dataframe thead th {\n",
       "        text-align: right;\n",
       "    }\n",
       "</style>\n",
       "<table border=\"1\" class=\"dataframe\">\n",
       "  <thead>\n",
       "    <tr style=\"text-align: right;\">\n",
       "      <th></th>\n",
       "      <th>Year</th>\n",
       "      <th>Month</th>\n",
       "      <th>DayofMonth</th>\n",
       "      <th>DepDelay</th>\n",
       "      <th>CRSElapsedTime</th>\n",
       "      <th>Distance</th>\n",
       "      <th>Severe-Cold_Severity</th>\n",
       "      <th>Fog_Severity</th>\n",
       "      <th>Hail_Severity</th>\n",
       "      <th>Rain_Severity</th>\n",
       "      <th>Snow_Severity</th>\n",
       "      <th>Storm_Severity</th>\n",
       "      <th>Other Precipitation_Severity</th>\n",
       "      <th>CRSDep_afternoon</th>\n",
       "      <th>CRSDep_midnight</th>\n",
       "      <th>CRSDep_morning</th>\n",
       "      <th>CRSDep_night</th>\n",
       "      <th>CRSArr_afternoon</th>\n",
       "      <th>CRSArr_midnight</th>\n",
       "      <th>CRSArr_morning</th>\n",
       "      <th>CRSArr_night</th>\n",
       "      <th>Q1</th>\n",
       "      <th>Q2</th>\n",
       "      <th>Q3</th>\n",
       "      <th>Q4</th>\n",
       "      <th>Mon</th>\n",
       "      <th>Tue</th>\n",
       "      <th>Wed</th>\n",
       "      <th>Thu</th>\n",
       "      <th>Fri</th>\n",
       "      <th>Sat</th>\n",
       "      <th>Sun</th>\n",
       "      <th>Airline_9E</th>\n",
       "      <th>Airline_AA</th>\n",
       "      <th>Airline_AS</th>\n",
       "      <th>Airline_B6</th>\n",
       "      <th>Airline_DL</th>\n",
       "      <th>Airline_EV</th>\n",
       "      <th>Airline_F9</th>\n",
       "      <th>Airline_G4</th>\n",
       "      <th>Airline_MQ</th>\n",
       "      <th>Airline_NK</th>\n",
       "      <th>Airline_OH</th>\n",
       "      <th>Airline_OO</th>\n",
       "      <th>Airline_UA</th>\n",
       "      <th>Airline_VX</th>\n",
       "      <th>Airline_WN</th>\n",
       "      <th>Airline_YV</th>\n",
       "      <th>Airline_YX</th>\n",
       "      <th>Origin_ATL</th>\n",
       "      <th>Origin_CLT</th>\n",
       "      <th>Origin_DEN</th>\n",
       "      <th>Origin_DFW</th>\n",
       "      <th>Origin_LAS</th>\n",
       "      <th>Origin_LAX</th>\n",
       "      <th>Origin_MCO</th>\n",
       "      <th>Origin_ORD</th>\n",
       "      <th>Origin_PHX</th>\n",
       "      <th>Origin_SEA</th>\n",
       "      <th>Dest_ATL</th>\n",
       "      <th>Dest_CLT</th>\n",
       "      <th>Dest_DEN</th>\n",
       "      <th>Dest_DFW</th>\n",
       "      <th>Dest_LAS</th>\n",
       "      <th>Dest_LAX</th>\n",
       "      <th>Dest_MCO</th>\n",
       "      <th>Dest_ORD</th>\n",
       "      <th>Dest_PHX</th>\n",
       "      <th>Dest_SEA</th>\n",
       "      <th>is_late</th>\n",
       "    </tr>\n",
       "  </thead>\n",
       "  <tbody>\n",
       "    <tr>\n",
       "      <th>0</th>\n",
       "      <td>2016</td>\n",
       "      <td>1</td>\n",
       "      <td>1</td>\n",
       "      <td>0.0</td>\n",
       "      <td>148.0</td>\n",
       "      <td>868.0</td>\n",
       "      <td>0</td>\n",
       "      <td>0</td>\n",
       "      <td>0</td>\n",
       "      <td>0</td>\n",
       "      <td>0</td>\n",
       "      <td>0</td>\n",
       "      <td>0</td>\n",
       "      <td>0</td>\n",
       "      <td>0</td>\n",
       "      <td>1</td>\n",
       "      <td>0</td>\n",
       "      <td>1</td>\n",
       "      <td>0</td>\n",
       "      <td>0</td>\n",
       "      <td>0</td>\n",
       "      <td>1</td>\n",
       "      <td>0</td>\n",
       "      <td>0</td>\n",
       "      <td>0</td>\n",
       "      <td>0</td>\n",
       "      <td>0</td>\n",
       "      <td>0</td>\n",
       "      <td>0</td>\n",
       "      <td>1</td>\n",
       "      <td>0</td>\n",
       "      <td>0</td>\n",
       "      <td>0</td>\n",
       "      <td>1</td>\n",
       "      <td>0</td>\n",
       "      <td>0</td>\n",
       "      <td>0</td>\n",
       "      <td>0</td>\n",
       "      <td>0</td>\n",
       "      <td>0</td>\n",
       "      <td>0</td>\n",
       "      <td>0</td>\n",
       "      <td>0</td>\n",
       "      <td>0</td>\n",
       "      <td>0</td>\n",
       "      <td>0</td>\n",
       "      <td>0</td>\n",
       "      <td>0</td>\n",
       "      <td>0</td>\n",
       "      <td>0</td>\n",
       "      <td>0</td>\n",
       "      <td>0</td>\n",
       "      <td>0</td>\n",
       "      <td>0</td>\n",
       "      <td>0</td>\n",
       "      <td>0</td>\n",
       "      <td>0</td>\n",
       "      <td>1</td>\n",
       "      <td>0</td>\n",
       "      <td>0</td>\n",
       "      <td>0</td>\n",
       "      <td>0</td>\n",
       "      <td>1</td>\n",
       "      <td>0</td>\n",
       "      <td>0</td>\n",
       "      <td>0</td>\n",
       "      <td>0</td>\n",
       "      <td>0</td>\n",
       "      <td>0</td>\n",
       "      <td>False</td>\n",
       "    </tr>\n",
       "    <tr>\n",
       "      <th>1</th>\n",
       "      <td>2016</td>\n",
       "      <td>1</td>\n",
       "      <td>2</td>\n",
       "      <td>11.0</td>\n",
       "      <td>148.0</td>\n",
       "      <td>868.0</td>\n",
       "      <td>0</td>\n",
       "      <td>0</td>\n",
       "      <td>0</td>\n",
       "      <td>0</td>\n",
       "      <td>0</td>\n",
       "      <td>0</td>\n",
       "      <td>0</td>\n",
       "      <td>0</td>\n",
       "      <td>0</td>\n",
       "      <td>1</td>\n",
       "      <td>0</td>\n",
       "      <td>1</td>\n",
       "      <td>0</td>\n",
       "      <td>0</td>\n",
       "      <td>0</td>\n",
       "      <td>1</td>\n",
       "      <td>0</td>\n",
       "      <td>0</td>\n",
       "      <td>0</td>\n",
       "      <td>0</td>\n",
       "      <td>0</td>\n",
       "      <td>0</td>\n",
       "      <td>0</td>\n",
       "      <td>0</td>\n",
       "      <td>1</td>\n",
       "      <td>0</td>\n",
       "      <td>0</td>\n",
       "      <td>1</td>\n",
       "      <td>0</td>\n",
       "      <td>0</td>\n",
       "      <td>0</td>\n",
       "      <td>0</td>\n",
       "      <td>0</td>\n",
       "      <td>0</td>\n",
       "      <td>0</td>\n",
       "      <td>0</td>\n",
       "      <td>0</td>\n",
       "      <td>0</td>\n",
       "      <td>0</td>\n",
       "      <td>0</td>\n",
       "      <td>0</td>\n",
       "      <td>0</td>\n",
       "      <td>0</td>\n",
       "      <td>0</td>\n",
       "      <td>0</td>\n",
       "      <td>0</td>\n",
       "      <td>0</td>\n",
       "      <td>0</td>\n",
       "      <td>0</td>\n",
       "      <td>0</td>\n",
       "      <td>0</td>\n",
       "      <td>1</td>\n",
       "      <td>0</td>\n",
       "      <td>0</td>\n",
       "      <td>0</td>\n",
       "      <td>0</td>\n",
       "      <td>1</td>\n",
       "      <td>0</td>\n",
       "      <td>0</td>\n",
       "      <td>0</td>\n",
       "      <td>0</td>\n",
       "      <td>0</td>\n",
       "      <td>0</td>\n",
       "      <td>False</td>\n",
       "    </tr>\n",
       "    <tr>\n",
       "      <th>2</th>\n",
       "      <td>2016</td>\n",
       "      <td>1</td>\n",
       "      <td>3</td>\n",
       "      <td>11.0</td>\n",
       "      <td>148.0</td>\n",
       "      <td>868.0</td>\n",
       "      <td>0</td>\n",
       "      <td>0</td>\n",
       "      <td>0</td>\n",
       "      <td>0</td>\n",
       "      <td>0</td>\n",
       "      <td>0</td>\n",
       "      <td>0</td>\n",
       "      <td>0</td>\n",
       "      <td>0</td>\n",
       "      <td>1</td>\n",
       "      <td>0</td>\n",
       "      <td>1</td>\n",
       "      <td>0</td>\n",
       "      <td>0</td>\n",
       "      <td>0</td>\n",
       "      <td>1</td>\n",
       "      <td>0</td>\n",
       "      <td>0</td>\n",
       "      <td>0</td>\n",
       "      <td>0</td>\n",
       "      <td>0</td>\n",
       "      <td>0</td>\n",
       "      <td>0</td>\n",
       "      <td>0</td>\n",
       "      <td>0</td>\n",
       "      <td>1</td>\n",
       "      <td>0</td>\n",
       "      <td>1</td>\n",
       "      <td>0</td>\n",
       "      <td>0</td>\n",
       "      <td>0</td>\n",
       "      <td>0</td>\n",
       "      <td>0</td>\n",
       "      <td>0</td>\n",
       "      <td>0</td>\n",
       "      <td>0</td>\n",
       "      <td>0</td>\n",
       "      <td>0</td>\n",
       "      <td>0</td>\n",
       "      <td>0</td>\n",
       "      <td>0</td>\n",
       "      <td>0</td>\n",
       "      <td>0</td>\n",
       "      <td>0</td>\n",
       "      <td>0</td>\n",
       "      <td>0</td>\n",
       "      <td>0</td>\n",
       "      <td>0</td>\n",
       "      <td>0</td>\n",
       "      <td>0</td>\n",
       "      <td>0</td>\n",
       "      <td>1</td>\n",
       "      <td>0</td>\n",
       "      <td>0</td>\n",
       "      <td>0</td>\n",
       "      <td>0</td>\n",
       "      <td>1</td>\n",
       "      <td>0</td>\n",
       "      <td>0</td>\n",
       "      <td>0</td>\n",
       "      <td>0</td>\n",
       "      <td>0</td>\n",
       "      <td>0</td>\n",
       "      <td>False</td>\n",
       "    </tr>\n",
       "    <tr>\n",
       "      <th>3</th>\n",
       "      <td>2016</td>\n",
       "      <td>1</td>\n",
       "      <td>4</td>\n",
       "      <td>2.0</td>\n",
       "      <td>148.0</td>\n",
       "      <td>868.0</td>\n",
       "      <td>0</td>\n",
       "      <td>0</td>\n",
       "      <td>0</td>\n",
       "      <td>0</td>\n",
       "      <td>0</td>\n",
       "      <td>0</td>\n",
       "      <td>0</td>\n",
       "      <td>0</td>\n",
       "      <td>0</td>\n",
       "      <td>1</td>\n",
       "      <td>0</td>\n",
       "      <td>1</td>\n",
       "      <td>0</td>\n",
       "      <td>0</td>\n",
       "      <td>0</td>\n",
       "      <td>1</td>\n",
       "      <td>0</td>\n",
       "      <td>0</td>\n",
       "      <td>0</td>\n",
       "      <td>1</td>\n",
       "      <td>0</td>\n",
       "      <td>0</td>\n",
       "      <td>0</td>\n",
       "      <td>0</td>\n",
       "      <td>0</td>\n",
       "      <td>0</td>\n",
       "      <td>0</td>\n",
       "      <td>1</td>\n",
       "      <td>0</td>\n",
       "      <td>0</td>\n",
       "      <td>0</td>\n",
       "      <td>0</td>\n",
       "      <td>0</td>\n",
       "      <td>0</td>\n",
       "      <td>0</td>\n",
       "      <td>0</td>\n",
       "      <td>0</td>\n",
       "      <td>0</td>\n",
       "      <td>0</td>\n",
       "      <td>0</td>\n",
       "      <td>0</td>\n",
       "      <td>0</td>\n",
       "      <td>0</td>\n",
       "      <td>0</td>\n",
       "      <td>0</td>\n",
       "      <td>0</td>\n",
       "      <td>0</td>\n",
       "      <td>0</td>\n",
       "      <td>0</td>\n",
       "      <td>0</td>\n",
       "      <td>0</td>\n",
       "      <td>1</td>\n",
       "      <td>0</td>\n",
       "      <td>0</td>\n",
       "      <td>0</td>\n",
       "      <td>0</td>\n",
       "      <td>1</td>\n",
       "      <td>0</td>\n",
       "      <td>0</td>\n",
       "      <td>0</td>\n",
       "      <td>0</td>\n",
       "      <td>0</td>\n",
       "      <td>0</td>\n",
       "      <td>True</td>\n",
       "    </tr>\n",
       "    <tr>\n",
       "      <th>4</th>\n",
       "      <td>2016</td>\n",
       "      <td>1</td>\n",
       "      <td>5</td>\n",
       "      <td>558.0</td>\n",
       "      <td>149.0</td>\n",
       "      <td>868.0</td>\n",
       "      <td>0</td>\n",
       "      <td>0</td>\n",
       "      <td>0</td>\n",
       "      <td>1</td>\n",
       "      <td>0</td>\n",
       "      <td>0</td>\n",
       "      <td>0</td>\n",
       "      <td>0</td>\n",
       "      <td>0</td>\n",
       "      <td>1</td>\n",
       "      <td>0</td>\n",
       "      <td>1</td>\n",
       "      <td>0</td>\n",
       "      <td>0</td>\n",
       "      <td>0</td>\n",
       "      <td>1</td>\n",
       "      <td>0</td>\n",
       "      <td>0</td>\n",
       "      <td>0</td>\n",
       "      <td>0</td>\n",
       "      <td>1</td>\n",
       "      <td>0</td>\n",
       "      <td>0</td>\n",
       "      <td>0</td>\n",
       "      <td>0</td>\n",
       "      <td>0</td>\n",
       "      <td>0</td>\n",
       "      <td>1</td>\n",
       "      <td>0</td>\n",
       "      <td>0</td>\n",
       "      <td>0</td>\n",
       "      <td>0</td>\n",
       "      <td>0</td>\n",
       "      <td>0</td>\n",
       "      <td>0</td>\n",
       "      <td>0</td>\n",
       "      <td>0</td>\n",
       "      <td>0</td>\n",
       "      <td>0</td>\n",
       "      <td>0</td>\n",
       "      <td>0</td>\n",
       "      <td>0</td>\n",
       "      <td>0</td>\n",
       "      <td>0</td>\n",
       "      <td>0</td>\n",
       "      <td>0</td>\n",
       "      <td>0</td>\n",
       "      <td>0</td>\n",
       "      <td>0</td>\n",
       "      <td>0</td>\n",
       "      <td>0</td>\n",
       "      <td>1</td>\n",
       "      <td>0</td>\n",
       "      <td>0</td>\n",
       "      <td>0</td>\n",
       "      <td>0</td>\n",
       "      <td>1</td>\n",
       "      <td>0</td>\n",
       "      <td>0</td>\n",
       "      <td>0</td>\n",
       "      <td>0</td>\n",
       "      <td>0</td>\n",
       "      <td>0</td>\n",
       "      <td>True</td>\n",
       "    </tr>\n",
       "  </tbody>\n",
       "</table>\n",
       "</div>"
      ],
      "text/plain": [
       "   Year  Month  DayofMonth  DepDelay  CRSElapsedTime  Distance  \\\n",
       "0  2016      1           1       0.0           148.0     868.0   \n",
       "1  2016      1           2      11.0           148.0     868.0   \n",
       "2  2016      1           3      11.0           148.0     868.0   \n",
       "3  2016      1           4       2.0           148.0     868.0   \n",
       "4  2016      1           5     558.0           149.0     868.0   \n",
       "\n",
       "   Severe-Cold_Severity  Fog_Severity  Hail_Severity  Rain_Severity  \\\n",
       "0                     0             0              0              0   \n",
       "1                     0             0              0              0   \n",
       "2                     0             0              0              0   \n",
       "3                     0             0              0              0   \n",
       "4                     0             0              0              1   \n",
       "\n",
       "   Snow_Severity  Storm_Severity  Other Precipitation_Severity  \\\n",
       "0              0               0                             0   \n",
       "1              0               0                             0   \n",
       "2              0               0                             0   \n",
       "3              0               0                             0   \n",
       "4              0               0                             0   \n",
       "\n",
       "   CRSDep_afternoon  CRSDep_midnight  CRSDep_morning  CRSDep_night  \\\n",
       "0                 0                0               1             0   \n",
       "1                 0                0               1             0   \n",
       "2                 0                0               1             0   \n",
       "3                 0                0               1             0   \n",
       "4                 0                0               1             0   \n",
       "\n",
       "   CRSArr_afternoon  CRSArr_midnight  CRSArr_morning  CRSArr_night  Q1  Q2  \\\n",
       "0                 1                0               0             0   1   0   \n",
       "1                 1                0               0             0   1   0   \n",
       "2                 1                0               0             0   1   0   \n",
       "3                 1                0               0             0   1   0   \n",
       "4                 1                0               0             0   1   0   \n",
       "\n",
       "   Q3  Q4  Mon  Tue  Wed  Thu  Fri  Sat  Sun  Airline_9E  Airline_AA  \\\n",
       "0   0   0    0    0    0    0    1    0    0           0           1   \n",
       "1   0   0    0    0    0    0    0    1    0           0           1   \n",
       "2   0   0    0    0    0    0    0    0    1           0           1   \n",
       "3   0   0    1    0    0    0    0    0    0           0           1   \n",
       "4   0   0    0    1    0    0    0    0    0           0           1   \n",
       "\n",
       "   Airline_AS  Airline_B6  Airline_DL  Airline_EV  Airline_F9  Airline_G4  \\\n",
       "0           0           0           0           0           0           0   \n",
       "1           0           0           0           0           0           0   \n",
       "2           0           0           0           0           0           0   \n",
       "3           0           0           0           0           0           0   \n",
       "4           0           0           0           0           0           0   \n",
       "\n",
       "   Airline_MQ  Airline_NK  Airline_OH  Airline_OO  Airline_UA  Airline_VX  \\\n",
       "0           0           0           0           0           0           0   \n",
       "1           0           0           0           0           0           0   \n",
       "2           0           0           0           0           0           0   \n",
       "3           0           0           0           0           0           0   \n",
       "4           0           0           0           0           0           0   \n",
       "\n",
       "   Airline_WN  Airline_YV  Airline_YX  Origin_ATL  Origin_CLT  Origin_DEN  \\\n",
       "0           0           0           0           0           0           0   \n",
       "1           0           0           0           0           0           0   \n",
       "2           0           0           0           0           0           0   \n",
       "3           0           0           0           0           0           0   \n",
       "4           0           0           0           0           0           0   \n",
       "\n",
       "   Origin_DFW  Origin_LAS  Origin_LAX  Origin_MCO  Origin_ORD  Origin_PHX  \\\n",
       "0           0           0           0           0           0           1   \n",
       "1           0           0           0           0           0           1   \n",
       "2           0           0           0           0           0           1   \n",
       "3           0           0           0           0           0           1   \n",
       "4           0           0           0           0           0           1   \n",
       "\n",
       "   Origin_SEA  Dest_ATL  Dest_CLT  Dest_DEN  Dest_DFW  Dest_LAS  Dest_LAX  \\\n",
       "0           0         0         0         0         1         0         0   \n",
       "1           0         0         0         0         1         0         0   \n",
       "2           0         0         0         0         1         0         0   \n",
       "3           0         0         0         0         1         0         0   \n",
       "4           0         0         0         0         1         0         0   \n",
       "\n",
       "   Dest_MCO  Dest_ORD  Dest_PHX  Dest_SEA  is_late  \n",
       "0         0         0         0         0    False  \n",
       "1         0         0         0         0    False  \n",
       "2         0         0         0         0    False  \n",
       "3         0         0         0         0     True  \n",
       "4         0         0         0         0     True  "
      ]
     },
     "execution_count": 8,
     "metadata": {},
     "output_type": "execute_result"
    }
   ],
   "source": [
    "# Inspect all columns\n",
    "pd.set_option('display.max_columns', None)\n",
    "df.head() "
   ]
  },
  {
   "cell_type": "code",
   "execution_count": 9,
   "id": "906f6da0",
   "metadata": {},
   "outputs": [],
   "source": [
    "weather_columns = ['Severe-Cold', 'Fog', 'Hail', 'Rain', 'Snow', 'Storm', 'Other Precipitation']\n",
    "ST_columns = ['DepDelay'] \n",
    "df_LT = df[df.columns.difference(ST_columns)]\n",
    "# df_ST = df"
   ]
  },
  {
   "cell_type": "code",
   "execution_count": 10,
   "id": "08927015",
   "metadata": {},
   "outputs": [
    {
     "data": {
      "text/plain": [
       "0"
      ]
     },
     "execution_count": 10,
     "metadata": {},
     "output_type": "execute_result"
    }
   ],
   "source": [
    "del [[df]]\n",
    "gc.collect()"
   ]
  },
  {
   "cell_type": "code",
   "execution_count": 11,
   "id": "82ab1743",
   "metadata": {},
   "outputs": [],
   "source": [
    "# Specify X and y\n",
    "X = df_LT.drop(columns = ['is_late'])\n",
    "y = pd.DataFrame(df_LT['is_late'])\n",
    "\n",
    "# X = df_ST.drop(columns = ['is_late'])\n",
    "# y = pd.DataFrame(df_ST['is_late'])\n",
    "\n",
    "\n",
    "# Perform train-test-validation split (Train: 0.6, test: 0.2, Val: 0.2)\n",
    "X_train, X_test, y_train, y_test = train_test_split(X, y, test_size=0.2)\n",
    "X_train, X_val, y_train, y_val = train_test_split(X_train, y_train, test_size=0.25)"
   ]
  },
  {
   "cell_type": "code",
   "execution_count": 12,
   "id": "5ad4cb17",
   "metadata": {},
   "outputs": [
    {
     "data": {
      "text/plain": [
       "(393817, 68)"
      ]
     },
     "execution_count": 12,
     "metadata": {},
     "output_type": "execute_result"
    }
   ],
   "source": [
    "X_val.shape"
   ]
  },
  {
   "cell_type": "code",
   "execution_count": 13,
   "id": "facaa26e",
   "metadata": {},
   "outputs": [
    {
     "data": {
      "text/plain": [
       "(393817, 68)"
      ]
     },
     "execution_count": 13,
     "metadata": {},
     "output_type": "execute_result"
    }
   ],
   "source": [
    "X_test.shape"
   ]
  },
  {
   "cell_type": "code",
   "execution_count": 14,
   "id": "37c74069",
   "metadata": {
    "scrolled": true
   },
   "outputs": [
    {
     "data": {
      "text/plain": [
       "(1181450, 68)"
      ]
     },
     "execution_count": 14,
     "metadata": {},
     "output_type": "execute_result"
    }
   ],
   "source": [
    "X_train.shape"
   ]
  },
  {
   "cell_type": "code",
   "execution_count": 1,
   "id": "5b0b2a20",
   "metadata": {},
   "outputs": [],
   "source": [
    "def plot_feature_importances(model, feature_names, top_n = None, fig_size = (10,10), title = 'Feature Importance'):\n",
    "    n_features = len(feature_names)\n",
    "    importance = model.feature_importances_\n",
    "    indices = np.argsort(importance)\n",
    "    plt.figure(figsize=fig_size)\n",
    "    if top_n:\n",
    "        plt.barh(range(top_n), importance[indices[-top_n:]], align='center')\n",
    "        plt.yticks(np.arange(top_n), feature_names[-top_n:])\n",
    "    else:\n",
    "        plt.barh(range(n_features), importance[indices], align='center')\n",
    "        plt.yticks(np.arange(n_features), feature_names)\n",
    "    plt.xlabel('Feature importance')\n",
    "    plt.ylabel('Features')\n",
    "    plt.grid(True)\n",
    "    plt.title(title)"
   ]
  },
  {
   "cell_type": "markdown",
   "id": "3f0d5c79",
   "metadata": {},
   "source": [
    "# Random Forest (LT)\n",
    "As a start, we will fit a RandomForest Classifier with y = is_late. As the dataset is inbalanced, we would use the weighted avg of F-1 score as our evaluation metrics"
   ]
  },
  {
   "cell_type": "markdown",
   "id": "58f9c64a",
   "metadata": {},
   "source": [
    "### Balanced vs inbalanced Random Forest Model"
   ]
  },
  {
   "cell_type": "code",
   "execution_count": 14,
   "id": "4bf914c0",
   "metadata": {},
   "outputs": [
    {
     "name": "stderr",
     "output_type": "stream",
     "text": [
      "[Parallel(n_jobs=7)]: Using backend ThreadingBackend with 7 concurrent workers.\n",
      "[Parallel(n_jobs=7)]: Done  36 tasks      | elapsed:    8.6s\n",
      "[Parallel(n_jobs=7)]: Done 100 out of 100 | elapsed:   21.0s finished\n"
     ]
    },
    {
     "data": {
      "text/plain": [
       "RandomForestClassifier(class_weight='balanced', max_depth=5, n_jobs=7,\n",
       "                       verbose=1)"
      ]
     },
     "execution_count": 14,
     "metadata": {},
     "output_type": "execute_result"
    }
   ],
   "source": [
    "forest = RandomForestClassifier(class_weight = 'balanced', n_jobs = 7, verbose = 1, max_depth = 5)\n",
    "forest.fit(X_train, y_train.values.ravel())"
   ]
  },
  {
   "cell_type": "code",
   "execution_count": 15,
   "id": "923abe05",
   "metadata": {},
   "outputs": [
    {
     "name": "stderr",
     "output_type": "stream",
     "text": [
      "[Parallel(n_jobs=7)]: Using backend ThreadingBackend with 7 concurrent workers.\n",
      "[Parallel(n_jobs=7)]: Done  36 tasks      | elapsed:    0.4s\n",
      "[Parallel(n_jobs=7)]: Done 100 out of 100 | elapsed:    1.2s finished\n"
     ]
    },
    {
     "name": "stdout",
     "output_type": "stream",
     "text": [
      "              precision    recall  f1-score   support\n",
      "\n",
      "       False       0.70      0.57      0.63    748690\n",
      "        True       0.44      0.58      0.50    432760\n",
      "\n",
      "    accuracy                           0.57   1181450\n",
      "   macro avg       0.57      0.57      0.56   1181450\n",
      "weighted avg       0.60      0.57      0.58   1181450\n",
      "\n"
     ]
    }
   ],
   "source": [
    "# See Train \n",
    "pred = forest.predict(X_train)\n",
    "print(classification_report(y_train.values.ravel(), pred))"
   ]
  },
  {
   "cell_type": "code",
   "execution_count": 16,
   "id": "524d4182",
   "metadata": {
    "scrolled": false
   },
   "outputs": [
    {
     "name": "stderr",
     "output_type": "stream",
     "text": [
      "[Parallel(n_jobs=7)]: Using backend ThreadingBackend with 7 concurrent workers.\n",
      "[Parallel(n_jobs=7)]: Done  36 tasks      | elapsed:    0.1s\n",
      "[Parallel(n_jobs=7)]: Done 100 out of 100 | elapsed:    0.3s finished\n"
     ]
    },
    {
     "name": "stdout",
     "output_type": "stream",
     "text": [
      "              precision    recall  f1-score   support\n",
      "\n",
      "       False       0.70      0.57      0.63    249084\n",
      "        True       0.44      0.58      0.50    144733\n",
      "\n",
      "    accuracy                           0.57    393817\n",
      "   macro avg       0.57      0.57      0.56    393817\n",
      "weighted avg       0.60      0.57      0.58    393817\n",
      "\n"
     ]
    }
   ],
   "source": [
    "# See Test \n",
    "pred = forest.predict(X_test)\n",
    "print(classification_report(y_test.values.ravel(), pred))"
   ]
  },
  {
   "cell_type": "code",
   "execution_count": 17,
   "id": "6cd4b52b",
   "metadata": {},
   "outputs": [
    {
     "name": "stderr",
     "output_type": "stream",
     "text": [
      "[Parallel(n_jobs=7)]: Using backend ThreadingBackend with 7 concurrent workers.\n",
      "[Parallel(n_jobs=7)]: Done  36 tasks      | elapsed:    8.5s\n",
      "[Parallel(n_jobs=7)]: Done 100 out of 100 | elapsed:   20.8s finished\n"
     ]
    },
    {
     "data": {
      "text/plain": [
       "RandomForestClassifier(max_depth=5, n_jobs=7, verbose=1)"
      ]
     },
     "execution_count": 17,
     "metadata": {},
     "output_type": "execute_result"
    }
   ],
   "source": [
    "forest = RandomForestClassifier(class_weight = None, n_jobs = 7, verbose = 1, max_depth = 5)\n",
    "forest.fit(X_train, y_train.values.ravel())"
   ]
  },
  {
   "cell_type": "code",
   "execution_count": 18,
   "id": "7556716f",
   "metadata": {},
   "outputs": [
    {
     "name": "stderr",
     "output_type": "stream",
     "text": [
      "[Parallel(n_jobs=7)]: Using backend ThreadingBackend with 7 concurrent workers.\n",
      "[Parallel(n_jobs=7)]: Done  36 tasks      | elapsed:    0.4s\n",
      "[Parallel(n_jobs=7)]: Done 100 out of 100 | elapsed:    1.1s finished\n"
     ]
    },
    {
     "name": "stdout",
     "output_type": "stream",
     "text": [
      "              precision    recall  f1-score   support\n",
      "\n",
      "       False       0.64      1.00      0.78    748690\n",
      "        True       0.80      0.01      0.02    432760\n",
      "\n",
      "    accuracy                           0.64   1181450\n",
      "   macro avg       0.72      0.50      0.40   1181450\n",
      "weighted avg       0.70      0.64      0.50   1181450\n",
      "\n"
     ]
    }
   ],
   "source": [
    "# See Train \n",
    "pred = forest.predict(X_train)\n",
    "print(classification_report(y_train.values.ravel(), pred))"
   ]
  },
  {
   "cell_type": "code",
   "execution_count": 19,
   "id": "0bb7e05f",
   "metadata": {},
   "outputs": [
    {
     "name": "stderr",
     "output_type": "stream",
     "text": [
      "[Parallel(n_jobs=7)]: Using backend ThreadingBackend with 7 concurrent workers.\n",
      "[Parallel(n_jobs=7)]: Done  36 tasks      | elapsed:    0.1s\n",
      "[Parallel(n_jobs=7)]: Done 100 out of 100 | elapsed:    0.3s finished\n"
     ]
    },
    {
     "name": "stdout",
     "output_type": "stream",
     "text": [
      "              precision    recall  f1-score   support\n",
      "\n",
      "       False       0.63      1.00      0.78    249084\n",
      "        True       0.79      0.01      0.02    144733\n",
      "\n",
      "    accuracy                           0.64    393817\n",
      "   macro avg       0.71      0.50      0.40    393817\n",
      "weighted avg       0.69      0.64      0.50    393817\n",
      "\n"
     ]
    }
   ],
   "source": [
    "# See Test \n",
    "pred = forest.predict(X_test)\n",
    "print(classification_report(y_test.values.ravel(), pred))"
   ]
  },
  {
   "cell_type": "markdown",
   "id": "c2225e3f",
   "metadata": {},
   "source": [
    "### Conclusion\n",
    "Balanced models seems to yield better testing performance"
   ]
  },
  {
   "cell_type": "markdown",
   "id": "0358aae8",
   "metadata": {},
   "source": [
    "### Dummy Majority Classifier Result"
   ]
  },
  {
   "cell_type": "code",
   "execution_count": 20,
   "id": "f66944a8",
   "metadata": {
    "scrolled": false
   },
   "outputs": [
    {
     "name": "stderr",
     "output_type": "stream",
     "text": [
      "C:\\Users\\19665\\anaconda3\\lib\\site-packages\\sklearn\\metrics\\_classification.py:1308: UndefinedMetricWarning: Precision and F-score are ill-defined and being set to 0.0 in labels with no predicted samples. Use `zero_division` parameter to control this behavior.\n",
      "  _warn_prf(average, modifier, msg_start, len(result))\n",
      "C:\\Users\\19665\\anaconda3\\lib\\site-packages\\sklearn\\metrics\\_classification.py:1308: UndefinedMetricWarning: Precision and F-score are ill-defined and being set to 0.0 in labels with no predicted samples. Use `zero_division` parameter to control this behavior.\n",
      "  _warn_prf(average, modifier, msg_start, len(result))\n"
     ]
    },
    {
     "name": "stdout",
     "output_type": "stream",
     "text": [
      "              precision    recall  f1-score   support\n",
      "\n",
      "       False       0.63      1.00      0.77    248765\n",
      "        True       0.00      0.00      0.00    145052\n",
      "\n",
      "    accuracy                           0.63    393817\n",
      "   macro avg       0.32      0.50      0.39    393817\n",
      "weighted avg       0.40      0.63      0.49    393817\n",
      "\n"
     ]
    },
    {
     "name": "stderr",
     "output_type": "stream",
     "text": [
      "C:\\Users\\19665\\anaconda3\\lib\\site-packages\\sklearn\\metrics\\_classification.py:1308: UndefinedMetricWarning: Precision and F-score are ill-defined and being set to 0.0 in labels with no predicted samples. Use `zero_division` parameter to control this behavior.\n",
      "  _warn_prf(average, modifier, msg_start, len(result))\n"
     ]
    }
   ],
   "source": [
    "# See dummy majority classfier\n",
    "pred = np.zeros(y_test.values.shape[0])\n",
    "print(classification_report(y_test.values.ravel(), pred))"
   ]
  },
  {
   "cell_type": "markdown",
   "id": "c1d950dd",
   "metadata": {},
   "source": [
    "## Feature Scaling and Normalization\n",
    "Although most of our data features are one-hot generated, features like year and distance are order-of-magitude different from 1 and 0. We would like to see if normalizing all features to the same scale could help mitigate this disrepency"
   ]
  },
  {
   "cell_type": "code",
   "execution_count": 27,
   "id": "07f21d7a",
   "metadata": {},
   "outputs": [],
   "source": [
    "scaler = preprocessing.StandardScaler().fit(X_train)\n",
    "X_train_scaled = scaler.transform(X_train)\n",
    "# Use same scaler obtained from training sample because test data are supposed to be completely unknown\n",
    "X_test_scaled = scaler.transform(X_test)\n",
    "X_val_scaled = scaler.transform(X_val)"
   ]
  },
  {
   "cell_type": "code",
   "execution_count": 28,
   "id": "3c2a642f",
   "metadata": {},
   "outputs": [
    {
     "name": "stderr",
     "output_type": "stream",
     "text": [
      "[Parallel(n_jobs=7)]: Using backend ThreadingBackend with 7 concurrent workers.\n",
      "[Parallel(n_jobs=7)]: Done  36 tasks      | elapsed:    8.3s\n",
      "[Parallel(n_jobs=7)]: Done 100 out of 100 | elapsed:   20.7s finished\n"
     ]
    },
    {
     "data": {
      "text/plain": [
       "RandomForestClassifier(class_weight='balanced', max_depth=5, n_jobs=7,\n",
       "                       verbose=1)"
      ]
     },
     "execution_count": 28,
     "metadata": {},
     "output_type": "execute_result"
    }
   ],
   "source": [
    "forest = RandomForestClassifier(class_weight = 'balanced', n_jobs = 7, verbose = 1, max_depth = 5)\n",
    "forest.fit(X_train_scaled, y_train.values.ravel())"
   ]
  },
  {
   "cell_type": "code",
   "execution_count": 30,
   "id": "c4629028",
   "metadata": {},
   "outputs": [
    {
     "name": "stderr",
     "output_type": "stream",
     "text": [
      "[Parallel(n_jobs=7)]: Using backend ThreadingBackend with 7 concurrent workers.\n",
      "[Parallel(n_jobs=7)]: Done  36 tasks      | elapsed:    0.4s\n",
      "[Parallel(n_jobs=7)]: Done 100 out of 100 | elapsed:    1.2s finished\n"
     ]
    },
    {
     "name": "stdout",
     "output_type": "stream",
     "text": [
      "              precision    recall  f1-score   support\n",
      "\n",
      "       False       0.70      0.57      0.63    748881\n",
      "        True       0.44      0.58      0.50    432569\n",
      "\n",
      "    accuracy                           0.57   1181450\n",
      "   macro avg       0.57      0.57      0.56   1181450\n",
      "weighted avg       0.60      0.57      0.58   1181450\n",
      "\n"
     ]
    }
   ],
   "source": [
    "# See Train \n",
    "pred = forest.predict(X_train_scaled)\n",
    "print(classification_report(y_train.values.ravel(), pred))"
   ]
  },
  {
   "cell_type": "code",
   "execution_count": 31,
   "id": "a5b98925",
   "metadata": {
    "scrolled": true
   },
   "outputs": [
    {
     "name": "stderr",
     "output_type": "stream",
     "text": [
      "[Parallel(n_jobs=7)]: Using backend ThreadingBackend with 7 concurrent workers.\n",
      "[Parallel(n_jobs=7)]: Done  36 tasks      | elapsed:    0.1s\n",
      "[Parallel(n_jobs=7)]: Done 100 out of 100 | elapsed:    0.3s finished\n"
     ]
    },
    {
     "name": "stdout",
     "output_type": "stream",
     "text": [
      "              precision    recall  f1-score   support\n",
      "\n",
      "       False       0.70      0.57      0.63    248765\n",
      "        True       0.44      0.57      0.50    145052\n",
      "\n",
      "    accuracy                           0.57    393817\n",
      "   macro avg       0.57      0.57      0.56    393817\n",
      "weighted avg       0.60      0.57      0.58    393817\n",
      "\n"
     ]
    }
   ],
   "source": [
    "# See Test \n",
    "pred = forest.predict(X_test_scaled)\n",
    "print(classification_report(y_test.values.ravel(), pred))"
   ]
  },
  {
   "cell_type": "markdown",
   "id": "67954b5f",
   "metadata": {},
   "source": [
    "### Conclusion\n",
    "We are able to confirm that normalization is **not** helpful for random forest classifier"
   ]
  },
  {
   "cell_type": "markdown",
   "id": "4dd297cf",
   "metadata": {},
   "source": [
    "## Hyperparameter Tuning\n",
    "Since more tree does not typicaly leads to overfit, we decided to tune the other parameters, and then use more trees in the final model. We decided to optimize the following hyperparameters:\n",
    "1. Criterion\n",
    "2. Max depth of each tree\n",
    "3. Fraction of Samples used to generate each tree\n",
    "\n",
    "There exits other hyperparameters that we are not optimizing, because we believe they do not carry a large impact on the performance of the model"
   ]
  },
  {
   "cell_type": "code",
   "execution_count": 21,
   "id": "76635632",
   "metadata": {},
   "outputs": [
    {
     "name": "stdout",
     "output_type": "stream",
     "text": [
      "Fitting 3 folds for each of 24 candidates, totalling 72 fits\n"
     ]
    },
    {
     "data": {
      "text/plain": [
       "GridSearchCV(cv=3, estimator=RandomForestClassifier(class_weight='balanced'),\n",
       "             n_jobs=7,\n",
       "             param_grid=[{'criterion': ['gini', 'entropy'],\n",
       "                          'max_depth': [5, 10, 50, 100],\n",
       "                          'max_samples': [0.3, 0.5, 0.8]}],\n",
       "             scoring='f1_weighted', verbose=3)"
      ]
     },
     "execution_count": 21,
     "metadata": {},
     "output_type": "execute_result"
    }
   ],
   "source": [
    "parameters =  [{'criterion': ['gini','entropy'], 'max_depth': [5, 10, 50, 100], 'max_samples' : [0.3, 0.5, 0.8]}]\n",
    "clf = GridSearchCV(RandomForestClassifier(class_weight = 'balanced'), parameters, scoring='f1_weighted', n_jobs = 7, verbose = 3, cv = 3)\n",
    "clf.fit(X_train, y_train.values.ravel())"
   ]
  },
  {
   "cell_type": "code",
   "execution_count": 22,
   "id": "5f42479b",
   "metadata": {
    "scrolled": true
   },
   "outputs": [
    {
     "name": "stdout",
     "output_type": "stream",
     "text": [
      "{'criterion': 'entropy', 'max_depth': 50, 'max_samples': 0.5}\n"
     ]
    }
   ],
   "source": [
    "print(clf.best_params_)"
   ]
  },
  {
   "cell_type": "markdown",
   "id": "ee3960a4",
   "metadata": {},
   "source": [
    "### Result\n"
   ]
  },
  {
   "cell_type": "markdown",
   "id": "35053db9",
   "metadata": {},
   "source": [
    "## Final Model\n",
    "Our final RandomForest model has the following parameters:\n",
    "1. balanced data\n",
    "2. unnormalized features\n"
   ]
  },
  {
   "cell_type": "code",
   "execution_count": 15,
   "id": "74feb9cd",
   "metadata": {},
   "outputs": [
    {
     "name": "stderr",
     "output_type": "stream",
     "text": [
      "[Parallel(n_jobs=7)]: Using backend ThreadingBackend with 7 concurrent workers.\n",
      "[Parallel(n_jobs=7)]: Done  36 tasks      | elapsed:   19.7s\n",
      "[Parallel(n_jobs=7)]: Done 100 out of 100 | elapsed:   48.8s finished\n"
     ]
    },
    {
     "data": {
      "text/plain": [
       "RandomForestClassifier(criterion='entropy', max_depth=50, max_samples=0.5,\n",
       "                       n_jobs=7, verbose=1)"
      ]
     },
     "execution_count": 15,
     "metadata": {},
     "output_type": "execute_result"
    }
   ],
   "source": [
    "forest_final = RandomForestClassifier(criterion = 'entropy', n_jobs = 7, max_depth = 50, max_samples = 0.5, n_estimators = 100, verbose = 1)\n",
    "forest_final.fit(X_train, y_train.values.ravel())\n"
   ]
  },
  {
   "cell_type": "code",
   "execution_count": 16,
   "id": "6c3d0753",
   "metadata": {},
   "outputs": [
    {
     "name": "stderr",
     "output_type": "stream",
     "text": [
      "[Parallel(n_jobs=7)]: Using backend ThreadingBackend with 7 concurrent workers.\n",
      "[Parallel(n_jobs=7)]: Done  36 tasks      | elapsed:    5.1s\n",
      "[Parallel(n_jobs=7)]: Done 100 out of 100 | elapsed:   12.9s finished\n"
     ]
    },
    {
     "name": "stdout",
     "output_type": "stream",
     "text": [
      "              precision    recall  f1-score   support\n",
      "\n",
      "       False       0.93      0.99      0.96    748417\n",
      "        True       0.98      0.88      0.92    433033\n",
      "\n",
      "    accuracy                           0.95   1181450\n",
      "   macro avg       0.95      0.93      0.94   1181450\n",
      "weighted avg       0.95      0.95      0.95   1181450\n",
      "\n"
     ]
    }
   ],
   "source": [
    "# See Train \n",
    "pred = forest_final.predict(X_train)\n",
    "print(classification_report(y_train.values.ravel(), pred))"
   ]
  },
  {
   "cell_type": "code",
   "execution_count": 17,
   "id": "556144ad",
   "metadata": {
    "scrolled": true
   },
   "outputs": [
    {
     "name": "stderr",
     "output_type": "stream",
     "text": [
      "[Parallel(n_jobs=7)]: Using backend ThreadingBackend with 7 concurrent workers.\n",
      "[Parallel(n_jobs=7)]: Done  36 tasks      | elapsed:    1.6s\n",
      "[Parallel(n_jobs=7)]: Done 100 out of 100 | elapsed:    4.2s finished\n"
     ]
    },
    {
     "name": "stdout",
     "output_type": "stream",
     "text": [
      "              precision    recall  f1-score   support\n",
      "\n",
      "       False       0.70      0.84      0.76    249059\n",
      "        True       0.57      0.38      0.46    144758\n",
      "\n",
      "    accuracy                           0.67    393817\n",
      "   macro avg       0.64      0.61      0.61    393817\n",
      "weighted avg       0.65      0.67      0.65    393817\n",
      "\n"
     ]
    }
   ],
   "source": [
    "# See Test \n",
    "pred = forest_final.predict(X_test)\n",
    "print(classification_report(y_test.values.ravel(), pred))"
   ]
  },
  {
   "cell_type": "code",
   "execution_count": 18,
   "id": "9b309eba",
   "metadata": {},
   "outputs": [
    {
     "data": {
      "image/png": "[encoded data removed]",
      "text/plain": [
       "<Figure size 720x720 with 1 Axes>"
      ]
     },
     "metadata": {
      "needs_background": "light"
     },
     "output_type": "display_data"
    }
   ],
   "source": [
    "feature_names = X_train.columns.values\n",
    "plot_feature_importances(forest_final, feature_names, top_n=20, title = 'Feature Importance for Random Forest')"
   ]
  },
  {
   "cell_type": "code",
   "execution_count": null,
   "id": "1e500c39",
   "metadata": {},
   "outputs": [],
   "source": []
  }
 ],
 "metadata": {
  "kernelspec": {
   "display_name": "Python 3 (ipykernel)",
   "language": "python",
   "name": "python3"
  },
  "language_info": {
   "codemirror_mode": {
    "name": "ipython",
    "version": 3
   },
   "file_extension": ".py",
   "mimetype": "text/x-python",
   "name": "python",
   "nbconvert_exporter": "python",
   "pygments_lexer": "ipython3",
   "version": "3.8.12"
  }
 },
 "nbformat": 4,
 "nbformat_minor": 5
}
