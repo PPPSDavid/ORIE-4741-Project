{
 "cells": [
  {
   "cell_type": "code",
   "execution_count": 2,
   "id": "ced72fcb",
   "metadata": {},
   "outputs": [],
   "source": [
    "# LT: Exclude DepDelay\n",
    "# ST: Include DepDelay\n",
    "# Classification: Predict if arrdelay > 0\n",
    "\n",
    "# Import Necessary Package here\n",
    "import pandas as pd\n",
    "import numpy as np\n",
    "from sklearn.model_selection import train_test_split, GridSearchCV\n",
    "from sklearn.metrics import accuracy_score, confusion_matrix, classification_report, plot_confusion_matrix\n",
    "from sklearn import metrics\n",
    "from sklearn import preprocessing\n",
    "import gc\n",
    "\n",
    "# Models\n",
    "from sklearn.linear_model import LogisticRegression\n",
    "from sklearn.tree import DecisionTreeClassifier\n",
    "from sklearn.ensemble import  RandomForestClassifier, GradientBoostingClassifier, AdaBoostClassifier\n",
    "from xgboost import XGBClassifier, plot_importance\n",
    "\n",
    "import matplotlib.pyplot as plt# Data Import"
   ]
  },
  {
   "cell_type": "markdown",
   "id": "bdc78d7e",
   "metadata": {},
   "source": [
    "# Data Import"
   ]
  },
  {
   "cell_type": "code",
   "execution_count": 3,
   "id": "8b2794fb",
   "metadata": {},
   "outputs": [
    {
     "data": {
      "text/plain": [
       "Index(['Year', 'Month', 'DayofMonth', 'Origin', 'OriginCityName',\n",
       "       'OriginState', 'Dest', 'DestCityName', 'DestState', 'DepDelay',\n",
       "       'ArrDelay', 'CRSElapsedTime', 'Distance', 'Severe-Cold_Severity',\n",
       "       'Fog_Severity', 'Hail_Severity', 'Rain_Severity', 'Snow_Severity',\n",
       "       'Storm_Severity', 'Other Precipitation_Severity', 'CRSDep_afternoon',\n",
       "       'CRSDep_midnight', 'CRSDep_morning', 'CRSDep_night', 'CRSArr_afternoon',\n",
       "       'CRSArr_midnight', 'CRSArr_morning', 'CRSArr_night', 'Q1', 'Q2', 'Q3',\n",
       "       'Q4', 'Mon', 'Tue', 'Wed', 'Thu', 'Fri', 'Sat', 'Sun', 'Airline_9E',\n",
       "       'Airline_AA', 'Airline_AS', 'Airline_B6', 'Airline_DL', 'Airline_EV',\n",
       "       'Airline_F9', 'Airline_G4', 'Airline_MQ', 'Airline_NK', 'Airline_OH',\n",
       "       'Airline_OO', 'Airline_UA', 'Airline_VX', 'Airline_WN', 'Airline_YV',\n",
       "       'Airline_YX', 'Origin_Lat', 'Origin_Long'],\n",
       "      dtype='object')"
      ]
     },
     "execution_count": 3,
     "metadata": {},
     "output_type": "execute_result"
    }
   ],
   "source": [
    "# Load CSV \n",
    "df = pd.read_csv(r\"C:\\Users\\19665\\Documents\\ORIE-4741-Project\\2016_to_2020_flight_feature_eng_w_Origin_Lat_Long.csv\")\n",
    "df = df.drop('Unnamed: 0', axis = 1)\n",
    "df.columns"
   ]
  },
  {
   "cell_type": "code",
   "execution_count": null,
   "id": "f337bdf9",
   "metadata": {},
   "outputs": [],
   "source": []
  }
 ],
 "metadata": {
  "kernelspec": {
   "display_name": "Python 3 (ipykernel)",
   "language": "python",
   "name": "python3"
  },
  "language_info": {
   "codemirror_mode": {
    "name": "ipython",
    "version": 3
   },
   "file_extension": ".py",
   "mimetype": "text/x-python",
   "name": "python",
   "nbconvert_exporter": "python",
   "pygments_lexer": "ipython3",
   "version": "3.8.12"
  }
 },
 "nbformat": 4,
 "nbformat_minor": 5
}
