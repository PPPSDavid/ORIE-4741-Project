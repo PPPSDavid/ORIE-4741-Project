{
 "cells": [
  {
   "cell_type": "code",
   "execution_count": 1,
   "id": "7f33d40a",
   "metadata": {},
   "outputs": [],
   "source": [
    "import csv\n",
    "import pandas as pd\n",
    "import warnings\n",
    "warnings.filterwarnings(\"ignore\")\n",
    "import datetime\n",
    "import numpy as np"
   ]
  },
  {
   "cell_type": "code",
   "execution_count": 2,
   "id": "f1eb895c",
   "metadata": {},
   "outputs": [],
   "source": [
    "data = pd.read_csv(r\"2016_to_2020_flight_reduced_columns_with_weather_top_10.csv\", index_col = False)\n",
    "data = data.drop('Unnamed: 0', axis = 1)"
   ]
  },
  {
   "cell_type": "code",
   "execution_count": 3,
   "id": "d688619d",
   "metadata": {},
   "outputs": [
    {
     "data": {
      "text/plain": [
       "Index(['Year', 'Quarter', 'Month', 'DayofMonth', 'DayOfWeek', 'FlightDate',\n",
       "       'Reporting_Airline', 'DOT_ID_Reporting_Airline',\n",
       "       'Flight_Number_Reporting_Airline', 'Origin', 'OriginCityName',\n",
       "       'OriginState', 'Dest', 'DestCityName', 'DestState', 'CRSDepTime',\n",
       "       'DepTime', 'DepDelay', 'TaxiOut', 'WheelsOff', 'WheelsOn', 'TaxiIn',\n",
       "       'CRSArrTime', 'ArrTime', 'ArrDelay', 'CRSElapsedTime', 'Cancelled',\n",
       "       'CancellationCode', 'Diverted', 'Flights', 'Distance', 'DivArrDelay',\n",
       "       'DivActualElapsedTime', 'DepTimeLocal', 'DepTimeUTC', 'Severe-Cold',\n",
       "       'Fog', 'Hail', 'Rain', 'Snow', 'Storm', 'Other Precipitation',\n",
       "       'Severe-Cold_Severity', 'Fog_Severity', 'Hail_Severity',\n",
       "       'Rain_Severity', 'Snow_Severity', 'Storm_Severity',\n",
       "       'Other Precipitation_Severity'],\n",
       "      dtype='object')"
      ]
     },
     "execution_count": 3,
     "metadata": {},
     "output_type": "execute_result"
    }
   ],
   "source": [
    "data.columns"
   ]
  },
  {
   "cell_type": "code",
   "execution_count": 4,
   "id": "05bb30ea",
   "metadata": {},
   "outputs": [
    {
     "data": {
      "text/html": [
       "<div>\n",
       "<style scoped>\n",
       "    .dataframe tbody tr th:only-of-type {\n",
       "        vertical-align: middle;\n",
       "    }\n",
       "\n",
       "    .dataframe tbody tr th {\n",
       "        vertical-align: top;\n",
       "    }\n",
       "\n",
       "    .dataframe thead th {\n",
       "        text-align: right;\n",
       "    }\n",
       "</style>\n",
       "<table border=\"1\" class=\"dataframe\">\n",
       "  <thead>\n",
       "    <tr style=\"text-align: right;\">\n",
       "      <th></th>\n",
       "      <th>Year</th>\n",
       "      <th>Quarter</th>\n",
       "      <th>Month</th>\n",
       "      <th>DayofMonth</th>\n",
       "      <th>DayOfWeek</th>\n",
       "      <th>FlightDate</th>\n",
       "      <th>Reporting_Airline</th>\n",
       "      <th>DOT_ID_Reporting_Airline</th>\n",
       "      <th>Flight_Number_Reporting_Airline</th>\n",
       "      <th>Origin</th>\n",
       "      <th>...</th>\n",
       "      <th>Snow</th>\n",
       "      <th>Storm</th>\n",
       "      <th>Other Precipitation</th>\n",
       "      <th>Severe-Cold_Severity</th>\n",
       "      <th>Fog_Severity</th>\n",
       "      <th>Hail_Severity</th>\n",
       "      <th>Rain_Severity</th>\n",
       "      <th>Snow_Severity</th>\n",
       "      <th>Storm_Severity</th>\n",
       "      <th>Other Precipitation_Severity</th>\n",
       "    </tr>\n",
       "  </thead>\n",
       "  <tbody>\n",
       "    <tr>\n",
       "      <th>0</th>\n",
       "      <td>2016</td>\n",
       "      <td>1</td>\n",
       "      <td>1</td>\n",
       "      <td>6</td>\n",
       "      <td>3</td>\n",
       "      <td>2016-01-06</td>\n",
       "      <td>AA</td>\n",
       "      <td>19805</td>\n",
       "      <td>43</td>\n",
       "      <td>DFW</td>\n",
       "      <td>...</td>\n",
       "      <td>False</td>\n",
       "      <td>False</td>\n",
       "      <td>False</td>\n",
       "      <td>NaN</td>\n",
       "      <td>NaN</td>\n",
       "      <td>NaN</td>\n",
       "      <td>NaN</td>\n",
       "      <td>NaN</td>\n",
       "      <td>NaN</td>\n",
       "      <td>NaN</td>\n",
       "    </tr>\n",
       "    <tr>\n",
       "      <th>1</th>\n",
       "      <td>2016</td>\n",
       "      <td>1</td>\n",
       "      <td>1</td>\n",
       "      <td>7</td>\n",
       "      <td>4</td>\n",
       "      <td>2016-01-07</td>\n",
       "      <td>AA</td>\n",
       "      <td>19805</td>\n",
       "      <td>43</td>\n",
       "      <td>DFW</td>\n",
       "      <td>...</td>\n",
       "      <td>False</td>\n",
       "      <td>False</td>\n",
       "      <td>False</td>\n",
       "      <td>NaN</td>\n",
       "      <td>NaN</td>\n",
       "      <td>NaN</td>\n",
       "      <td>NaN</td>\n",
       "      <td>NaN</td>\n",
       "      <td>NaN</td>\n",
       "      <td>NaN</td>\n",
       "    </tr>\n",
       "    <tr>\n",
       "      <th>2</th>\n",
       "      <td>2016</td>\n",
       "      <td>1</td>\n",
       "      <td>1</td>\n",
       "      <td>8</td>\n",
       "      <td>5</td>\n",
       "      <td>2016-01-08</td>\n",
       "      <td>AA</td>\n",
       "      <td>19805</td>\n",
       "      <td>43</td>\n",
       "      <td>DFW</td>\n",
       "      <td>...</td>\n",
       "      <td>False</td>\n",
       "      <td>False</td>\n",
       "      <td>False</td>\n",
       "      <td>NaN</td>\n",
       "      <td>NaN</td>\n",
       "      <td>NaN</td>\n",
       "      <td>NaN</td>\n",
       "      <td>NaN</td>\n",
       "      <td>NaN</td>\n",
       "      <td>NaN</td>\n",
       "    </tr>\n",
       "    <tr>\n",
       "      <th>3</th>\n",
       "      <td>2016</td>\n",
       "      <td>1</td>\n",
       "      <td>1</td>\n",
       "      <td>9</td>\n",
       "      <td>6</td>\n",
       "      <td>2016-01-09</td>\n",
       "      <td>AA</td>\n",
       "      <td>19805</td>\n",
       "      <td>43</td>\n",
       "      <td>DFW</td>\n",
       "      <td>...</td>\n",
       "      <td>False</td>\n",
       "      <td>False</td>\n",
       "      <td>False</td>\n",
       "      <td>NaN</td>\n",
       "      <td>NaN</td>\n",
       "      <td>NaN</td>\n",
       "      <td>NaN</td>\n",
       "      <td>NaN</td>\n",
       "      <td>NaN</td>\n",
       "      <td>NaN</td>\n",
       "    </tr>\n",
       "    <tr>\n",
       "      <th>4</th>\n",
       "      <td>2016</td>\n",
       "      <td>1</td>\n",
       "      <td>1</td>\n",
       "      <td>10</td>\n",
       "      <td>7</td>\n",
       "      <td>2016-01-10</td>\n",
       "      <td>AA</td>\n",
       "      <td>19805</td>\n",
       "      <td>43</td>\n",
       "      <td>DFW</td>\n",
       "      <td>...</td>\n",
       "      <td>False</td>\n",
       "      <td>False</td>\n",
       "      <td>False</td>\n",
       "      <td>NaN</td>\n",
       "      <td>NaN</td>\n",
       "      <td>NaN</td>\n",
       "      <td>NaN</td>\n",
       "      <td>NaN</td>\n",
       "      <td>NaN</td>\n",
       "      <td>NaN</td>\n",
       "    </tr>\n",
       "    <tr>\n",
       "      <th>5</th>\n",
       "      <td>2016</td>\n",
       "      <td>1</td>\n",
       "      <td>1</td>\n",
       "      <td>11</td>\n",
       "      <td>1</td>\n",
       "      <td>2016-01-11</td>\n",
       "      <td>AA</td>\n",
       "      <td>19805</td>\n",
       "      <td>43</td>\n",
       "      <td>DFW</td>\n",
       "      <td>...</td>\n",
       "      <td>False</td>\n",
       "      <td>False</td>\n",
       "      <td>False</td>\n",
       "      <td>NaN</td>\n",
       "      <td>NaN</td>\n",
       "      <td>NaN</td>\n",
       "      <td>NaN</td>\n",
       "      <td>NaN</td>\n",
       "      <td>NaN</td>\n",
       "      <td>NaN</td>\n",
       "    </tr>\n",
       "    <tr>\n",
       "      <th>6</th>\n",
       "      <td>2016</td>\n",
       "      <td>1</td>\n",
       "      <td>1</td>\n",
       "      <td>12</td>\n",
       "      <td>2</td>\n",
       "      <td>2016-01-12</td>\n",
       "      <td>AA</td>\n",
       "      <td>19805</td>\n",
       "      <td>43</td>\n",
       "      <td>DFW</td>\n",
       "      <td>...</td>\n",
       "      <td>False</td>\n",
       "      <td>False</td>\n",
       "      <td>False</td>\n",
       "      <td>NaN</td>\n",
       "      <td>NaN</td>\n",
       "      <td>NaN</td>\n",
       "      <td>NaN</td>\n",
       "      <td>NaN</td>\n",
       "      <td>NaN</td>\n",
       "      <td>NaN</td>\n",
       "    </tr>\n",
       "    <tr>\n",
       "      <th>7</th>\n",
       "      <td>2016</td>\n",
       "      <td>1</td>\n",
       "      <td>1</td>\n",
       "      <td>13</td>\n",
       "      <td>3</td>\n",
       "      <td>2016-01-13</td>\n",
       "      <td>AA</td>\n",
       "      <td>19805</td>\n",
       "      <td>43</td>\n",
       "      <td>DFW</td>\n",
       "      <td>...</td>\n",
       "      <td>False</td>\n",
       "      <td>False</td>\n",
       "      <td>False</td>\n",
       "      <td>NaN</td>\n",
       "      <td>NaN</td>\n",
       "      <td>NaN</td>\n",
       "      <td>NaN</td>\n",
       "      <td>NaN</td>\n",
       "      <td>NaN</td>\n",
       "      <td>NaN</td>\n",
       "    </tr>\n",
       "    <tr>\n",
       "      <th>8</th>\n",
       "      <td>2016</td>\n",
       "      <td>1</td>\n",
       "      <td>1</td>\n",
       "      <td>14</td>\n",
       "      <td>4</td>\n",
       "      <td>2016-01-14</td>\n",
       "      <td>AA</td>\n",
       "      <td>19805</td>\n",
       "      <td>43</td>\n",
       "      <td>DFW</td>\n",
       "      <td>...</td>\n",
       "      <td>False</td>\n",
       "      <td>False</td>\n",
       "      <td>False</td>\n",
       "      <td>NaN</td>\n",
       "      <td>NaN</td>\n",
       "      <td>NaN</td>\n",
       "      <td>NaN</td>\n",
       "      <td>NaN</td>\n",
       "      <td>NaN</td>\n",
       "      <td>NaN</td>\n",
       "    </tr>\n",
       "    <tr>\n",
       "      <th>9</th>\n",
       "      <td>2016</td>\n",
       "      <td>1</td>\n",
       "      <td>1</td>\n",
       "      <td>15</td>\n",
       "      <td>5</td>\n",
       "      <td>2016-01-15</td>\n",
       "      <td>AA</td>\n",
       "      <td>19805</td>\n",
       "      <td>43</td>\n",
       "      <td>DFW</td>\n",
       "      <td>...</td>\n",
       "      <td>False</td>\n",
       "      <td>False</td>\n",
       "      <td>False</td>\n",
       "      <td>NaN</td>\n",
       "      <td>NaN</td>\n",
       "      <td>NaN</td>\n",
       "      <td>NaN</td>\n",
       "      <td>NaN</td>\n",
       "      <td>NaN</td>\n",
       "      <td>NaN</td>\n",
       "    </tr>\n",
       "  </tbody>\n",
       "</table>\n",
       "<p>10 rows × 49 columns</p>\n",
       "</div>"
      ],
      "text/plain": [
       "   Year  Quarter  Month  DayofMonth  DayOfWeek  FlightDate Reporting_Airline  \\\n",
       "0  2016        1      1           6          3  2016-01-06                AA   \n",
       "1  2016        1      1           7          4  2016-01-07                AA   \n",
       "2  2016        1      1           8          5  2016-01-08                AA   \n",
       "3  2016        1      1           9          6  2016-01-09                AA   \n",
       "4  2016        1      1          10          7  2016-01-10                AA   \n",
       "5  2016        1      1          11          1  2016-01-11                AA   \n",
       "6  2016        1      1          12          2  2016-01-12                AA   \n",
       "7  2016        1      1          13          3  2016-01-13                AA   \n",
       "8  2016        1      1          14          4  2016-01-14                AA   \n",
       "9  2016        1      1          15          5  2016-01-15                AA   \n",
       "\n",
       "   DOT_ID_Reporting_Airline  Flight_Number_Reporting_Airline Origin  ...  \\\n",
       "0                     19805                               43    DFW  ...   \n",
       "1                     19805                               43    DFW  ...   \n",
       "2                     19805                               43    DFW  ...   \n",
       "3                     19805                               43    DFW  ...   \n",
       "4                     19805                               43    DFW  ...   \n",
       "5                     19805                               43    DFW  ...   \n",
       "6                     19805                               43    DFW  ...   \n",
       "7                     19805                               43    DFW  ...   \n",
       "8                     19805                               43    DFW  ...   \n",
       "9                     19805                               43    DFW  ...   \n",
       "\n",
       "    Snow  Storm Other Precipitation Severe-Cold_Severity Fog_Severity  \\\n",
       "0  False  False               False                  NaN          NaN   \n",
       "1  False  False               False                  NaN          NaN   \n",
       "2  False  False               False                  NaN          NaN   \n",
       "3  False  False               False                  NaN          NaN   \n",
       "4  False  False               False                  NaN          NaN   \n",
       "5  False  False               False                  NaN          NaN   \n",
       "6  False  False               False                  NaN          NaN   \n",
       "7  False  False               False                  NaN          NaN   \n",
       "8  False  False               False                  NaN          NaN   \n",
       "9  False  False               False                  NaN          NaN   \n",
       "\n",
       "   Hail_Severity  Rain_Severity  Snow_Severity  Storm_Severity  \\\n",
       "0            NaN            NaN            NaN             NaN   \n",
       "1            NaN            NaN            NaN             NaN   \n",
       "2            NaN            NaN            NaN             NaN   \n",
       "3            NaN            NaN            NaN             NaN   \n",
       "4            NaN            NaN            NaN             NaN   \n",
       "5            NaN            NaN            NaN             NaN   \n",
       "6            NaN            NaN            NaN             NaN   \n",
       "7            NaN            NaN            NaN             NaN   \n",
       "8            NaN            NaN            NaN             NaN   \n",
       "9            NaN            NaN            NaN             NaN   \n",
       "\n",
       "   Other Precipitation_Severity  \n",
       "0                           NaN  \n",
       "1                           NaN  \n",
       "2                           NaN  \n",
       "3                           NaN  \n",
       "4                           NaN  \n",
       "5                           NaN  \n",
       "6                           NaN  \n",
       "7                           NaN  \n",
       "8                           NaN  \n",
       "9                           NaN  \n",
       "\n",
       "[10 rows x 49 columns]"
      ]
     },
     "execution_count": 4,
     "metadata": {},
     "output_type": "execute_result"
    }
   ],
   "source": [
    "data.head(10)"
   ]
  },
  {
   "cell_type": "markdown",
   "id": "cfa603df",
   "metadata": {},
   "source": [
    "## Missing/Corrupted Data"
   ]
  },
  {
   "cell_type": "code",
   "execution_count": 281,
   "id": "3b17bec5",
   "metadata": {},
   "outputs": [],
   "source": [
    "# Remove cancelled flights\n",
    "df = data[data.Cancelled == 0]\n",
    "df.drop(columns = ['Cancelled'], inplace = True)"
   ]
  },
  {
   "cell_type": "code",
   "execution_count": 282,
   "id": "8f557b7a",
   "metadata": {},
   "outputs": [],
   "source": [
    "# Remove data without ArrTime\n",
    "df = df[~df.ArrTime.isnull()]\n",
    "# Reset index\n",
    "df.reset_index(inplace = True, drop = True)\n",
    "# Drop column CancellationCode, Flights\n",
    "# Reporting_Airline and DOT_ID_Reporting_Airline the same info, keep DOT_ID_Reporting_Airline\n",
    "df.drop(columns = ['CancellationCode','Flights'], inplace = True)"
   ]
  },
  {
   "cell_type": "code",
   "execution_count": 283,
   "id": "57fca410",
   "metadata": {},
   "outputs": [],
   "source": [
    "missing_stats = df.isnull().sum()\n",
    "missing_stats = missing_stats[missing_stats != 0]"
   ]
  },
  {
   "cell_type": "code",
   "execution_count": 284,
   "id": "3149e7d8",
   "metadata": {},
   "outputs": [
    {
     "data": {
      "text/plain": [
       "DepDelay                            718\n",
       "ArrDelay                          17900\n",
       "DivArrDelay                     8971241\n",
       "DivActualElapsedTime            8971241\n",
       "Severe-Cold_Severity            8988665\n",
       "Fog_Severity                    8785533\n",
       "Hail_Severity                   8988192\n",
       "Rain_Severity                   8485812\n",
       "Snow_Severity                   8906459\n",
       "Storm_Severity                  8987375\n",
       "Other Precipitation_Severity    8988665\n",
       "dtype: int64"
      ]
     },
     "execution_count": 284,
     "metadata": {},
     "output_type": "execute_result"
    }
   ],
   "source": [
    "missing_stats"
   ]
  },
  {
   "cell_type": "code",
   "execution_count": 285,
   "id": "ed0f2254",
   "metadata": {},
   "outputs": [],
   "source": [
    "# Fill DepDelay null with 0\n",
    "df.DepDelay.fillna(0,inplace=True)"
   ]
  },
  {
   "cell_type": "code",
   "execution_count": 286,
   "id": "509910f9",
   "metadata": {},
   "outputs": [],
   "source": [
    "df2 = df[(df.Diverted == 0) & (np.isnan(df.ArrDelay))]\n",
    "df2['ArrDelay'].fillna(0, inplace = True)\n",
    "df[(df.Diverted == 0) & (np.isnan(df.ArrDelay))] = df2"
   ]
  },
  {
   "cell_type": "code",
   "execution_count": 287,
   "id": "73cfb466",
   "metadata": {},
   "outputs": [],
   "source": [
    "diverted = df[df.Diverted == 1]\n",
    "def fill_arrDelay_for_diverted(x):\n",
    "    x['ArrDelay'] = x['DivArrDelay']\n",
    "    return x\n",
    "diverted = diverted.apply(fill_arrDelay_for_diverted, axis = 1)\n",
    "df[df['ArrDelay'].isnull()] = diverted\n",
    "df.drop(columns = ['DivArrDelay','DivActualElapsedTime','Diverted'],inplace = True)"
   ]
  },
  {
   "cell_type": "code",
   "execution_count": 288,
   "id": "bdfc0bdf",
   "metadata": {},
   "outputs": [
    {
     "data": {
      "text/plain": [
       "Severe-Cold_Severity            8988665\n",
       "Fog_Severity                    8785533\n",
       "Hail_Severity                   8988192\n",
       "Rain_Severity                   8485812\n",
       "Snow_Severity                   8906459\n",
       "Storm_Severity                  8987375\n",
       "Other Precipitation_Severity    8988665\n",
       "dtype: int64"
      ]
     },
     "execution_count": 288,
     "metadata": {},
     "output_type": "execute_result"
    }
   ],
   "source": [
    "missing_stats = df.isnull().sum()\n",
    "missing_stats = missing_stats[missing_stats != 0]\n",
    "missing_stats"
   ]
  },
  {
   "cell_type": "code",
   "execution_count": 289,
   "id": "b481efeb",
   "metadata": {},
   "outputs": [],
   "source": [
    "# Fill DivArrDelay with 0\n",
    "# df.DivArrDelay.fillna(0,inplace=True)\n",
    "# Fill DivActualElapsedTime with 0\n",
    "# df.DivActualElapsedTime.fillna(0,inplace=True)\n",
    "#Concatenating Reporting_Airline with Flight_Number_Reporting_Airline to form flight number\n",
    "# df.Flight_Number_Reporting_Airline = df.Reporting_Airline.astype(str) + df.Flight_Number_Reporting_Airline.astype(str)\n",
    "# df.drop(columns = ['Reporting_Airline'], inplace = True)\n",
    "# # Change dtype of FlightDate into datetime.date\n",
    "# df['FlightDate'] = df['FlightDate'].apply(lambda x: datetime.date.fromisoformat(x))"
   ]
  },
  {
   "cell_type": "code",
   "execution_count": null,
   "id": "fd3c3552",
   "metadata": {},
   "outputs": [],
   "source": []
  },
  {
   "cell_type": "code",
   "execution_count": 290,
   "id": "cbc50d90",
   "metadata": {},
   "outputs": [],
   "source": [
    "# Parse CRSDepTime, DepTime, WheelsOff, WheelsOn, CRSArrTime, ArrTime into datetime\n",
    "# for col in ['CRSDepTime', 'DepTime', 'WheelsOff', 'WheelsOn', 'CRSArrTime', 'ArrTime']:\n",
    "#     df[col] = df[col].apply(lambda x: parse_int_to_time(x))"
   ]
  },
  {
   "cell_type": "code",
   "execution_count": 257,
   "id": "9cf7a0d1",
   "metadata": {},
   "outputs": [],
   "source": [
    "def fill_ArrDelay(x):\n",
    "    if np.isnan(x['ArrDelay']):\n",
    "        start_time = x['CRSArrTime']\n",
    "        stop_time = x['ArrTime']\n",
    "        date = datetime.date(1, 1, 1)\n",
    "        datetime1 = datetime.datetime.combine(date, start_time)\n",
    "        datetime2 = datetime.datetime.combine(date, stop_time)\n",
    "        time_elapsed = datetime1 - datetime2\n",
    "        x['ArrDelay'] = time_elapsed.seconds//60\n",
    "        return x"
   ]
  },
  {
   "cell_type": "markdown",
   "id": "1c0ddeb3",
   "metadata": {},
   "source": [
    "## Feature engineering & Encoding"
   ]
  },
  {
   "cell_type": "markdown",
   "id": "6ac18d5a",
   "metadata": {},
   "source": [
    "### Weather"
   ]
  },
  {
   "cell_type": "code",
   "execution_count": 291,
   "id": "354586da",
   "metadata": {},
   "outputs": [],
   "source": [
    "def weather_real_encoding(sev):\n",
    "    \"\"\" Convert severity into real_encoding, from light 1 to severe 4\n",
    "    nan as 0\n",
    "    \"\"\"\n",
    "    if sev == 'Light':\n",
    "        return 1\n",
    "    elif sev == 'Moderate':\n",
    "        return 2\n",
    "    elif sev == 'Heavy':\n",
    "        return 3\n",
    "    elif sev == 'Severe':\n",
    "        return 4\n",
    "    else:\n",
    "        return 0"
   ]
  },
  {
   "cell_type": "code",
   "execution_count": 292,
   "id": "2936a009",
   "metadata": {},
   "outputs": [],
   "source": [
    "# real_encoding for weather severity\n",
    "for col in ['Severe-Cold_Severity','Fog_Severity','Hail_Severity','Rain_Severity',\n",
    "            'Snow_Severity','Storm_Severity','Other Precipitation_Severity']:\n",
    "    df[col] = df[col].apply(lambda x: weather_real_encoding(x))"
   ]
  },
  {
   "cell_type": "code",
   "execution_count": 293,
   "id": "b3b7cb44",
   "metadata": {},
   "outputs": [
    {
     "data": {
      "text/plain": [
       "Index(['Year', 'Quarter', 'Month', 'DayofMonth', 'DayOfWeek', 'FlightDate',\n",
       "       'Reporting_Airline', 'DOT_ID_Reporting_Airline',\n",
       "       'Flight_Number_Reporting_Airline', 'Origin', 'OriginCityName',\n",
       "       'OriginState', 'Dest', 'DestCityName', 'DestState', 'CRSDepTime',\n",
       "       'DepTime', 'DepDelay', 'TaxiOut', 'WheelsOff', 'WheelsOn', 'TaxiIn',\n",
       "       'CRSArrTime', 'ArrTime', 'ArrDelay', 'CRSElapsedTime', 'Distance',\n",
       "       'DepTimeLocal', 'DepTimeUTC', 'Severe-Cold_Severity', 'Fog_Severity',\n",
       "       'Hail_Severity', 'Rain_Severity', 'Snow_Severity', 'Storm_Severity',\n",
       "       'Other Precipitation_Severity'],\n",
       "      dtype='object')"
      ]
     },
     "execution_count": 293,
     "metadata": {},
     "output_type": "execute_result"
    }
   ],
   "source": [
    "# Drop weather columns\n",
    "weather_col = ['Severe-Cold', 'Fog', 'Hail', 'Rain','Snow', 'Storm', 'Other Precipitation']\n",
    "df.drop(columns = weather_col, inplace = True)\n",
    "df.columns"
   ]
  },
  {
   "cell_type": "markdown",
   "id": "2a384e35",
   "metadata": {},
   "source": [
    "### Time related"
   ]
  },
  {
   "cell_type": "code",
   "execution_count": 294,
   "id": "f92c8ec3",
   "metadata": {},
   "outputs": [],
   "source": [
    "def parse_int_to_time(num):\n",
    "    try:\n",
    "        num = int(num)\n",
    "        if num == 2400:\n",
    "            num = 2359\n",
    "        m = num%100\n",
    "        minute = m%60\n",
    "        h = num//100\n",
    "        return datetime.time(hour = h, minute = m)\n",
    "    except ValueError:\n",
    "        print(num)"
   ]
  },
  {
   "cell_type": "code",
   "execution_count": 295,
   "id": "28ee0d62",
   "metadata": {},
   "outputs": [],
   "source": [
    "#Parse CRSDepTime, CRSArrTime into datetime\n",
    "for col in ['CRSDepTime', 'CRSArrTime']:\n",
    "    df[col] = df[col].apply(lambda x: parse_int_to_time(x))"
   ]
  },
  {
   "cell_type": "code",
   "execution_count": 296,
   "id": "6675e345",
   "metadata": {},
   "outputs": [
    {
     "data": {
      "text/plain": [
       "Index(['Year', 'Quarter', 'Month', 'DayofMonth', 'DayOfWeek',\n",
       "       'Reporting_Airline', 'DOT_ID_Reporting_Airline',\n",
       "       'Flight_Number_Reporting_Airline', 'Origin', 'OriginCityName',\n",
       "       'OriginState', 'Dest', 'DestCityName', 'DestState', 'CRSDepTime',\n",
       "       'DepDelay', 'CRSArrTime', 'ArrDelay', 'CRSElapsedTime', 'Distance',\n",
       "       'Severe-Cold_Severity', 'Fog_Severity', 'Hail_Severity',\n",
       "       'Rain_Severity', 'Snow_Severity', 'Storm_Severity',\n",
       "       'Other Precipitation_Severity'],\n",
       "      dtype='object')"
      ]
     },
     "execution_count": 296,
     "metadata": {},
     "output_type": "execute_result"
    }
   ],
   "source": [
    "time_col = ['DepTime', 'ArrTime', 'TaxiOut', 'WheelsOff', 'WheelsOn', 'TaxiIn',\n",
    "            'DepTimeLocal','DepTimeUTC','FlightDate']\n",
    "df.drop(columns = time_col, inplace = True)\n",
    "df.columns"
   ]
  },
  {
   "cell_type": "code",
   "execution_count": 297,
   "id": "9ad786f3",
   "metadata": {},
   "outputs": [],
   "source": [
    "def time_cat_encoding(t):\n",
    "    \"\"\"Turns time into categorical with 4 values: morning, afternoon, night, midnight\n",
    "    \"\"\"\n",
    "    mor = datetime.time(6,0)\n",
    "    aft = datetime.time(12,0)\n",
    "    ni = datetime.time(18,0)\n",
    "    if t < mor:\n",
    "        return \"midnight\"\n",
    "    elif t < aft:\n",
    "        return \"morning\"\n",
    "    elif t < ni:\n",
    "        return \"afternoon\"\n",
    "    else:\n",
    "        return \"night\""
   ]
  },
  {
   "cell_type": "code",
   "execution_count": 298,
   "id": "a58fc28a",
   "metadata": {},
   "outputs": [],
   "source": [
    "df.CRSDepTime = df.CRSDepTime.apply(time_cat_encoding)\n",
    "df.CRSArrTime = df.CRSArrTime.apply(time_cat_encoding)"
   ]
  },
  {
   "cell_type": "code",
   "execution_count": 299,
   "id": "0faca8d1",
   "metadata": {},
   "outputs": [],
   "source": [
    "# Do one hot encoding for CRSDepTime and CRSArrTime\n",
    "one_hot_CRSDepTime = pd.get_dummies(df['CRSDepTime'])\n",
    "one_hot_CRSArrTime = pd.get_dummies(df['CRSArrTime'])\n",
    "one_hot_CRSDepTime.rename(columns = {'afternoon':'CRSDep_afternoon','midnight':'CRSDep_midnight',\n",
    "                                     'morning':'CRSDep_morning','night':'CRSDep_night'}, inplace = True)\n",
    "one_hot_CRSArrTime.rename(columns = {'afternoon':'CRSArr_afternoon','midnight':'CRSArr_midnight',\n",
    "                                     'morning':'CRSArr_morning','night':'CRSArr_night'}, inplace = True)\n",
    "df.drop(columns = ['CRSDepTime','CRSArrTime'], inplace = True)\n",
    "df = df.join(one_hot_CRSDepTime)\n",
    "df = df.join(one_hot_CRSArrTime)"
   ]
  },
  {
   "cell_type": "code",
   "execution_count": 300,
   "id": "ef8a649d",
   "metadata": {},
   "outputs": [
    {
     "data": {
      "text/plain": [
       "array([1, 4, 2, 3])"
      ]
     },
     "execution_count": 300,
     "metadata": {},
     "output_type": "execute_result"
    }
   ],
   "source": [
    "df.Quarter.unique()"
   ]
  },
  {
   "cell_type": "code",
   "execution_count": 301,
   "id": "056cf96c",
   "metadata": {},
   "outputs": [],
   "source": [
    "# do one-hot for Quarter & DayOfWeek\n",
    "one_hot_quarter = pd.get_dummies(df['Quarter'])\n",
    "one_hot_day = pd.get_dummies(df['DayOfWeek'])\n",
    "one_hot_quarter.rename(columns ={1:'Q1',2:'Q2',3:'Q3',4:'Q4'}, inplace = True)\n",
    "one_hot_day.rename(columns ={1:'Mon',2:'Tue',3:'Wed',4:'Thu',5:'Fri',6:'Sat',7:'Sun'}, inplace = True)\n",
    "df.drop(columns = ['Quarter','DayOfWeek'], inplace = True)\n",
    "df = df.join(one_hot_quarter)\n",
    "df = df.join(one_hot_day)"
   ]
  },
  {
   "cell_type": "code",
   "execution_count": 302,
   "id": "d37a2f06",
   "metadata": {},
   "outputs": [
    {
     "data": {
      "text/plain": [
       "Index(['Year', 'Month', 'DayofMonth', 'Reporting_Airline',\n",
       "       'DOT_ID_Reporting_Airline', 'Flight_Number_Reporting_Airline', 'Origin',\n",
       "       'OriginCityName', 'OriginState', 'Dest', 'DestCityName', 'DestState',\n",
       "       'DepDelay', 'ArrDelay', 'CRSElapsedTime', 'Distance',\n",
       "       'Severe-Cold_Severity', 'Fog_Severity', 'Hail_Severity',\n",
       "       'Rain_Severity', 'Snow_Severity', 'Storm_Severity',\n",
       "       'Other Precipitation_Severity', 'CRSDep_afternoon', 'CRSDep_midnight',\n",
       "       'CRSDep_morning', 'CRSDep_night', 'CRSArr_afternoon', 'CRSArr_midnight',\n",
       "       'CRSArr_morning', 'CRSArr_night', 'Q1', 'Q2', 'Q3', 'Q4', 'Mon', 'Tue',\n",
       "       'Wed', 'Thu', 'Fri', 'Sat', 'Sun'],\n",
       "      dtype='object')"
      ]
     },
     "execution_count": 302,
     "metadata": {},
     "output_type": "execute_result"
    }
   ],
   "source": [
    "df.columns"
   ]
  },
  {
   "cell_type": "markdown",
   "id": "6ef0e022",
   "metadata": {},
   "source": [
    "### Airline related"
   ]
  },
  {
   "cell_type": "code",
   "execution_count": 303,
   "id": "317de777",
   "metadata": {},
   "outputs": [],
   "source": [
    "airline_lst = list(df.Reporting_Airline.unique())\n",
    "airline_lst_rename = ['Airline_'+item for item in airline_lst]\n",
    "one_hot_airline = pd.get_dummies(df['Reporting_Airline'])\n",
    "for i in range(len(airline_lst)):\n",
    "    one_hot_airline.rename(columns = {airline_lst[i]:airline_lst_rename[i]},inplace = True)\n",
    "df.drop(columns = ['Reporting_Airline','DOT_ID_Reporting_Airline',\n",
    "                   'Flight_Number_Reporting_Airline'], inplace = True)\n",
    "df = df.join(one_hot_airline)"
   ]
  },
  {
   "cell_type": "markdown",
   "id": "8dcc9170",
   "metadata": {},
   "source": [
    "### location related"
   ]
  },
  {
   "cell_type": "code",
   "execution_count": 304,
   "id": "ab376186",
   "metadata": {},
   "outputs": [],
   "source": [
    "origin_lst = list(df.Origin.unique())\n",
    "origin_lst_rename = ['Origin_'+item for item in airline_lst]\n",
    "one_hot_origin = pd.get_dummies(df['Origin'])\n",
    "for i in range(len(origin_lst)):\n",
    "    one_hot_origin.rename(columns = {origin_lst[i]:origin_lst_rename[i]},inplace = True)\n",
    "df = df.join(one_hot_origin)\n",
    "df.drop(columns = ['Origin','OriginCityName','OriginState'], inplace = True)"
   ]
  },
  {
   "cell_type": "code",
   "execution_count": 305,
   "id": "20561670",
   "metadata": {},
   "outputs": [
    {
     "data": {
      "text/plain": [
       "Index(['Year', 'Month', 'DayofMonth', 'Dest', 'DestCityName', 'DestState',\n",
       "       'DepDelay', 'ArrDelay', 'CRSElapsedTime', 'Distance',\n",
       "       'Severe-Cold_Severity', 'Fog_Severity', 'Hail_Severity',\n",
       "       'Rain_Severity', 'Snow_Severity', 'Storm_Severity',\n",
       "       'Other Precipitation_Severity', 'CRSDep_afternoon', 'CRSDep_midnight',\n",
       "       'CRSDep_morning', 'CRSDep_night', 'CRSArr_afternoon', 'CRSArr_midnight',\n",
       "       'CRSArr_morning', 'CRSArr_night', 'Q1', 'Q2', 'Q3', 'Q4', 'Mon', 'Tue',\n",
       "       'Wed', 'Thu', 'Fri', 'Sat', 'Sun', 'Airline_9E', 'Airline_AA',\n",
       "       'Airline_AS', 'Airline_B6', 'Airline_DL', 'Airline_EV', 'Airline_F9',\n",
       "       'Airline_G4', 'Airline_HA', 'Airline_MQ', 'Airline_NK', 'Airline_OH',\n",
       "       'Airline_OO', 'Airline_UA', 'Airline_VX', 'Airline_WN', 'Airline_YV',\n",
       "       'Airline_YX', 'Origin_F9', 'Origin_HA', 'Origin_UA', 'Origin_AA',\n",
       "       'Origin_OO', 'Origin_VX', 'Origin_WN', 'Origin_B6', 'Origin_DL',\n",
       "       'Origin_AS'],\n",
       "      dtype='object')"
      ]
     },
     "execution_count": 305,
     "metadata": {},
     "output_type": "execute_result"
    }
   ],
   "source": [
    "df.columns"
   ]
  },
  {
   "cell_type": "markdown",
   "id": "edfc0574",
   "metadata": {},
   "source": [
    "#### Plan 1: use destState for destination category"
   ]
  },
  {
   "cell_type": "code",
   "execution_count": 308,
   "id": "4977db10",
   "metadata": {},
   "outputs": [],
   "source": [
    "destState_lst = list(df.DestState.unique())\n",
    "destState_lst_rename = ['DestState_'+item for item in destState_lst]\n",
    "one_hot_destState = pd.get_dummies(df['DestState'])\n",
    "for i in range(len(destState_lst)):\n",
    "    one_hot_destState.rename(columns = {destState_lst[i]:destState_lst_rename[i]},inplace = True)\n",
    "df1 = df.join(one_hot_destState)\n",
    "df1.drop(columns = ['Dest', 'DestCityName', 'DestState'], inplace = True)"
   ]
  },
  {
   "cell_type": "code",
   "execution_count": 310,
   "id": "bcbe768e",
   "metadata": {},
   "outputs": [
    {
     "data": {
      "text/plain": [
       "(8988665, 112)"
      ]
     },
     "execution_count": 310,
     "metadata": {},
     "output_type": "execute_result"
    }
   ],
   "source": [
    "df1.shape"
   ]
  },
  {
   "cell_type": "code",
   "execution_count": 313,
   "id": "cb68498c",
   "metadata": {},
   "outputs": [],
   "source": [
    "df1.to_csv(\"2016_to_2020_flight_feature_eng_w_DestState.csv\")"
   ]
  },
  {
   "cell_type": "markdown",
   "id": "63620b17",
   "metadata": {},
   "source": [
    "#### Plan 2: use dest for destination category"
   ]
  },
  {
   "cell_type": "code",
   "execution_count": 311,
   "id": "8ce6cd49",
   "metadata": {},
   "outputs": [],
   "source": [
    "dest_lst = list(df.Dest.unique())\n",
    "dest_lst_rename = ['Dest_'+item for item in dest_lst]\n",
    "one_hot_dest = pd.get_dummies(df['Dest'])\n",
    "for i in range(len(dest_lst)):\n",
    "    one_hot_dest.rename(columns = {dest_lst[i]:dest_lst_rename[i]},inplace = True)\n",
    "df2 = df.join(one_hot_dest)\n",
    "df2.drop(columns = ['Dest', 'DestCityName', 'DestState'], inplace = True)"
   ]
  },
  {
   "cell_type": "code",
   "execution_count": 312,
   "id": "5f110067",
   "metadata": {},
   "outputs": [
    {
     "data": {
      "text/plain": [
       "(8988665, 382)"
      ]
     },
     "execution_count": 312,
     "metadata": {},
     "output_type": "execute_result"
    }
   ],
   "source": [
    "df2.shape"
   ]
  },
  {
   "cell_type": "code",
   "execution_count": 314,
   "id": "c4beefed",
   "metadata": {},
   "outputs": [],
   "source": [
    "df2.to_csv(\"2016_to_2020_flight_feature_eng_w_Dest.csv\")"
   ]
  },
  {
   "cell_type": "code",
   "execution_count": null,
   "id": "96c78e44",
   "metadata": {},
   "outputs": [],
   "source": []
  }
 ],
 "metadata": {
  "kernelspec": {
   "display_name": "Python 3",
   "language": "python",
   "name": "python3"
  },
  "language_info": {
   "codemirror_mode": {
    "name": "ipython",
    "version": 3
   },
   "file_extension": ".py",
   "mimetype": "text/x-python",
   "name": "python",
   "nbconvert_exporter": "python",
   "pygments_lexer": "ipython3",
   "version": "3.7.10"
  }
 },
 "nbformat": 4,
 "nbformat_minor": 5
}
