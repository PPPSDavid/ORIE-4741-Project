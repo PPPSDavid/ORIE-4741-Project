{
 "cells": [
  {
   "cell_type": "code",
   "execution_count": null,
   "id": "7f33d40a",
   "metadata": {},
   "outputs": [],
   "source": [
    "import csv\n",
    "import pandas as pd\n",
    "import warnings\n",
    "warnings.filterwarnings(\"ignore\")\n",
    "import datetime\n",
    "import numpy as np"
   ]
  },
  {
   "cell_type": "code",
   "execution_count": null,
   "id": "f1eb895c",
   "metadata": {},
   "outputs": [],
   "source": [
    "data = pd.read_csv(r\"2016_to_2020_flight_reduced_columns_with_weather_top_10.csv\", index_col = False)\n",
    "data = data.drop('Unnamed: 0', axis = 1)"
   ]
  },
  {
   "cell_type": "code",
   "execution_count": null,
   "id": "d688619d",
   "metadata": {},
   "outputs": [],
   "source": [
    "data.columns"
   ]
  },
  {
   "cell_type": "code",
   "execution_count": null,
   "id": "05bb30ea",
   "metadata": {},
   "outputs": [],
   "source": [
    "data.head(10)"
   ]
  },
  {
   "cell_type": "markdown",
   "id": "cfa603df",
   "metadata": {},
   "source": [
    "## Missing/Corrupted Data"
   ]
  },
  {
   "cell_type": "code",
   "execution_count": null,
   "id": "3b17bec5",
   "metadata": {},
   "outputs": [],
   "source": [
    "# Remove cancelled flights\n",
    "df = data[data.Cancelled == 0]"
   ]
  },
  {
   "cell_type": "code",
   "execution_count": null,
   "id": "8f557b7a",
   "metadata": {},
   "outputs": [],
   "source": [
    "# Remove data without ArrTime\n",
    "df = df[~df.ArrTime.isnull()]\n",
    "# Reset index\n",
    "df.reset_index(inplace = True, drop = True)\n",
    "# Drop column CancellationCode, Flights\n",
    "# Reporting_Airline and DOT_ID_Reporting_Airline the same info, keep DOT_ID_Reporting_Airline\n",
    "df.drop(columns = ['CancellationCode','Flights'], inplace = True)"
   ]
  },
  {
   "cell_type": "code",
   "execution_count": null,
   "id": "c2fb1092",
   "metadata": {},
   "outputs": [],
   "source": [
    "df.shape"
   ]
  },
  {
   "cell_type": "code",
   "execution_count": null,
   "id": "57fca410",
   "metadata": {},
   "outputs": [],
   "source": [
    "missing_stats = df.isnull().sum()\n",
    "missing_stats = missing_stats[missing_stats != 0]"
   ]
  },
  {
   "cell_type": "code",
   "execution_count": null,
   "id": "3149e7d8",
   "metadata": {},
   "outputs": [],
   "source": [
    "missing_stats"
   ]
  },
  {
   "cell_type": "code",
   "execution_count": null,
   "id": "ed0f2254",
   "metadata": {},
   "outputs": [],
   "source": [
    "# Fill DepDelay null with 0\n",
    "df.DepDelay.fillna(0,inplace=True)"
   ]
  },
  {
   "cell_type": "code",
   "execution_count": null,
   "id": "b481efeb",
   "metadata": {},
   "outputs": [],
   "source": [
    "# Fill DivArrDelay with 0\n",
    "df.DivArrDelay.fillna(0,inplace=True)\n",
    "# Fill DivActualElapsedTime with 0\n",
    "df.DivActualElapsedTime.fillna(0,inplace=True)\n",
    "#Concatenating Reporting_Airline with Flight_Number_Reporting_Airline to form flight number\n",
    "df.Flight_Number_Reporting_Airline = df.Reporting_Airline.astype(str) + df.Flight_Number_Reporting_Airline.astype(str)\n",
    "df.drop(columns = ['Reporting_Airline'], inplace = True)\n",
    "# Change dtype of FlightDate into datetime.date\n",
    "df['FlightDate'] = df['FlightDate'].apply(lambda x: datetime.date.fromisoformat(x))"
   ]
  },
  {
   "cell_type": "code",
   "execution_count": null,
   "id": "fd3c3552",
   "metadata": {},
   "outputs": [],
   "source": [
    "def parse_int_to_time(num):\n",
    "    try:\n",
    "        num = int(num)\n",
    "        if num == 2400:\n",
    "            num = 2359\n",
    "        m = num%100\n",
    "        minute = m%60\n",
    "        h = num//100\n",
    "        return datetime.time(hour = h, minute = m)\n",
    "    except ValueError:\n",
    "        print(num)"
   ]
  },
  {
   "cell_type": "code",
   "execution_count": null,
   "id": "cbc50d90",
   "metadata": {},
   "outputs": [],
   "source": [
    "# Parse CRSDepTime, DepTime, WheelsOff, WheelsOn, CRSArrTime, ArrTime into datetime\n",
    "for col in ['CRSDepTime', 'DepTime', 'WheelsOff', 'WheelsOn', 'CRSArrTime', 'ArrTime']:\n",
    "    df[col] = df[col].apply(lambda x: parse_int_to_time(x))"
   ]
  },
  {
   "cell_type": "code",
   "execution_count": null,
   "id": "9cf7a0d1",
   "metadata": {},
   "outputs": [],
   "source": [
    "def fill_ArrDelay(x):\n",
    "    if np.isnan(x['ArrDelay']):\n",
    "        start_time = x['CRSArrTime']\n",
    "        stop_time = x['ArrTime']\n",
    "        date = datetime.date(1, 1, 1)\n",
    "        datetime1 = datetime.datetime.combine(date, start_time)\n",
    "        datetime2 = datetime.datetime.combine(date, stop_time)\n",
    "        time_elapsed = datetime1 - datetime2\n",
    "        x['ArrDelay'] = time_elapsed.seconds//60\n",
    "        return x"
   ]
  },
  {
   "cell_type": "code",
   "execution_count": null,
   "id": "bd5d7aa1",
   "metadata": {},
   "outputs": [],
   "source": [
    "# Calculate ArrDelay for missing data\n",
    "df2 = df[df['ArrDelay'].isnull()]\n",
    "df2 = df2.apply(fill_ArrDelay, axis = 1)\n",
    "df[df['ArrDelay'].isnull()] = df2"
   ]
  },
  {
   "cell_type": "markdown",
   "id": "1c0ddeb3",
   "metadata": {},
   "source": [
    "## Feature engineering & Encoding"
   ]
  },
  {
   "cell_type": "code",
   "execution_count": null,
   "id": "3adfe376",
   "metadata": {},
   "outputs": [],
   "source": [
    "df.dtypes"
   ]
  },
  {
   "cell_type": "code",
   "execution_count": null,
   "id": "354586da",
   "metadata": {},
   "outputs": [],
   "source": [
    "def real_encoding(sev):\n",
    "    \"\"\" Convert severity into real_encoding, from light 1 to severe 4\n",
    "    nan as 0\n",
    "    \"\"\"\n",
    "    if sev == 'Light':\n",
    "        return 1\n",
    "    elif sev == 'Moderate':\n",
    "        return 2\n",
    "    elif sev == 'Heavy':\n",
    "        return 3\n",
    "    elif sev == 'Severe':\n",
    "        return 4\n",
    "    else:\n",
    "        return 0"
   ]
  },
  {
   "cell_type": "code",
   "execution_count": null,
   "id": "2936a009",
   "metadata": {},
   "outputs": [],
   "source": [
    "# real_encoding for weather severity\n",
    "for col in ['Severe-Cold_Severity','Fog_Severity','Hail_Severity','Rain_Severity',\n",
    "            'Snow_Severity','Storm_Severity','Other Precipitation_Severity']:\n",
    "    df[col] = df[col].apply(lambda x: real_encoding(x))"
   ]
  },
  {
   "cell_type": "code",
   "execution_count": null,
   "id": "b3b7cb44",
   "metadata": {},
   "outputs": [],
   "source": []
  }
 ],
 "metadata": {
  "kernelspec": {
   "display_name": "Python 3",
   "language": "python",
   "name": "python3"
  },
  "language_info": {
   "codemirror_mode": {
    "name": "ipython",
    "version": 3
   },
   "file_extension": ".py",
   "mimetype": "text/x-python",
   "name": "python",
   "nbconvert_exporter": "python",
   "pygments_lexer": "ipython3",
   "version": "3.7.10"
  }
 },
 "nbformat": 4,
 "nbformat_minor": 5
}
