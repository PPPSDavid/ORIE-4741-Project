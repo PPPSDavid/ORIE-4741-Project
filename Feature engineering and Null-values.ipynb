{
 "cells": [
  {
   "cell_type": "code",
   "execution_count": 1,
   "id": "7f33d40a",
   "metadata": {},
   "outputs": [],
   "source": [
    "import csv\n",
    "import pandas as pd\n",
    "import warnings\n",
    "warnings.filterwarnings(\"ignore\")\n",
    "import datetime\n",
    "import numpy as np"
   ]
  },
  {
   "cell_type": "code",
   "execution_count": 2,
   "id": "f1eb895c",
   "metadata": {},
   "outputs": [],
   "source": [
    "file_path = r\"C:\\ORIE4741 Data\\2016_to_2020_flight_reduced_columns_with_weather_top_10.csv\"\n",
    "data = pd.read_csv(file_path, index_col = False)\n",
    "data = data.drop('Unnamed: 0', axis = 1)"
   ]
  },
  {
   "cell_type": "code",
   "execution_count": 3,
   "id": "d688619d",
   "metadata": {},
   "outputs": [
    {
     "data": {
      "text/plain": [
       "Index(['Year', 'Quarter', 'Month', 'DayofMonth', 'DayOfWeek', 'FlightDate',\n",
       "       'Reporting_Airline', 'DOT_ID_Reporting_Airline',\n",
       "       'Flight_Number_Reporting_Airline', 'Origin', 'OriginCityName',\n",
       "       'OriginState', 'Dest', 'DestCityName', 'DestState', 'CRSDepTime',\n",
       "       'DepTime', 'DepDelay', 'TaxiOut', 'WheelsOff', 'WheelsOn', 'TaxiIn',\n",
       "       'CRSArrTime', 'ArrTime', 'ArrDelay', 'CRSElapsedTime', 'Cancelled',\n",
       "       'CancellationCode', 'Diverted', 'Flights', 'Distance', 'DivArrDelay',\n",
       "       'DivActualElapsedTime', 'DepTimeLocal', 'DepTimeUTC', 'Severe-Cold',\n",
       "       'Fog', 'Hail', 'Rain', 'Snow', 'Storm', 'Other Precipitation',\n",
       "       'Severe-Cold_Severity', 'Fog_Severity', 'Hail_Severity',\n",
       "       'Rain_Severity', 'Snow_Severity', 'Storm_Severity',\n",
       "       'Other Precipitation_Severity'],\n",
       "      dtype='object')"
      ]
     },
     "execution_count": 3,
     "metadata": {},
     "output_type": "execute_result"
    }
   ],
   "source": [
    "data.columns"
   ]
  },
  {
   "cell_type": "code",
   "execution_count": 4,
   "id": "c4d3bfbe",
   "metadata": {},
   "outputs": [],
   "source": [
    "# Use to generate top 10-to-10 only\n",
    "list_of_airports = set(['ATL', 'DFW', 'DEN', 'ORD', 'LAX', 'CLT', 'LAS', 'PHX', 'MCO', 'SEA'])\n",
    "data = data[data['Dest'].isin(list_of_airports)]"
   ]
  },
  {
   "cell_type": "code",
   "execution_count": 5,
   "id": "05bb30ea",
   "metadata": {},
   "outputs": [
    {
     "data": {
      "text/html": [
       "<div>\n",
       "<style scoped>\n",
       "    .dataframe tbody tr th:only-of-type {\n",
       "        vertical-align: middle;\n",
       "    }\n",
       "\n",
       "    .dataframe tbody tr th {\n",
       "        vertical-align: top;\n",
       "    }\n",
       "\n",
       "    .dataframe thead th {\n",
       "        text-align: right;\n",
       "    }\n",
       "</style>\n",
       "<table border=\"1\" class=\"dataframe\">\n",
       "  <thead>\n",
       "    <tr style=\"text-align: right;\">\n",
       "      <th></th>\n",
       "      <th>Year</th>\n",
       "      <th>Quarter</th>\n",
       "      <th>Month</th>\n",
       "      <th>DayofMonth</th>\n",
       "      <th>DayOfWeek</th>\n",
       "      <th>FlightDate</th>\n",
       "      <th>Reporting_Airline</th>\n",
       "      <th>DOT_ID_Reporting_Airline</th>\n",
       "      <th>Flight_Number_Reporting_Airline</th>\n",
       "      <th>Origin</th>\n",
       "      <th>...</th>\n",
       "      <th>Snow</th>\n",
       "      <th>Storm</th>\n",
       "      <th>Other Precipitation</th>\n",
       "      <th>Severe-Cold_Severity</th>\n",
       "      <th>Fog_Severity</th>\n",
       "      <th>Hail_Severity</th>\n",
       "      <th>Rain_Severity</th>\n",
       "      <th>Snow_Severity</th>\n",
       "      <th>Storm_Severity</th>\n",
       "      <th>Other Precipitation_Severity</th>\n",
       "    </tr>\n",
       "  </thead>\n",
       "  <tbody>\n",
       "    <tr>\n",
       "      <th>88</th>\n",
       "      <td>2016</td>\n",
       "      <td>1</td>\n",
       "      <td>1</td>\n",
       "      <td>1</td>\n",
       "      <td>5</td>\n",
       "      <td>2016-01-01</td>\n",
       "      <td>AA</td>\n",
       "      <td>19805</td>\n",
       "      <td>48</td>\n",
       "      <td>PHX</td>\n",
       "      <td>...</td>\n",
       "      <td>False</td>\n",
       "      <td>False</td>\n",
       "      <td>False</td>\n",
       "      <td>NaN</td>\n",
       "      <td>NaN</td>\n",
       "      <td>NaN</td>\n",
       "      <td>NaN</td>\n",
       "      <td>NaN</td>\n",
       "      <td>NaN</td>\n",
       "      <td>NaN</td>\n",
       "    </tr>\n",
       "    <tr>\n",
       "      <th>89</th>\n",
       "      <td>2016</td>\n",
       "      <td>1</td>\n",
       "      <td>1</td>\n",
       "      <td>2</td>\n",
       "      <td>6</td>\n",
       "      <td>2016-01-02</td>\n",
       "      <td>AA</td>\n",
       "      <td>19805</td>\n",
       "      <td>48</td>\n",
       "      <td>PHX</td>\n",
       "      <td>...</td>\n",
       "      <td>False</td>\n",
       "      <td>False</td>\n",
       "      <td>False</td>\n",
       "      <td>NaN</td>\n",
       "      <td>NaN</td>\n",
       "      <td>NaN</td>\n",
       "      <td>NaN</td>\n",
       "      <td>NaN</td>\n",
       "      <td>NaN</td>\n",
       "      <td>NaN</td>\n",
       "    </tr>\n",
       "    <tr>\n",
       "      <th>90</th>\n",
       "      <td>2016</td>\n",
       "      <td>1</td>\n",
       "      <td>1</td>\n",
       "      <td>3</td>\n",
       "      <td>7</td>\n",
       "      <td>2016-01-03</td>\n",
       "      <td>AA</td>\n",
       "      <td>19805</td>\n",
       "      <td>48</td>\n",
       "      <td>PHX</td>\n",
       "      <td>...</td>\n",
       "      <td>False</td>\n",
       "      <td>False</td>\n",
       "      <td>False</td>\n",
       "      <td>NaN</td>\n",
       "      <td>NaN</td>\n",
       "      <td>NaN</td>\n",
       "      <td>NaN</td>\n",
       "      <td>NaN</td>\n",
       "      <td>NaN</td>\n",
       "      <td>NaN</td>\n",
       "    </tr>\n",
       "    <tr>\n",
       "      <th>91</th>\n",
       "      <td>2016</td>\n",
       "      <td>1</td>\n",
       "      <td>1</td>\n",
       "      <td>4</td>\n",
       "      <td>1</td>\n",
       "      <td>2016-01-04</td>\n",
       "      <td>AA</td>\n",
       "      <td>19805</td>\n",
       "      <td>48</td>\n",
       "      <td>PHX</td>\n",
       "      <td>...</td>\n",
       "      <td>False</td>\n",
       "      <td>False</td>\n",
       "      <td>False</td>\n",
       "      <td>NaN</td>\n",
       "      <td>NaN</td>\n",
       "      <td>NaN</td>\n",
       "      <td>NaN</td>\n",
       "      <td>NaN</td>\n",
       "      <td>NaN</td>\n",
       "      <td>NaN</td>\n",
       "    </tr>\n",
       "    <tr>\n",
       "      <th>92</th>\n",
       "      <td>2016</td>\n",
       "      <td>1</td>\n",
       "      <td>1</td>\n",
       "      <td>5</td>\n",
       "      <td>2</td>\n",
       "      <td>2016-01-05</td>\n",
       "      <td>AA</td>\n",
       "      <td>19805</td>\n",
       "      <td>48</td>\n",
       "      <td>PHX</td>\n",
       "      <td>...</td>\n",
       "      <td>False</td>\n",
       "      <td>False</td>\n",
       "      <td>False</td>\n",
       "      <td>NaN</td>\n",
       "      <td>NaN</td>\n",
       "      <td>NaN</td>\n",
       "      <td>Light</td>\n",
       "      <td>NaN</td>\n",
       "      <td>NaN</td>\n",
       "      <td>NaN</td>\n",
       "    </tr>\n",
       "    <tr>\n",
       "      <th>93</th>\n",
       "      <td>2016</td>\n",
       "      <td>1</td>\n",
       "      <td>1</td>\n",
       "      <td>6</td>\n",
       "      <td>3</td>\n",
       "      <td>2016-01-06</td>\n",
       "      <td>AA</td>\n",
       "      <td>19805</td>\n",
       "      <td>48</td>\n",
       "      <td>PHX</td>\n",
       "      <td>...</td>\n",
       "      <td>False</td>\n",
       "      <td>False</td>\n",
       "      <td>False</td>\n",
       "      <td>NaN</td>\n",
       "      <td>NaN</td>\n",
       "      <td>NaN</td>\n",
       "      <td>NaN</td>\n",
       "      <td>NaN</td>\n",
       "      <td>NaN</td>\n",
       "      <td>NaN</td>\n",
       "    </tr>\n",
       "    <tr>\n",
       "      <th>94</th>\n",
       "      <td>2016</td>\n",
       "      <td>1</td>\n",
       "      <td>1</td>\n",
       "      <td>7</td>\n",
       "      <td>4</td>\n",
       "      <td>2016-01-07</td>\n",
       "      <td>AA</td>\n",
       "      <td>19805</td>\n",
       "      <td>48</td>\n",
       "      <td>PHX</td>\n",
       "      <td>...</td>\n",
       "      <td>False</td>\n",
       "      <td>False</td>\n",
       "      <td>False</td>\n",
       "      <td>NaN</td>\n",
       "      <td>NaN</td>\n",
       "      <td>NaN</td>\n",
       "      <td>Light</td>\n",
       "      <td>NaN</td>\n",
       "      <td>NaN</td>\n",
       "      <td>NaN</td>\n",
       "    </tr>\n",
       "    <tr>\n",
       "      <th>95</th>\n",
       "      <td>2016</td>\n",
       "      <td>1</td>\n",
       "      <td>1</td>\n",
       "      <td>8</td>\n",
       "      <td>5</td>\n",
       "      <td>2016-01-08</td>\n",
       "      <td>AA</td>\n",
       "      <td>19805</td>\n",
       "      <td>48</td>\n",
       "      <td>PHX</td>\n",
       "      <td>...</td>\n",
       "      <td>False</td>\n",
       "      <td>False</td>\n",
       "      <td>False</td>\n",
       "      <td>NaN</td>\n",
       "      <td>NaN</td>\n",
       "      <td>NaN</td>\n",
       "      <td>NaN</td>\n",
       "      <td>NaN</td>\n",
       "      <td>NaN</td>\n",
       "      <td>NaN</td>\n",
       "    </tr>\n",
       "    <tr>\n",
       "      <th>96</th>\n",
       "      <td>2016</td>\n",
       "      <td>1</td>\n",
       "      <td>1</td>\n",
       "      <td>9</td>\n",
       "      <td>6</td>\n",
       "      <td>2016-01-09</td>\n",
       "      <td>AA</td>\n",
       "      <td>19805</td>\n",
       "      <td>48</td>\n",
       "      <td>PHX</td>\n",
       "      <td>...</td>\n",
       "      <td>False</td>\n",
       "      <td>False</td>\n",
       "      <td>False</td>\n",
       "      <td>NaN</td>\n",
       "      <td>NaN</td>\n",
       "      <td>NaN</td>\n",
       "      <td>NaN</td>\n",
       "      <td>NaN</td>\n",
       "      <td>NaN</td>\n",
       "      <td>NaN</td>\n",
       "    </tr>\n",
       "    <tr>\n",
       "      <th>97</th>\n",
       "      <td>2016</td>\n",
       "      <td>1</td>\n",
       "      <td>1</td>\n",
       "      <td>10</td>\n",
       "      <td>7</td>\n",
       "      <td>2016-01-10</td>\n",
       "      <td>AA</td>\n",
       "      <td>19805</td>\n",
       "      <td>48</td>\n",
       "      <td>PHX</td>\n",
       "      <td>...</td>\n",
       "      <td>False</td>\n",
       "      <td>False</td>\n",
       "      <td>False</td>\n",
       "      <td>NaN</td>\n",
       "      <td>NaN</td>\n",
       "      <td>NaN</td>\n",
       "      <td>NaN</td>\n",
       "      <td>NaN</td>\n",
       "      <td>NaN</td>\n",
       "      <td>NaN</td>\n",
       "    </tr>\n",
       "  </tbody>\n",
       "</table>\n",
       "<p>10 rows × 49 columns</p>\n",
       "</div>"
      ],
      "text/plain": [
       "    Year  Quarter  Month  DayofMonth  DayOfWeek  FlightDate Reporting_Airline  \\\n",
       "88  2016        1      1           1          5  2016-01-01                AA   \n",
       "89  2016        1      1           2          6  2016-01-02                AA   \n",
       "90  2016        1      1           3          7  2016-01-03                AA   \n",
       "91  2016        1      1           4          1  2016-01-04                AA   \n",
       "92  2016        1      1           5          2  2016-01-05                AA   \n",
       "93  2016        1      1           6          3  2016-01-06                AA   \n",
       "94  2016        1      1           7          4  2016-01-07                AA   \n",
       "95  2016        1      1           8          5  2016-01-08                AA   \n",
       "96  2016        1      1           9          6  2016-01-09                AA   \n",
       "97  2016        1      1          10          7  2016-01-10                AA   \n",
       "\n",
       "    DOT_ID_Reporting_Airline  Flight_Number_Reporting_Airline Origin  ...  \\\n",
       "88                     19805                               48    PHX  ...   \n",
       "89                     19805                               48    PHX  ...   \n",
       "90                     19805                               48    PHX  ...   \n",
       "91                     19805                               48    PHX  ...   \n",
       "92                     19805                               48    PHX  ...   \n",
       "93                     19805                               48    PHX  ...   \n",
       "94                     19805                               48    PHX  ...   \n",
       "95                     19805                               48    PHX  ...   \n",
       "96                     19805                               48    PHX  ...   \n",
       "97                     19805                               48    PHX  ...   \n",
       "\n",
       "     Snow  Storm Other Precipitation Severe-Cold_Severity Fog_Severity  \\\n",
       "88  False  False               False                  NaN          NaN   \n",
       "89  False  False               False                  NaN          NaN   \n",
       "90  False  False               False                  NaN          NaN   \n",
       "91  False  False               False                  NaN          NaN   \n",
       "92  False  False               False                  NaN          NaN   \n",
       "93  False  False               False                  NaN          NaN   \n",
       "94  False  False               False                  NaN          NaN   \n",
       "95  False  False               False                  NaN          NaN   \n",
       "96  False  False               False                  NaN          NaN   \n",
       "97  False  False               False                  NaN          NaN   \n",
       "\n",
       "    Hail_Severity  Rain_Severity  Snow_Severity  Storm_Severity  \\\n",
       "88            NaN            NaN            NaN             NaN   \n",
       "89            NaN            NaN            NaN             NaN   \n",
       "90            NaN            NaN            NaN             NaN   \n",
       "91            NaN            NaN            NaN             NaN   \n",
       "92            NaN          Light            NaN             NaN   \n",
       "93            NaN            NaN            NaN             NaN   \n",
       "94            NaN          Light            NaN             NaN   \n",
       "95            NaN            NaN            NaN             NaN   \n",
       "96            NaN            NaN            NaN             NaN   \n",
       "97            NaN            NaN            NaN             NaN   \n",
       "\n",
       "    Other Precipitation_Severity  \n",
       "88                           NaN  \n",
       "89                           NaN  \n",
       "90                           NaN  \n",
       "91                           NaN  \n",
       "92                           NaN  \n",
       "93                           NaN  \n",
       "94                           NaN  \n",
       "95                           NaN  \n",
       "96                           NaN  \n",
       "97                           NaN  \n",
       "\n",
       "[10 rows x 49 columns]"
      ]
     },
     "execution_count": 5,
     "metadata": {},
     "output_type": "execute_result"
    }
   ],
   "source": [
    "data.head(10)"
   ]
  },
  {
   "cell_type": "markdown",
   "id": "cfa603df",
   "metadata": {},
   "source": [
    "## Missing/Corrupted Data"
   ]
  },
  {
   "cell_type": "code",
   "execution_count": 6,
   "id": "3b17bec5",
   "metadata": {},
   "outputs": [],
   "source": [
    "# Remove cancelled flights\n",
    "df = data[data.Cancelled == 0]\n",
    "df.drop(columns = ['Cancelled'], inplace = True)"
   ]
  },
  {
   "cell_type": "code",
   "execution_count": 7,
   "id": "8f557b7a",
   "metadata": {},
   "outputs": [],
   "source": [
    "# Remove data without ArrTime\n",
    "df = df[~df.ArrTime.isnull()]\n",
    "# Reset index\n",
    "df.reset_index(inplace = True, drop = True)\n",
    "# Drop column CancellationCode, Flights\n",
    "# Reporting_Airline and DOT_ID_Reporting_Airline the same info, keep DOT_ID_Reporting_Airline\n",
    "df.drop(columns = ['CancellationCode','Flights'], inplace = True)"
   ]
  },
  {
   "cell_type": "code",
   "execution_count": 8,
   "id": "57fca410",
   "metadata": {},
   "outputs": [],
   "source": [
    "missing_stats = df.isnull().sum()\n",
    "missing_stats = missing_stats[missing_stats != 0]"
   ]
  },
  {
   "cell_type": "code",
   "execution_count": 9,
   "id": "3149e7d8",
   "metadata": {},
   "outputs": [
    {
     "data": {
      "text/plain": [
       "ArrDelay                           3722\n",
       "DivArrDelay                     1965362\n",
       "DivActualElapsedTime            1965362\n",
       "Severe-Cold_Severity            1969084\n",
       "Fog_Severity                    1918068\n",
       "Hail_Severity                   1968984\n",
       "Rain_Severity                   1864646\n",
       "Snow_Severity                   1951725\n",
       "Storm_Severity                  1968797\n",
       "Other Precipitation_Severity    1969084\n",
       "dtype: int64"
      ]
     },
     "execution_count": 9,
     "metadata": {},
     "output_type": "execute_result"
    }
   ],
   "source": [
    "missing_stats"
   ]
  },
  {
   "cell_type": "code",
   "execution_count": 10,
   "id": "ed0f2254",
   "metadata": {},
   "outputs": [],
   "source": [
    "# Fill DepDelay null with 0\n",
    "df.DepDelay.fillna(0,inplace=True)"
   ]
  },
  {
   "cell_type": "code",
   "execution_count": 11,
   "id": "509910f9",
   "metadata": {},
   "outputs": [],
   "source": [
    "df2 = df[(df.Diverted == 0) & (np.isnan(df.ArrDelay))]\n",
    "df2['ArrDelay'].fillna(0, inplace = True)\n",
    "df[(df.Diverted == 0) & (np.isnan(df.ArrDelay))] = df2"
   ]
  },
  {
   "cell_type": "code",
   "execution_count": 12,
   "id": "73cfb466",
   "metadata": {},
   "outputs": [],
   "source": [
    "diverted = df[df.Diverted == 1]\n",
    "def fill_arrDelay_for_diverted(x):\n",
    "    x['ArrDelay'] = x['DivArrDelay']\n",
    "    return x\n",
    "diverted = diverted.apply(fill_arrDelay_for_diverted, axis = 1)\n",
    "df[df['ArrDelay'].isnull()] = diverted\n",
    "df.drop(columns = ['DivArrDelay','DivActualElapsedTime','Diverted'],inplace = True)"
   ]
  },
  {
   "cell_type": "code",
   "execution_count": 13,
   "id": "bdfc0bdf",
   "metadata": {},
   "outputs": [
    {
     "data": {
      "text/plain": [
       "Severe-Cold_Severity            1969084\n",
       "Fog_Severity                    1918068\n",
       "Hail_Severity                   1968984\n",
       "Rain_Severity                   1864646\n",
       "Snow_Severity                   1951725\n",
       "Storm_Severity                  1968797\n",
       "Other Precipitation_Severity    1969084\n",
       "dtype: int64"
      ]
     },
     "execution_count": 13,
     "metadata": {},
     "output_type": "execute_result"
    }
   ],
   "source": [
    "missing_stats = df.isnull().sum()\n",
    "missing_stats = missing_stats[missing_stats != 0]\n",
    "missing_stats"
   ]
  },
  {
   "cell_type": "code",
   "execution_count": 14,
   "id": "b481efeb",
   "metadata": {},
   "outputs": [],
   "source": [
    "# Fill DivArrDelay with 0\n",
    "# df.DivArrDelay.fillna(0,inplace=True)\n",
    "# Fill DivActualElapsedTime with 0\n",
    "# df.DivActualElapsedTime.fillna(0,inplace=True)\n",
    "#Concatenating Reporting_Airline with Flight_Number_Reporting_Airline to form flight number\n",
    "# df.Flight_Number_Reporting_Airline = df.Reporting_Airline.astype(str) + df.Flight_Number_Reporting_Airline.astype(str)\n",
    "# df.drop(columns = ['Reporting_Airline'], inplace = True)\n",
    "# # Change dtype of FlightDate into datetime.date\n",
    "# df['FlightDate'] = df['FlightDate'].apply(lambda x: datetime.date.fromisoformat(x))"
   ]
  },
  {
   "cell_type": "code",
   "execution_count": 15,
   "id": "cbc50d90",
   "metadata": {},
   "outputs": [],
   "source": [
    "# Parse CRSDepTime, DepTime, WheelsOff, WheelsOn, CRSArrTime, ArrTime into datetime\n",
    "# for col in ['CRSDepTime', 'DepTime', 'WheelsOff', 'WheelsOn', 'CRSArrTime', 'ArrTime']:\n",
    "#     df[col] = df[col].apply(lambda x: parse_int_to_time(x))"
   ]
  },
  {
   "cell_type": "code",
   "execution_count": 16,
   "id": "9cf7a0d1",
   "metadata": {},
   "outputs": [],
   "source": [
    "def fill_ArrDelay(x):\n",
    "    if np.isnan(x['ArrDelay']):\n",
    "        start_time = x['CRSArrTime']\n",
    "        stop_time = x['ArrTime']\n",
    "        date = datetime.date(1, 1, 1)\n",
    "        datetime1 = datetime.datetime.combine(date, start_time)\n",
    "        datetime2 = datetime.datetime.combine(date, stop_time)\n",
    "        time_elapsed = datetime1 - datetime2\n",
    "        x['ArrDelay'] = time_elapsed.seconds//60\n",
    "        return x"
   ]
  },
  {
   "cell_type": "markdown",
   "id": "1c0ddeb3",
   "metadata": {},
   "source": [
    "## Feature engineering & Encoding"
   ]
  },
  {
   "cell_type": "markdown",
   "id": "6ac18d5a",
   "metadata": {},
   "source": [
    "### Weather"
   ]
  },
  {
   "cell_type": "code",
   "execution_count": 17,
   "id": "354586da",
   "metadata": {},
   "outputs": [],
   "source": [
    "def weather_real_encoding(sev):\n",
    "    \"\"\" Convert severity into real_encoding, from light 1 to severe 4\n",
    "    nan as 0\n",
    "    \"\"\"\n",
    "    if sev == 'Light':\n",
    "        return 1\n",
    "    elif sev == 'Moderate':\n",
    "        return 2\n",
    "    elif sev == 'Heavy':\n",
    "        return 3\n",
    "    elif sev == 'Severe':\n",
    "        return 4\n",
    "    else:\n",
    "        return 0"
   ]
  },
  {
   "cell_type": "code",
   "execution_count": 18,
   "id": "2936a009",
   "metadata": {},
   "outputs": [],
   "source": [
    "# real_encoding for weather severity\n",
    "for col in ['Severe-Cold_Severity','Fog_Severity','Hail_Severity','Rain_Severity',\n",
    "            'Snow_Severity','Storm_Severity','Other Precipitation_Severity']:\n",
    "    df[col] = df[col].apply(lambda x: weather_real_encoding(x))"
   ]
  },
  {
   "cell_type": "code",
   "execution_count": 19,
   "id": "b3b7cb44",
   "metadata": {},
   "outputs": [
    {
     "data": {
      "text/plain": [
       "Index(['Year', 'Quarter', 'Month', 'DayofMonth', 'DayOfWeek', 'FlightDate',\n",
       "       'Reporting_Airline', 'DOT_ID_Reporting_Airline',\n",
       "       'Flight_Number_Reporting_Airline', 'Origin', 'OriginCityName',\n",
       "       'OriginState', 'Dest', 'DestCityName', 'DestState', 'CRSDepTime',\n",
       "       'DepTime', 'DepDelay', 'TaxiOut', 'WheelsOff', 'WheelsOn', 'TaxiIn',\n",
       "       'CRSArrTime', 'ArrTime', 'ArrDelay', 'CRSElapsedTime', 'Distance',\n",
       "       'DepTimeLocal', 'DepTimeUTC', 'Severe-Cold_Severity', 'Fog_Severity',\n",
       "       'Hail_Severity', 'Rain_Severity', 'Snow_Severity', 'Storm_Severity',\n",
       "       'Other Precipitation_Severity'],\n",
       "      dtype='object')"
      ]
     },
     "execution_count": 19,
     "metadata": {},
     "output_type": "execute_result"
    }
   ],
   "source": [
    "# Drop weather columns\n",
    "weather_col = ['Severe-Cold', 'Fog', 'Hail', 'Rain','Snow', 'Storm', 'Other Precipitation']\n",
    "df.drop(columns = weather_col, inplace = True)\n",
    "df.columns"
   ]
  },
  {
   "cell_type": "markdown",
   "id": "2a384e35",
   "metadata": {},
   "source": [
    "### Time related"
   ]
  },
  {
   "cell_type": "code",
   "execution_count": 20,
   "id": "f92c8ec3",
   "metadata": {},
   "outputs": [],
   "source": [
    "def parse_int_to_time(num):\n",
    "    try:\n",
    "        num = int(num)\n",
    "        if num == 2400:\n",
    "            num = 2359\n",
    "        m = num%100\n",
    "        minute = m%60\n",
    "        h = num//100\n",
    "        return datetime.time(hour = h, minute = m)\n",
    "    except ValueError:\n",
    "        print(num)"
   ]
  },
  {
   "cell_type": "code",
   "execution_count": 21,
   "id": "28ee0d62",
   "metadata": {},
   "outputs": [],
   "source": [
    "#Parse CRSDepTime, CRSArrTime into datetime\n",
    "for col in ['CRSDepTime', 'CRSArrTime']:\n",
    "    df[col] = df[col].apply(lambda x: parse_int_to_time(x))"
   ]
  },
  {
   "cell_type": "code",
   "execution_count": 22,
   "id": "6675e345",
   "metadata": {},
   "outputs": [
    {
     "data": {
      "text/plain": [
       "Index(['Year', 'Quarter', 'Month', 'DayofMonth', 'DayOfWeek',\n",
       "       'Reporting_Airline', 'DOT_ID_Reporting_Airline',\n",
       "       'Flight_Number_Reporting_Airline', 'Origin', 'OriginCityName',\n",
       "       'OriginState', 'Dest', 'DestCityName', 'DestState', 'CRSDepTime',\n",
       "       'DepDelay', 'CRSArrTime', 'ArrDelay', 'CRSElapsedTime', 'Distance',\n",
       "       'Severe-Cold_Severity', 'Fog_Severity', 'Hail_Severity',\n",
       "       'Rain_Severity', 'Snow_Severity', 'Storm_Severity',\n",
       "       'Other Precipitation_Severity'],\n",
       "      dtype='object')"
      ]
     },
     "execution_count": 22,
     "metadata": {},
     "output_type": "execute_result"
    }
   ],
   "source": [
    "time_col = ['DepTime', 'ArrTime', 'TaxiOut', 'WheelsOff', 'WheelsOn', 'TaxiIn',\n",
    "            'DepTimeLocal','DepTimeUTC','FlightDate']\n",
    "df.drop(columns = time_col, inplace = True)\n",
    "df.columns"
   ]
  },
  {
   "cell_type": "code",
   "execution_count": 23,
   "id": "9ad786f3",
   "metadata": {},
   "outputs": [],
   "source": [
    "def time_cat_encoding(t):\n",
    "    \"\"\"Turns time into categorical with 4 values: morning, afternoon, night, midnight\n",
    "    \"\"\"\n",
    "    mor = datetime.time(6,0)\n",
    "    aft = datetime.time(12,0)\n",
    "    ni = datetime.time(18,0)\n",
    "    if t < mor:\n",
    "        return \"midnight\"\n",
    "    elif t < aft:\n",
    "        return \"morning\"\n",
    "    elif t < ni:\n",
    "        return \"afternoon\"\n",
    "    else:\n",
    "        return \"night\""
   ]
  },
  {
   "cell_type": "code",
   "execution_count": 24,
   "id": "a58fc28a",
   "metadata": {},
   "outputs": [],
   "source": [
    "df.CRSDepTime = df.CRSDepTime.apply(time_cat_encoding)\n",
    "df.CRSArrTime = df.CRSArrTime.apply(time_cat_encoding)"
   ]
  },
  {
   "cell_type": "code",
   "execution_count": 25,
   "id": "0faca8d1",
   "metadata": {},
   "outputs": [],
   "source": [
    "# Do one hot encoding for CRSDepTime and CRSArrTime\n",
    "one_hot_CRSDepTime = pd.get_dummies(df['CRSDepTime'])\n",
    "one_hot_CRSArrTime = pd.get_dummies(df['CRSArrTime'])\n",
    "one_hot_CRSDepTime.rename(columns = {'afternoon':'CRSDep_afternoon','midnight':'CRSDep_midnight',\n",
    "                                     'morning':'CRSDep_morning','night':'CRSDep_night'}, inplace = True)\n",
    "one_hot_CRSArrTime.rename(columns = {'afternoon':'CRSArr_afternoon','midnight':'CRSArr_midnight',\n",
    "                                     'morning':'CRSArr_morning','night':'CRSArr_night'}, inplace = True)\n",
    "df.drop(columns = ['CRSDepTime','CRSArrTime'], inplace = True)\n",
    "df = df.join(one_hot_CRSDepTime)\n",
    "df = df.join(one_hot_CRSArrTime)"
   ]
  },
  {
   "cell_type": "code",
   "execution_count": 26,
   "id": "ef8a649d",
   "metadata": {},
   "outputs": [
    {
     "data": {
      "text/plain": [
       "array([1, 4, 2, 3], dtype=int64)"
      ]
     },
     "execution_count": 26,
     "metadata": {},
     "output_type": "execute_result"
    }
   ],
   "source": [
    "df.Quarter.unique()"
   ]
  },
  {
   "cell_type": "code",
   "execution_count": 27,
   "id": "056cf96c",
   "metadata": {},
   "outputs": [],
   "source": [
    "# do one-hot for Quarter & DayOfWeek\n",
    "one_hot_quarter = pd.get_dummies(df['Quarter'])\n",
    "one_hot_day = pd.get_dummies(df['DayOfWeek'])\n",
    "one_hot_quarter.rename(columns ={1:'Q1',2:'Q2',3:'Q3',4:'Q4'}, inplace = True)\n",
    "one_hot_day.rename(columns ={1:'Mon',2:'Tue',3:'Wed',4:'Thu',5:'Fri',6:'Sat',7:'Sun'}, inplace = True)\n",
    "df.drop(columns = ['Quarter','DayOfWeek'], inplace = True)\n",
    "df = df.join(one_hot_quarter)\n",
    "df = df.join(one_hot_day)"
   ]
  },
  {
   "cell_type": "code",
   "execution_count": 28,
   "id": "d37a2f06",
   "metadata": {},
   "outputs": [
    {
     "data": {
      "text/plain": [
       "Index(['Year', 'Month', 'DayofMonth', 'Reporting_Airline',\n",
       "       'DOT_ID_Reporting_Airline', 'Flight_Number_Reporting_Airline', 'Origin',\n",
       "       'OriginCityName', 'OriginState', 'Dest', 'DestCityName', 'DestState',\n",
       "       'DepDelay', 'ArrDelay', 'CRSElapsedTime', 'Distance',\n",
       "       'Severe-Cold_Severity', 'Fog_Severity', 'Hail_Severity',\n",
       "       'Rain_Severity', 'Snow_Severity', 'Storm_Severity',\n",
       "       'Other Precipitation_Severity', 'CRSDep_afternoon', 'CRSDep_midnight',\n",
       "       'CRSDep_morning', 'CRSDep_night', 'CRSArr_afternoon', 'CRSArr_midnight',\n",
       "       'CRSArr_morning', 'CRSArr_night', 'Q1', 'Q2', 'Q3', 'Q4', 'Mon', 'Tue',\n",
       "       'Wed', 'Thu', 'Fri', 'Sat', 'Sun'],\n",
       "      dtype='object')"
      ]
     },
     "execution_count": 28,
     "metadata": {},
     "output_type": "execute_result"
    }
   ],
   "source": [
    "df.columns"
   ]
  },
  {
   "cell_type": "markdown",
   "id": "6ef0e022",
   "metadata": {},
   "source": [
    "### Airline related"
   ]
  },
  {
   "cell_type": "code",
   "execution_count": 29,
   "id": "317de777",
   "metadata": {},
   "outputs": [],
   "source": [
    "airline_lst = list(df.Reporting_Airline.unique())\n",
    "airline_lst_rename = ['Airline_'+item for item in airline_lst]\n",
    "one_hot_airline = pd.get_dummies(df['Reporting_Airline'])\n",
    "for i in range(len(airline_lst)):\n",
    "    one_hot_airline.rename(columns = {airline_lst[i]:airline_lst_rename[i]},inplace = True)\n",
    "df.drop(columns = ['Reporting_Airline','DOT_ID_Reporting_Airline',\n",
    "                   'Flight_Number_Reporting_Airline'], inplace = True)\n",
    "df = df.join(one_hot_airline)"
   ]
  },
  {
   "cell_type": "markdown",
   "id": "8dcc9170",
   "metadata": {},
   "source": [
    "### location related"
   ]
  },
  {
   "cell_type": "code",
   "execution_count": 30,
   "id": "ab376186",
   "metadata": {},
   "outputs": [],
   "source": [
    "origin_lst = list(df.Origin.unique())\n",
    "origin_lst_rename = ['Origin_'+item for item in origin_lst]\n",
    "one_hot_origin = pd.get_dummies(df['Origin'])\n",
    "for i in range(len(origin_lst)):\n",
    "    one_hot_origin.rename(columns = {origin_lst[i]:origin_lst_rename[i]},inplace = True)\n",
    "df = df.join(one_hot_origin)\n",
    "df.drop(columns = ['Origin','OriginCityName','OriginState'], inplace = True)"
   ]
  },
  {
   "cell_type": "code",
   "execution_count": 31,
   "id": "20561670",
   "metadata": {},
   "outputs": [
    {
     "data": {
      "text/plain": [
       "Index(['Year', 'Month', 'DayofMonth', 'Dest', 'DestCityName', 'DestState',\n",
       "       'DepDelay', 'ArrDelay', 'CRSElapsedTime', 'Distance',\n",
       "       'Severe-Cold_Severity', 'Fog_Severity', 'Hail_Severity',\n",
       "       'Rain_Severity', 'Snow_Severity', 'Storm_Severity',\n",
       "       'Other Precipitation_Severity', 'CRSDep_afternoon', 'CRSDep_midnight',\n",
       "       'CRSDep_morning', 'CRSDep_night', 'CRSArr_afternoon', 'CRSArr_midnight',\n",
       "       'CRSArr_morning', 'CRSArr_night', 'Q1', 'Q2', 'Q3', 'Q4', 'Mon', 'Tue',\n",
       "       'Wed', 'Thu', 'Fri', 'Sat', 'Sun', 'Airline_9E', 'Airline_AA',\n",
       "       'Airline_AS', 'Airline_B6', 'Airline_DL', 'Airline_EV', 'Airline_F9',\n",
       "       'Airline_G4', 'Airline_MQ', 'Airline_NK', 'Airline_OH', 'Airline_OO',\n",
       "       'Airline_UA', 'Airline_VX', 'Airline_WN', 'Airline_YV', 'Airline_YX',\n",
       "       'Origin_ATL', 'Origin_CLT', 'Origin_DEN', 'Origin_DFW', 'Origin_LAS',\n",
       "       'Origin_LAX', 'Origin_MCO', 'Origin_ORD', 'Origin_PHX', 'Origin_SEA'],\n",
       "      dtype='object')"
      ]
     },
     "execution_count": 31,
     "metadata": {},
     "output_type": "execute_result"
    }
   ],
   "source": [
    "df.columns"
   ]
  },
  {
   "cell_type": "markdown",
   "id": "edfc0574",
   "metadata": {},
   "source": [
    "#### Plan 1: use destState for destination category"
   ]
  },
  {
   "cell_type": "code",
   "execution_count": 32,
   "id": "4977db10",
   "metadata": {},
   "outputs": [],
   "source": [
    "destState_lst = list(df.DestState.unique())\n",
    "destState_lst_rename = ['DestState_'+item for item in destState_lst]\n",
    "one_hot_destState = pd.get_dummies(df['DestState'])\n",
    "for i in range(len(destState_lst)):\n",
    "    one_hot_destState.rename(columns = {destState_lst[i]:destState_lst_rename[i]},inplace = True)\n",
    "df1 = df.join(one_hot_destState)\n",
    "df1.drop(columns = ['Dest', 'DestCityName', 'DestState'], inplace = True)"
   ]
  },
  {
   "cell_type": "code",
   "execution_count": 33,
   "id": "bcbe768e",
   "metadata": {},
   "outputs": [
    {
     "data": {
      "text/plain": [
       "(1969084, 70)"
      ]
     },
     "execution_count": 33,
     "metadata": {},
     "output_type": "execute_result"
    }
   ],
   "source": [
    "df1.shape"
   ]
  },
  {
   "cell_type": "code",
   "execution_count": 34,
   "id": "cb68498c",
   "metadata": {},
   "outputs": [],
   "source": [
    "df1.to_csv(\"2016_to_2020_flight_feature_eng_w_DestState.csv\")"
   ]
  },
  {
   "cell_type": "markdown",
   "id": "63620b17",
   "metadata": {},
   "source": [
    "#### Plan 2: use dest for destination category"
   ]
  },
  {
   "cell_type": "code",
   "execution_count": 35,
   "id": "8ce6cd49",
   "metadata": {},
   "outputs": [],
   "source": [
    "dest_lst = list(df.Dest.unique())\n",
    "dest_lst_rename = ['Dest_'+item for item in dest_lst]\n",
    "one_hot_dest = pd.get_dummies(df['Dest'])\n",
    "for i in range(len(dest_lst)):\n",
    "    one_hot_dest.rename(columns = {dest_lst[i]:dest_lst_rename[i]},inplace = True)\n",
    "df2 = df.join(one_hot_dest)\n",
    "df2.drop(columns = ['Dest', 'DestCityName', 'DestState'], inplace = True)"
   ]
  },
  {
   "cell_type": "code",
   "execution_count": 36,
   "id": "5f110067",
   "metadata": {},
   "outputs": [
    {
     "data": {
      "text/plain": [
       "(1969084, 70)"
      ]
     },
     "execution_count": 36,
     "metadata": {},
     "output_type": "execute_result"
    }
   ],
   "source": [
    "df2.shape"
   ]
  },
  {
   "cell_type": "code",
   "execution_count": 37,
   "id": "c4beefed",
   "metadata": {},
   "outputs": [],
   "source": [
    "# df2.to_csv(\"2016_to_2020_flight_feature_eng_w_Dest.csv\")\n",
    "df2.to_csv(\"2016_to_2020_flight_feature_eng_w_Dest_10_10.csv\")"
   ]
  },
  {
   "cell_type": "code",
   "execution_count": null,
   "id": "71adab1c",
   "metadata": {},
   "outputs": [],
   "source": []
  }
 ],
 "metadata": {
  "kernelspec": {
   "display_name": "Python 3 (ipykernel)",
   "language": "python",
   "name": "python3"
  },
  "language_info": {
   "codemirror_mode": {
    "name": "ipython",
    "version": 3
   },
   "file_extension": ".py",
   "mimetype": "text/x-python",
   "name": "python",
   "nbconvert_exporter": "python",
   "pygments_lexer": "ipython3",
   "version": "3.8.8"
  }
 },
 "nbformat": 4,
 "nbformat_minor": 5
}
